{
  "nbformat": 4,
  "nbformat_minor": 0,
  "metadata": {
    "colab": {
      "name": "Credit Assignment.ipynb",
      "provenance": [],
      "collapsed_sections": []
    },
    "kernelspec": {
      "name": "python3",
      "display_name": "Python 3"
    },
    "language_info": {
      "name": "python"
    }
  },
  "cells": [
    {
      "cell_type": "code",
      "execution_count": 3,
      "metadata": {
        "id": "uznS80NaM8H0"
      },
      "outputs": [],
      "source": [
        "# Importing required libraries\n",
        "import pandas as pd, numpy as np\n",
        "import matplotlib.pyplot as plt, seaborn as sns\n",
        "%matplotlib inline\n",
        "pd.set_option('float_format', '{:.2f}'.format)\n",
        "\n",
        "\n",
        "# Ignore Warnings\n",
        "import warnings\n",
        "warnings.filterwarnings(\"ignore\")\n"
      ]
    },
    {
      "cell_type": "code",
      "source": [
        "# Importing the dataset \"application_data.csv\")\n",
        "inp0 = pd.read_csv(\"application_data.csv\")"
      ],
      "metadata": {
        "id": "RUnGzXHWN9yO"
      },
      "execution_count": 4,
      "outputs": []
    },
    {
      "cell_type": "markdown",
      "source": [
        "## Exploring the application_data Dataset "
      ],
      "metadata": {
        "id": "gzPp1hcq2fsX"
      }
    },
    {
      "cell_type": "code",
      "source": [
        "inp0.head()"
      ],
      "metadata": {
        "colab": {
          "base_uri": "https://localhost:8080/",
          "height": 300
        },
        "id": "t989J7pB2cwN",
        "outputId": "7423bdd2-c10c-4623-871a-f7a1688754e9"
      },
      "execution_count": 5,
      "outputs": [
        {
          "output_type": "execute_result",
          "data": {
            "text/plain": [
              "   SK_ID_CURR  TARGET NAME_CONTRACT_TYPE CODE_GENDER FLAG_OWN_CAR  \\\n",
              "0      100002       1         Cash loans           M            N   \n",
              "1      100003       0         Cash loans           F            N   \n",
              "2      100004       0    Revolving loans           M            Y   \n",
              "3      100006       0         Cash loans           F            N   \n",
              "4      100007       0         Cash loans           M            N   \n",
              "\n",
              "  FLAG_OWN_REALTY  CNT_CHILDREN  AMT_INCOME_TOTAL  AMT_CREDIT  AMT_ANNUITY  \\\n",
              "0               Y             0         202500.00   406597.50     24700.50   \n",
              "1               N             0         270000.00  1293502.50     35698.50   \n",
              "2               Y             0          67500.00   135000.00      6750.00   \n",
              "3               Y             0         135000.00   312682.50     29686.50   \n",
              "4               Y             0         121500.00   513000.00     21865.50   \n",
              "\n",
              "   ...  FLAG_DOCUMENT_18 FLAG_DOCUMENT_19 FLAG_DOCUMENT_20 FLAG_DOCUMENT_21  \\\n",
              "0  ...              0.00             0.00             0.00             0.00   \n",
              "1  ...              0.00             0.00             0.00             0.00   \n",
              "2  ...              0.00             0.00             0.00             0.00   \n",
              "3  ...              0.00             0.00             0.00             0.00   \n",
              "4  ...              0.00             0.00             0.00             0.00   \n",
              "\n",
              "  AMT_REQ_CREDIT_BUREAU_HOUR AMT_REQ_CREDIT_BUREAU_DAY  \\\n",
              "0                       0.00                      0.00   \n",
              "1                       0.00                      0.00   \n",
              "2                       0.00                      0.00   \n",
              "3                        NaN                       NaN   \n",
              "4                       0.00                      0.00   \n",
              "\n",
              "   AMT_REQ_CREDIT_BUREAU_WEEK  AMT_REQ_CREDIT_BUREAU_MON  \\\n",
              "0                        0.00                       0.00   \n",
              "1                        0.00                       0.00   \n",
              "2                        0.00                       0.00   \n",
              "3                         NaN                        NaN   \n",
              "4                        0.00                       0.00   \n",
              "\n",
              "   AMT_REQ_CREDIT_BUREAU_QRT  AMT_REQ_CREDIT_BUREAU_YEAR  \n",
              "0                       0.00                        1.00  \n",
              "1                       0.00                        0.00  \n",
              "2                       0.00                        0.00  \n",
              "3                        NaN                         NaN  \n",
              "4                       0.00                        0.00  \n",
              "\n",
              "[5 rows x 122 columns]"
            ],
            "text/html": [
              "\n",
              "  <div id=\"df-ead60a0f-8aa9-40a1-8165-d592d274ab8b\">\n",
              "    <div class=\"colab-df-container\">\n",
              "      <div>\n",
              "<style scoped>\n",
              "    .dataframe tbody tr th:only-of-type {\n",
              "        vertical-align: middle;\n",
              "    }\n",
              "\n",
              "    .dataframe tbody tr th {\n",
              "        vertical-align: top;\n",
              "    }\n",
              "\n",
              "    .dataframe thead th {\n",
              "        text-align: right;\n",
              "    }\n",
              "</style>\n",
              "<table border=\"1\" class=\"dataframe\">\n",
              "  <thead>\n",
              "    <tr style=\"text-align: right;\">\n",
              "      <th></th>\n",
              "      <th>SK_ID_CURR</th>\n",
              "      <th>TARGET</th>\n",
              "      <th>NAME_CONTRACT_TYPE</th>\n",
              "      <th>CODE_GENDER</th>\n",
              "      <th>FLAG_OWN_CAR</th>\n",
              "      <th>FLAG_OWN_REALTY</th>\n",
              "      <th>CNT_CHILDREN</th>\n",
              "      <th>AMT_INCOME_TOTAL</th>\n",
              "      <th>AMT_CREDIT</th>\n",
              "      <th>AMT_ANNUITY</th>\n",
              "      <th>...</th>\n",
              "      <th>FLAG_DOCUMENT_18</th>\n",
              "      <th>FLAG_DOCUMENT_19</th>\n",
              "      <th>FLAG_DOCUMENT_20</th>\n",
              "      <th>FLAG_DOCUMENT_21</th>\n",
              "      <th>AMT_REQ_CREDIT_BUREAU_HOUR</th>\n",
              "      <th>AMT_REQ_CREDIT_BUREAU_DAY</th>\n",
              "      <th>AMT_REQ_CREDIT_BUREAU_WEEK</th>\n",
              "      <th>AMT_REQ_CREDIT_BUREAU_MON</th>\n",
              "      <th>AMT_REQ_CREDIT_BUREAU_QRT</th>\n",
              "      <th>AMT_REQ_CREDIT_BUREAU_YEAR</th>\n",
              "    </tr>\n",
              "  </thead>\n",
              "  <tbody>\n",
              "    <tr>\n",
              "      <th>0</th>\n",
              "      <td>100002</td>\n",
              "      <td>1</td>\n",
              "      <td>Cash loans</td>\n",
              "      <td>M</td>\n",
              "      <td>N</td>\n",
              "      <td>Y</td>\n",
              "      <td>0</td>\n",
              "      <td>202500.00</td>\n",
              "      <td>406597.50</td>\n",
              "      <td>24700.50</td>\n",
              "      <td>...</td>\n",
              "      <td>0.00</td>\n",
              "      <td>0.00</td>\n",
              "      <td>0.00</td>\n",
              "      <td>0.00</td>\n",
              "      <td>0.00</td>\n",
              "      <td>0.00</td>\n",
              "      <td>0.00</td>\n",
              "      <td>0.00</td>\n",
              "      <td>0.00</td>\n",
              "      <td>1.00</td>\n",
              "    </tr>\n",
              "    <tr>\n",
              "      <th>1</th>\n",
              "      <td>100003</td>\n",
              "      <td>0</td>\n",
              "      <td>Cash loans</td>\n",
              "      <td>F</td>\n",
              "      <td>N</td>\n",
              "      <td>N</td>\n",
              "      <td>0</td>\n",
              "      <td>270000.00</td>\n",
              "      <td>1293502.50</td>\n",
              "      <td>35698.50</td>\n",
              "      <td>...</td>\n",
              "      <td>0.00</td>\n",
              "      <td>0.00</td>\n",
              "      <td>0.00</td>\n",
              "      <td>0.00</td>\n",
              "      <td>0.00</td>\n",
              "      <td>0.00</td>\n",
              "      <td>0.00</td>\n",
              "      <td>0.00</td>\n",
              "      <td>0.00</td>\n",
              "      <td>0.00</td>\n",
              "    </tr>\n",
              "    <tr>\n",
              "      <th>2</th>\n",
              "      <td>100004</td>\n",
              "      <td>0</td>\n",
              "      <td>Revolving loans</td>\n",
              "      <td>M</td>\n",
              "      <td>Y</td>\n",
              "      <td>Y</td>\n",
              "      <td>0</td>\n",
              "      <td>67500.00</td>\n",
              "      <td>135000.00</td>\n",
              "      <td>6750.00</td>\n",
              "      <td>...</td>\n",
              "      <td>0.00</td>\n",
              "      <td>0.00</td>\n",
              "      <td>0.00</td>\n",
              "      <td>0.00</td>\n",
              "      <td>0.00</td>\n",
              "      <td>0.00</td>\n",
              "      <td>0.00</td>\n",
              "      <td>0.00</td>\n",
              "      <td>0.00</td>\n",
              "      <td>0.00</td>\n",
              "    </tr>\n",
              "    <tr>\n",
              "      <th>3</th>\n",
              "      <td>100006</td>\n",
              "      <td>0</td>\n",
              "      <td>Cash loans</td>\n",
              "      <td>F</td>\n",
              "      <td>N</td>\n",
              "      <td>Y</td>\n",
              "      <td>0</td>\n",
              "      <td>135000.00</td>\n",
              "      <td>312682.50</td>\n",
              "      <td>29686.50</td>\n",
              "      <td>...</td>\n",
              "      <td>0.00</td>\n",
              "      <td>0.00</td>\n",
              "      <td>0.00</td>\n",
              "      <td>0.00</td>\n",
              "      <td>NaN</td>\n",
              "      <td>NaN</td>\n",
              "      <td>NaN</td>\n",
              "      <td>NaN</td>\n",
              "      <td>NaN</td>\n",
              "      <td>NaN</td>\n",
              "    </tr>\n",
              "    <tr>\n",
              "      <th>4</th>\n",
              "      <td>100007</td>\n",
              "      <td>0</td>\n",
              "      <td>Cash loans</td>\n",
              "      <td>M</td>\n",
              "      <td>N</td>\n",
              "      <td>Y</td>\n",
              "      <td>0</td>\n",
              "      <td>121500.00</td>\n",
              "      <td>513000.00</td>\n",
              "      <td>21865.50</td>\n",
              "      <td>...</td>\n",
              "      <td>0.00</td>\n",
              "      <td>0.00</td>\n",
              "      <td>0.00</td>\n",
              "      <td>0.00</td>\n",
              "      <td>0.00</td>\n",
              "      <td>0.00</td>\n",
              "      <td>0.00</td>\n",
              "      <td>0.00</td>\n",
              "      <td>0.00</td>\n",
              "      <td>0.00</td>\n",
              "    </tr>\n",
              "  </tbody>\n",
              "</table>\n",
              "<p>5 rows × 122 columns</p>\n",
              "</div>\n",
              "      <button class=\"colab-df-convert\" onclick=\"convertToInteractive('df-ead60a0f-8aa9-40a1-8165-d592d274ab8b')\"\n",
              "              title=\"Convert this dataframe to an interactive table.\"\n",
              "              style=\"display:none;\">\n",
              "        \n",
              "  <svg xmlns=\"http://www.w3.org/2000/svg\" height=\"24px\"viewBox=\"0 0 24 24\"\n",
              "       width=\"24px\">\n",
              "    <path d=\"M0 0h24v24H0V0z\" fill=\"none\"/>\n",
              "    <path d=\"M18.56 5.44l.94 2.06.94-2.06 2.06-.94-2.06-.94-.94-2.06-.94 2.06-2.06.94zm-11 1L8.5 8.5l.94-2.06 2.06-.94-2.06-.94L8.5 2.5l-.94 2.06-2.06.94zm10 10l.94 2.06.94-2.06 2.06-.94-2.06-.94-.94-2.06-.94 2.06-2.06.94z\"/><path d=\"M17.41 7.96l-1.37-1.37c-.4-.4-.92-.59-1.43-.59-.52 0-1.04.2-1.43.59L10.3 9.45l-7.72 7.72c-.78.78-.78 2.05 0 2.83L4 21.41c.39.39.9.59 1.41.59.51 0 1.02-.2 1.41-.59l7.78-7.78 2.81-2.81c.8-.78.8-2.07 0-2.86zM5.41 20L4 18.59l7.72-7.72 1.47 1.35L5.41 20z\"/>\n",
              "  </svg>\n",
              "      </button>\n",
              "      \n",
              "  <style>\n",
              "    .colab-df-container {\n",
              "      display:flex;\n",
              "      flex-wrap:wrap;\n",
              "      gap: 12px;\n",
              "    }\n",
              "\n",
              "    .colab-df-convert {\n",
              "      background-color: #E8F0FE;\n",
              "      border: none;\n",
              "      border-radius: 50%;\n",
              "      cursor: pointer;\n",
              "      display: none;\n",
              "      fill: #1967D2;\n",
              "      height: 32px;\n",
              "      padding: 0 0 0 0;\n",
              "      width: 32px;\n",
              "    }\n",
              "\n",
              "    .colab-df-convert:hover {\n",
              "      background-color: #E2EBFA;\n",
              "      box-shadow: 0px 1px 2px rgba(60, 64, 67, 0.3), 0px 1px 3px 1px rgba(60, 64, 67, 0.15);\n",
              "      fill: #174EA6;\n",
              "    }\n",
              "\n",
              "    [theme=dark] .colab-df-convert {\n",
              "      background-color: #3B4455;\n",
              "      fill: #D2E3FC;\n",
              "    }\n",
              "\n",
              "    [theme=dark] .colab-df-convert:hover {\n",
              "      background-color: #434B5C;\n",
              "      box-shadow: 0px 1px 3px 1px rgba(0, 0, 0, 0.15);\n",
              "      filter: drop-shadow(0px 1px 2px rgba(0, 0, 0, 0.3));\n",
              "      fill: #FFFFFF;\n",
              "    }\n",
              "  </style>\n",
              "\n",
              "      <script>\n",
              "        const buttonEl =\n",
              "          document.querySelector('#df-ead60a0f-8aa9-40a1-8165-d592d274ab8b button.colab-df-convert');\n",
              "        buttonEl.style.display =\n",
              "          google.colab.kernel.accessAllowed ? 'block' : 'none';\n",
              "\n",
              "        async function convertToInteractive(key) {\n",
              "          const element = document.querySelector('#df-ead60a0f-8aa9-40a1-8165-d592d274ab8b');\n",
              "          const dataTable =\n",
              "            await google.colab.kernel.invokeFunction('convertToInteractive',\n",
              "                                                     [key], {});\n",
              "          if (!dataTable) return;\n",
              "\n",
              "          const docLinkHtml = 'Like what you see? Visit the ' +\n",
              "            '<a target=\"_blank\" href=https://colab.research.google.com/notebooks/data_table.ipynb>data table notebook</a>'\n",
              "            + ' to learn more about interactive tables.';\n",
              "          element.innerHTML = '';\n",
              "          dataTable['output_type'] = 'display_data';\n",
              "          await google.colab.output.renderOutput(dataTable, element);\n",
              "          const docLink = document.createElement('div');\n",
              "          docLink.innerHTML = docLinkHtml;\n",
              "          element.appendChild(docLink);\n",
              "        }\n",
              "      </script>\n",
              "    </div>\n",
              "  </div>\n",
              "  "
            ]
          },
          "metadata": {},
          "execution_count": 5
        }
      ]
    },
    {
      "cell_type": "code",
      "source": [
        "# checking the structure of the data\n",
        "inp0.shape"
      ],
      "metadata": {
        "colab": {
          "base_uri": "https://localhost:8080/"
        },
        "id": "5FLVREOD2zCs",
        "outputId": "67461d0f-c0df-43a6-9b30-51da027ed8c1"
      },
      "execution_count": 6,
      "outputs": [
        {
          "output_type": "execute_result",
          "data": {
            "text/plain": [
              "(259337, 122)"
            ]
          },
          "metadata": {},
          "execution_count": 6
        }
      ]
    },
    {
      "cell_type": "code",
      "source": [
        "# checking for the datatype\n",
        "inp0.info(null_counts = True, verbose = True)"
      ],
      "metadata": {
        "colab": {
          "base_uri": "https://localhost:8080/"
        },
        "id": "6seTUUTv21So",
        "outputId": "07c1163e-d0dd-4e93-afa1-c1d779108fd1"
      },
      "execution_count": 7,
      "outputs": [
        {
          "output_type": "stream",
          "name": "stdout",
          "text": [
            "<class 'pandas.core.frame.DataFrame'>\n",
            "RangeIndex: 259337 entries, 0 to 259336\n",
            "Data columns (total 122 columns):\n",
            " #    Column                        Non-Null Count   Dtype  \n",
            "---   ------                        --------------   -----  \n",
            " 0    SK_ID_CURR                    259337 non-null  int64  \n",
            " 1    TARGET                        259337 non-null  int64  \n",
            " 2    NAME_CONTRACT_TYPE            259337 non-null  object \n",
            " 3    CODE_GENDER                   259337 non-null  object \n",
            " 4    FLAG_OWN_CAR                  259337 non-null  object \n",
            " 5    FLAG_OWN_REALTY               259337 non-null  object \n",
            " 6    CNT_CHILDREN                  259337 non-null  int64  \n",
            " 7    AMT_INCOME_TOTAL              259337 non-null  float64\n",
            " 8    AMT_CREDIT                    259337 non-null  float64\n",
            " 9    AMT_ANNUITY                   259325 non-null  float64\n",
            " 10   AMT_GOODS_PRICE               259114 non-null  float64\n",
            " 11   NAME_TYPE_SUITE               258283 non-null  object \n",
            " 12   NAME_INCOME_TYPE              259337 non-null  object \n",
            " 13   NAME_EDUCATION_TYPE           259337 non-null  object \n",
            " 14   NAME_FAMILY_STATUS            259337 non-null  object \n",
            " 15   NAME_HOUSING_TYPE             259337 non-null  object \n",
            " 16   REGION_POPULATION_RELATIVE    259337 non-null  float64\n",
            " 17   DAYS_BIRTH                    259337 non-null  int64  \n",
            " 18   DAYS_EMPLOYED                 259336 non-null  float64\n",
            " 19   DAYS_REGISTRATION             259336 non-null  float64\n",
            " 20   DAYS_ID_PUBLISH               259336 non-null  float64\n",
            " 21   OWN_CAR_AGE                   88052 non-null   float64\n",
            " 22   FLAG_MOBIL                    259336 non-null  float64\n",
            " 23   FLAG_EMP_PHONE                259336 non-null  float64\n",
            " 24   FLAG_WORK_PHONE               259336 non-null  float64\n",
            " 25   FLAG_CONT_MOBILE              259336 non-null  float64\n",
            " 26   FLAG_PHONE                    259336 non-null  float64\n",
            " 27   FLAG_EMAIL                    259336 non-null  float64\n",
            " 28   OCCUPATION_TYPE               178036 non-null  object \n",
            " 29   CNT_FAM_MEMBERS               259334 non-null  float64\n",
            " 30   REGION_RATING_CLIENT          259336 non-null  float64\n",
            " 31   REGION_RATING_CLIENT_W_CITY   259336 non-null  float64\n",
            " 32   WEEKDAY_APPR_PROCESS_START    259336 non-null  object \n",
            " 33   HOUR_APPR_PROCESS_START       259336 non-null  float64\n",
            " 34   REG_REGION_NOT_LIVE_REGION    259336 non-null  float64\n",
            " 35   REG_REGION_NOT_WORK_REGION    259336 non-null  float64\n",
            " 36   LIVE_REGION_NOT_WORK_REGION   259336 non-null  float64\n",
            " 37   REG_CITY_NOT_LIVE_CITY        259336 non-null  float64\n",
            " 38   REG_CITY_NOT_WORK_CITY        259336 non-null  float64\n",
            " 39   LIVE_CITY_NOT_WORK_CITY       259336 non-null  float64\n",
            " 40   ORGANIZATION_TYPE             259336 non-null  object \n",
            " 41   EXT_SOURCE_1                  113161 non-null  float64\n",
            " 42   EXT_SOURCE_2                  258779 non-null  float64\n",
            " 43   EXT_SOURCE_3                  207884 non-null  float64\n",
            " 44   APARTMENTS_AVG                127548 non-null  float64\n",
            " 45   BASEMENTAREA_AVG              107409 non-null  float64\n",
            " 46   YEARS_BEGINEXPLUATATION_AVG   132747 non-null  float64\n",
            " 47   YEARS_BUILD_AVG               86812 non-null   float64\n",
            " 48   COMMONAREA_AVG                78041 non-null   float64\n",
            " 49   ELEVATORS_AVG                 120990 non-null  float64\n",
            " 50   ENTRANCES_AVG                 128649 non-null  float64\n",
            " 51   FLOORSMAX_AVG                 130186 non-null  float64\n",
            " 52   FLOORSMIN_AVG                 83293 non-null   float64\n",
            " 53   LANDAREA_AVG                  105186 non-null  float64\n",
            " 54   LIVINGAPARTMENTS_AVG          81967 non-null   float64\n",
            " 55   LIVINGAREA_AVG                129060 non-null  float64\n",
            " 56   NONLIVINGAPARTMENTS_AVG       79207 non-null   float64\n",
            " 57   NONLIVINGAREA_AVG             116145 non-null  float64\n",
            " 58   APARTMENTS_MODE               127548 non-null  float64\n",
            " 59   BASEMENTAREA_MODE             107409 non-null  float64\n",
            " 60   YEARS_BEGINEXPLUATATION_MODE  132747 non-null  float64\n",
            " 61   YEARS_BUILD_MODE              86812 non-null   float64\n",
            " 62   COMMONAREA_MODE               78041 non-null   float64\n",
            " 63   ELEVATORS_MODE                120990 non-null  float64\n",
            " 64   ENTRANCES_MODE                128649 non-null  float64\n",
            " 65   FLOORSMAX_MODE                130186 non-null  float64\n",
            " 66   FLOORSMIN_MODE                83293 non-null   float64\n",
            " 67   LANDAREA_MODE                 105186 non-null  float64\n",
            " 68   LIVINGAPARTMENTS_MODE         81967 non-null   float64\n",
            " 69   LIVINGAREA_MODE               129060 non-null  float64\n",
            " 70   NONLIVINGAPARTMENTS_MODE      79207 non-null   float64\n",
            " 71   NONLIVINGAREA_MODE            116145 non-null  float64\n",
            " 72   APARTMENTS_MEDI               127548 non-null  float64\n",
            " 73   BASEMENTAREA_MEDI             107409 non-null  float64\n",
            " 74   YEARS_BEGINEXPLUATATION_MEDI  132747 non-null  float64\n",
            " 75   YEARS_BUILD_MEDI              86812 non-null   float64\n",
            " 76   COMMONAREA_MEDI               78041 non-null   float64\n",
            " 77   ELEVATORS_MEDI                120990 non-null  float64\n",
            " 78   ENTRANCES_MEDI                128649 non-null  float64\n",
            " 79   FLOORSMAX_MEDI                130186 non-null  float64\n",
            " 80   FLOORSMIN_MEDI                83293 non-null   float64\n",
            " 81   LANDAREA_MEDI                 105186 non-null  float64\n",
            " 82   LIVINGAPARTMENTS_MEDI         81967 non-null   float64\n",
            " 83   LIVINGAREA_MEDI               129060 non-null  float64\n",
            " 84   NONLIVINGAPARTMENTS_MEDI      79207 non-null   float64\n",
            " 85   NONLIVINGAREA_MEDI            116145 non-null  float64\n",
            " 86   FONDKAPREMONT_MODE            81901 non-null   object \n",
            " 87   HOUSETYPE_MODE                129048 non-null  object \n",
            " 88   TOTALAREA_MODE                134069 non-null  float64\n",
            " 89   WALLSMATERIAL_MODE            127363 non-null  object \n",
            " 90   EMERGENCYSTATE_MODE           136338 non-null  object \n",
            " 91   OBS_30_CNT_SOCIAL_CIRCLE      258476 non-null  float64\n",
            " 92   DEF_30_CNT_SOCIAL_CIRCLE      258476 non-null  float64\n",
            " 93   OBS_60_CNT_SOCIAL_CIRCLE      258476 non-null  float64\n",
            " 94   DEF_60_CNT_SOCIAL_CIRCLE      258476 non-null  float64\n",
            " 95   DAYS_LAST_PHONE_CHANGE        259335 non-null  float64\n",
            " 96   FLAG_DOCUMENT_2               259336 non-null  float64\n",
            " 97   FLAG_DOCUMENT_3               259336 non-null  float64\n",
            " 98   FLAG_DOCUMENT_4               259336 non-null  float64\n",
            " 99   FLAG_DOCUMENT_5               259336 non-null  float64\n",
            " 100  FLAG_DOCUMENT_6               259336 non-null  float64\n",
            " 101  FLAG_DOCUMENT_7               259336 non-null  float64\n",
            " 102  FLAG_DOCUMENT_8               259336 non-null  float64\n",
            " 103  FLAG_DOCUMENT_9               259336 non-null  float64\n",
            " 104  FLAG_DOCUMENT_10              259336 non-null  float64\n",
            " 105  FLAG_DOCUMENT_11              259336 non-null  float64\n",
            " 106  FLAG_DOCUMENT_12              259336 non-null  float64\n",
            " 107  FLAG_DOCUMENT_13              259336 non-null  float64\n",
            " 108  FLAG_DOCUMENT_14              259336 non-null  float64\n",
            " 109  FLAG_DOCUMENT_15              259336 non-null  float64\n",
            " 110  FLAG_DOCUMENT_16              259336 non-null  float64\n",
            " 111  FLAG_DOCUMENT_17              259336 non-null  float64\n",
            " 112  FLAG_DOCUMENT_18              259336 non-null  float64\n",
            " 113  FLAG_DOCUMENT_19              259336 non-null  float64\n",
            " 114  FLAG_DOCUMENT_20              259336 non-null  float64\n",
            " 115  FLAG_DOCUMENT_21              259336 non-null  float64\n",
            " 116  AMT_REQ_CREDIT_BUREAU_HOUR    224275 non-null  float64\n",
            " 117  AMT_REQ_CREDIT_BUREAU_DAY     224275 non-null  float64\n",
            " 118  AMT_REQ_CREDIT_BUREAU_WEEK    224275 non-null  float64\n",
            " 119  AMT_REQ_CREDIT_BUREAU_MON     224275 non-null  float64\n",
            " 120  AMT_REQ_CREDIT_BUREAU_QRT     224275 non-null  float64\n",
            " 121  AMT_REQ_CREDIT_BUREAU_YEAR    224275 non-null  float64\n",
            "dtypes: float64(102), int64(4), object(16)\n",
            "memory usage: 241.4+ MB\n"
          ]
        }
      ]
    },
    {
      "cell_type": "markdown",
      "source": [
        "There are around 307k rows and 122 columns.\n",
        "\n",
        "Of the total 122 columns, there are 106 columns with numerical data type(float64 - 84 and int64 - 22) and 16 columns with object datatype"
      ],
      "metadata": {
        "id": "G1xh6dYIIDl0"
      }
    },
    {
      "cell_type": "code",
      "source": [
        "# setting the max rows to 122\n",
        "pd.set_option('display.max.columns',122)"
      ],
      "metadata": {
        "id": "-76e6ZAbMm1D"
      },
      "execution_count": 8,
      "outputs": []
    },
    {
      "cell_type": "code",
      "source": [
        "# statistical summary of numerical data\n",
        "inp0.describe()\n"
      ],
      "metadata": {
        "colab": {
          "base_uri": "https://localhost:8080/",
          "height": 364
        },
        "id": "-YVna1t-I5Dk",
        "outputId": "88eacd36-ac36-4d06-dfbe-97f0fac8608c"
      },
      "execution_count": 9,
      "outputs": [
        {
          "output_type": "execute_result",
          "data": {
            "text/plain": [
              "       SK_ID_CURR    TARGET  CNT_CHILDREN  AMT_INCOME_TOTAL  AMT_CREDIT  \\\n",
              "count   259337.00 259337.00     259337.00         259337.00   259337.00   \n",
              "mean    250286.96      0.08          0.42         168842.33   598668.59   \n",
              "std      86680.80      0.27          0.72         254607.73   402043.63   \n",
              "min     100002.00      0.00          0.00          25650.00    45000.00   \n",
              "25%     175182.00      0.00          0.00         112500.00   270000.00   \n",
              "50%     250397.00      0.00          0.00         146771.91   513000.00   \n",
              "75%     325534.00      0.00          1.00         202500.00   808650.00   \n",
              "max     400130.00      1.00         19.00      117000000.00  4050000.00   \n",
              "\n",
              "       AMT_ANNUITY  AMT_GOODS_PRICE  REGION_POPULATION_RELATIVE  DAYS_BIRTH  \\\n",
              "count    259325.00        259114.00                   259337.00   259337.00   \n",
              "mean      27107.47        538002.03                        0.02   -16040.67   \n",
              "std       14489.21        368986.79                        0.01     4369.11   \n",
              "min        1980.00         45000.00                        0.00   -25201.00   \n",
              "25%       16524.00        238500.00                        0.01   -19689.00   \n",
              "50%       24903.00        450000.00                        0.02   -15753.00   \n",
              "75%       34600.50        679500.00                        0.03   -12412.00   \n",
              "max      258025.50       4050000.00                        0.07    -1417.00   \n",
              "\n",
              "       DAYS_EMPLOYED  DAYS_REGISTRATION  DAYS_ID_PUBLISH  OWN_CAR_AGE  \\\n",
              "count      259336.00          259336.00        259336.00     88052.00   \n",
              "mean        63911.55           -4989.83         -2994.67        12.07   \n",
              "std        141357.73            3525.21          1509.91        11.96   \n",
              "min        -17546.00          -24672.00         -7197.00         0.00   \n",
              "25%         -2764.00           -7486.00         -4300.00         5.00   \n",
              "50%         -1212.00           -4503.00         -3255.50         9.00   \n",
              "75%          -288.00           -2011.00         -1718.00        15.00   \n",
              "max        365243.00               0.00             0.00        69.00   \n",
              "\n",
              "       FLAG_MOBIL  FLAG_EMP_PHONE  FLAG_WORK_PHONE  FLAG_CONT_MOBILE  \\\n",
              "count   259336.00       259336.00        259336.00         259336.00   \n",
              "mean         1.00            0.82             0.20              1.00   \n",
              "std          0.00            0.38             0.40              0.04   \n",
              "min          0.00            0.00             0.00              0.00   \n",
              "25%          1.00            1.00             0.00              1.00   \n",
              "50%          1.00            1.00             0.00              1.00   \n",
              "75%          1.00            1.00             0.00              1.00   \n",
              "max          1.00            1.00             1.00              1.00   \n",
              "\n",
              "       FLAG_PHONE  FLAG_EMAIL  CNT_FAM_MEMBERS  REGION_RATING_CLIENT  \\\n",
              "count   259336.00   259336.00        259334.00             259336.00   \n",
              "mean         0.28        0.06             2.15                  2.05   \n",
              "std          0.45        0.23             0.91                  0.51   \n",
              "min          0.00        0.00             1.00                  1.00   \n",
              "25%          0.00        0.00             2.00                  2.00   \n",
              "50%          0.00        0.00             2.00                  2.00   \n",
              "75%          1.00        0.00             3.00                  2.00   \n",
              "max          1.00        1.00            20.00                  3.00   \n",
              "\n",
              "       REGION_RATING_CLIENT_W_CITY  HOUR_APPR_PROCESS_START  \\\n",
              "count                    259336.00                259336.00   \n",
              "mean                          2.03                    12.06   \n",
              "std                           0.50                     3.27   \n",
              "min                           1.00                     0.00   \n",
              "25%                           2.00                    10.00   \n",
              "50%                           2.00                    12.00   \n",
              "75%                           2.00                    14.00   \n",
              "max                           3.00                    23.00   \n",
              "\n",
              "       REG_REGION_NOT_LIVE_REGION  REG_REGION_NOT_WORK_REGION  \\\n",
              "count                   259336.00                   259336.00   \n",
              "mean                         0.02                        0.05   \n",
              "std                          0.12                        0.22   \n",
              "min                          0.00                        0.00   \n",
              "25%                          0.00                        0.00   \n",
              "50%                          0.00                        0.00   \n",
              "75%                          0.00                        0.00   \n",
              "max                          1.00                        1.00   \n",
              "\n",
              "       LIVE_REGION_NOT_WORK_REGION  REG_CITY_NOT_LIVE_CITY  \\\n",
              "count                    259336.00               259336.00   \n",
              "mean                          0.04                    0.08   \n",
              "std                           0.20                    0.27   \n",
              "min                           0.00                    0.00   \n",
              "25%                           0.00                    0.00   \n",
              "50%                           0.00                    0.00   \n",
              "75%                           0.00                    0.00   \n",
              "max                           1.00                    1.00   \n",
              "\n",
              "       REG_CITY_NOT_WORK_CITY  LIVE_CITY_NOT_WORK_CITY  EXT_SOURCE_1  \\\n",
              "count               259336.00                259336.00     113161.00   \n",
              "mean                     0.23                     0.18          0.50   \n",
              "std                      0.42                     0.38          0.21   \n",
              "min                      0.00                     0.00          0.01   \n",
              "25%                      0.00                     0.00          0.33   \n",
              "50%                      0.00                     0.00          0.51   \n",
              "75%                      0.00                     0.00          0.67   \n",
              "max                      1.00                     1.00          0.96   \n",
              "\n",
              "       EXT_SOURCE_2  EXT_SOURCE_3  APARTMENTS_AVG  BASEMENTAREA_AVG  \\\n",
              "count     258779.00     207884.00       127548.00         107409.00   \n",
              "mean           0.51          0.51            0.12              0.09   \n",
              "std            0.19          0.19            0.11              0.08   \n",
              "min            0.00          0.00            0.00              0.00   \n",
              "25%            0.39          0.37            0.06              0.04   \n",
              "50%            0.57          0.54            0.09              0.08   \n",
              "75%            0.66          0.67            0.15              0.11   \n",
              "max            0.85          0.90            1.00              1.00   \n",
              "\n",
              "       YEARS_BEGINEXPLUATATION_AVG  YEARS_BUILD_AVG  COMMONAREA_AVG  \\\n",
              "count                    132747.00         86812.00        78041.00   \n",
              "mean                          0.98             0.75            0.04   \n",
              "std                           0.06             0.11            0.08   \n",
              "min                           0.00             0.00            0.00   \n",
              "25%                           0.98             0.69            0.01   \n",
              "50%                           0.98             0.76            0.02   \n",
              "75%                           0.99             0.82            0.05   \n",
              "max                           1.00             1.00            1.00   \n",
              "\n",
              "       ELEVATORS_AVG  ENTRANCES_AVG  FLOORSMAX_AVG  FLOORSMIN_AVG  \\\n",
              "count      120990.00      128649.00      130186.00       83293.00   \n",
              "mean            0.08           0.15           0.23           0.23   \n",
              "std             0.13           0.10           0.14           0.16   \n",
              "min             0.00           0.00           0.00           0.00   \n",
              "25%             0.00           0.07           0.17           0.08   \n",
              "50%             0.00           0.14           0.17           0.21   \n",
              "75%             0.12           0.21           0.33           0.38   \n",
              "max             1.00           1.00           1.00           1.00   \n",
              "\n",
              "       LANDAREA_AVG  LIVINGAPARTMENTS_AVG  LIVINGAREA_AVG  \\\n",
              "count     105186.00              81967.00       129060.00   \n",
              "mean           0.07                  0.10            0.11   \n",
              "std            0.08                  0.09            0.11   \n",
              "min            0.00                  0.00            0.00   \n",
              "25%            0.02                  0.05            0.05   \n",
              "50%            0.05                  0.08            0.07   \n",
              "75%            0.09                  0.12            0.13   \n",
              "max            1.00                  1.00            1.00   \n",
              "\n",
              "       NONLIVINGAPARTMENTS_AVG  NONLIVINGAREA_AVG  APARTMENTS_MODE  \\\n",
              "count                 79207.00          116145.00        127548.00   \n",
              "mean                      0.01               0.03             0.11   \n",
              "std                       0.05               0.07             0.11   \n",
              "min                       0.00               0.00             0.00   \n",
              "25%                       0.00               0.00             0.05   \n",
              "50%                       0.00               0.00             0.08   \n",
              "75%                       0.00               0.03             0.14   \n",
              "max                       1.00               1.00             1.00   \n",
              "\n",
              "       BASEMENTAREA_MODE  YEARS_BEGINEXPLUATATION_MODE  YEARS_BUILD_MODE  \\\n",
              "count          107409.00                     132747.00          86812.00   \n",
              "mean                0.09                          0.98              0.76   \n",
              "std                 0.08                          0.06              0.11   \n",
              "min                 0.00                          0.00              0.00   \n",
              "25%                 0.04                          0.98              0.70   \n",
              "50%                 0.07                          0.98              0.76   \n",
              "75%                 0.11                          0.99              0.82   \n",
              "max                 1.00                          1.00              1.00   \n",
              "\n",
              "       COMMONAREA_MODE  ELEVATORS_MODE  ENTRANCES_MODE  FLOORSMAX_MODE  \\\n",
              "count         78041.00       120990.00       128649.00       130186.00   \n",
              "mean              0.04            0.07            0.15            0.22   \n",
              "std               0.07            0.13            0.10            0.14   \n",
              "min               0.00            0.00            0.00            0.00   \n",
              "25%               0.01            0.00            0.07            0.17   \n",
              "50%               0.02            0.00            0.14            0.17   \n",
              "75%               0.05            0.12            0.21            0.33   \n",
              "max               1.00            1.00            1.00            1.00   \n",
              "\n",
              "       FLOORSMIN_MODE  LANDAREA_MODE  LIVINGAPARTMENTS_MODE  LIVINGAREA_MODE  \\\n",
              "count        83293.00      105186.00               81967.00        129060.00   \n",
              "mean             0.23           0.06                   0.11             0.11   \n",
              "std              0.16           0.08                   0.10             0.11   \n",
              "min              0.00           0.00                   0.00             0.00   \n",
              "25%              0.08           0.02                   0.05             0.04   \n",
              "50%              0.21           0.05                   0.08             0.07   \n",
              "75%              0.38           0.08                   0.13             0.12   \n",
              "max              1.00           1.00                   1.00             1.00   \n",
              "\n",
              "       NONLIVINGAPARTMENTS_MODE  NONLIVINGAREA_MODE  APARTMENTS_MEDI  \\\n",
              "count                  79207.00           116145.00        127548.00   \n",
              "mean                       0.01                0.03             0.12   \n",
              "std                        0.05                0.07             0.11   \n",
              "min                        0.00                0.00             0.00   \n",
              "25%                        0.00                0.00             0.06   \n",
              "50%                        0.00                0.00             0.09   \n",
              "75%                        0.00                0.02             0.15   \n",
              "max                        1.00                1.00             1.00   \n",
              "\n",
              "       BASEMENTAREA_MEDI  YEARS_BEGINEXPLUATATION_MEDI  YEARS_BUILD_MEDI  \\\n",
              "count          107409.00                     132747.00          86812.00   \n",
              "mean                0.09                          0.98              0.76   \n",
              "std                 0.08                          0.06              0.11   \n",
              "min                 0.00                          0.00              0.00   \n",
              "25%                 0.04                          0.98              0.69   \n",
              "50%                 0.08                          0.98              0.76   \n",
              "75%                 0.11                          0.99              0.83   \n",
              "max                 1.00                          1.00              1.00   \n",
              "\n",
              "       COMMONAREA_MEDI  ELEVATORS_MEDI  ENTRANCES_MEDI  FLOORSMAX_MEDI  \\\n",
              "count         78041.00       120990.00       128649.00       130186.00   \n",
              "mean              0.04            0.08            0.15            0.23   \n",
              "std               0.08            0.13            0.10            0.14   \n",
              "min               0.00            0.00            0.00            0.00   \n",
              "25%               0.01            0.00            0.07            0.17   \n",
              "50%               0.02            0.00            0.14            0.17   \n",
              "75%               0.05            0.12            0.21            0.33   \n",
              "max               1.00            1.00            1.00            1.00   \n",
              "\n",
              "       FLOORSMIN_MEDI  LANDAREA_MEDI  LIVINGAPARTMENTS_MEDI  LIVINGAREA_MEDI  \\\n",
              "count        83293.00      105186.00               81967.00        129060.00   \n",
              "mean             0.23           0.07                   0.10             0.11   \n",
              "std              0.16           0.08                   0.09             0.11   \n",
              "min              0.00           0.00                   0.00             0.00   \n",
              "25%              0.08           0.02                   0.05             0.05   \n",
              "50%              0.21           0.05                   0.08             0.07   \n",
              "75%              0.38           0.09                   0.12             0.13   \n",
              "max              1.00           1.00                   1.00             1.00   \n",
              "\n",
              "       NONLIVINGAPARTMENTS_MEDI  NONLIVINGAREA_MEDI  TOTALAREA_MODE  \\\n",
              "count                  79207.00           116145.00       134069.00   \n",
              "mean                       0.01                0.03            0.10   \n",
              "std                        0.05                0.07            0.11   \n",
              "min                        0.00                0.00            0.00   \n",
              "25%                        0.00                0.00            0.04   \n",
              "50%                        0.00                0.00            0.07   \n",
              "75%                        0.00                0.03            0.13   \n",
              "max                        1.00                1.00            1.00   \n",
              "\n",
              "       OBS_30_CNT_SOCIAL_CIRCLE  DEF_30_CNT_SOCIAL_CIRCLE  \\\n",
              "count                 258476.00                 258476.00   \n",
              "mean                       1.43                      0.14   \n",
              "std                        2.42                      0.45   \n",
              "min                        0.00                      0.00   \n",
              "25%                        0.00                      0.00   \n",
              "50%                        0.00                      0.00   \n",
              "75%                        2.00                      0.00   \n",
              "max                      348.00                     34.00   \n",
              "\n",
              "       OBS_60_CNT_SOCIAL_CIRCLE  DEF_60_CNT_SOCIAL_CIRCLE  \\\n",
              "count                 258476.00                 258476.00   \n",
              "mean                       1.41                      0.10   \n",
              "std                        2.40                      0.36   \n",
              "min                        0.00                      0.00   \n",
              "25%                        0.00                      0.00   \n",
              "50%                        0.00                      0.00   \n",
              "75%                        2.00                      0.00   \n",
              "max                      344.00                     24.00   \n",
              "\n",
              "       DAYS_LAST_PHONE_CHANGE  FLAG_DOCUMENT_2  FLAG_DOCUMENT_3  \\\n",
              "count               259335.00        259336.00        259336.00   \n",
              "mean                  -963.68             0.00             0.71   \n",
              "std                    826.62             0.01             0.45   \n",
              "min                  -4292.00             0.00             0.00   \n",
              "25%                  -1570.00             0.00             0.00   \n",
              "50%                   -757.00             0.00             1.00   \n",
              "75%                   -275.00             0.00             1.00   \n",
              "max                      0.00             1.00             1.00   \n",
              "\n",
              "       FLAG_DOCUMENT_4  FLAG_DOCUMENT_5  FLAG_DOCUMENT_6  FLAG_DOCUMENT_7  \\\n",
              "count        259336.00        259336.00        259336.00        259336.00   \n",
              "mean              0.00             0.02             0.09             0.00   \n",
              "std               0.01             0.12             0.28             0.01   \n",
              "min               0.00             0.00             0.00             0.00   \n",
              "25%               0.00             0.00             0.00             0.00   \n",
              "50%               0.00             0.00             0.00             0.00   \n",
              "75%               0.00             0.00             0.00             0.00   \n",
              "max               1.00             1.00             1.00             1.00   \n",
              "\n",
              "       FLAG_DOCUMENT_8  FLAG_DOCUMENT_9  FLAG_DOCUMENT_10  FLAG_DOCUMENT_11  \\\n",
              "count        259336.00        259336.00         259336.00         259336.00   \n",
              "mean              0.08             0.00              0.00              0.00   \n",
              "std               0.27             0.06              0.00              0.06   \n",
              "min               0.00             0.00              0.00              0.00   \n",
              "25%               0.00             0.00              0.00              0.00   \n",
              "50%               0.00             0.00              0.00              0.00   \n",
              "75%               0.00             0.00              0.00              0.00   \n",
              "max               1.00             1.00              1.00              1.00   \n",
              "\n",
              "       FLAG_DOCUMENT_12  FLAG_DOCUMENT_13  FLAG_DOCUMENT_14  FLAG_DOCUMENT_15  \\\n",
              "count         259336.00         259336.00         259336.00         259336.00   \n",
              "mean               0.00              0.00              0.00              0.00   \n",
              "std                0.00              0.06              0.05              0.03   \n",
              "min                0.00              0.00              0.00              0.00   \n",
              "25%                0.00              0.00              0.00              0.00   \n",
              "50%                0.00              0.00              0.00              0.00   \n",
              "75%                0.00              0.00              0.00              0.00   \n",
              "max                1.00              1.00              1.00              1.00   \n",
              "\n",
              "       FLAG_DOCUMENT_16  FLAG_DOCUMENT_17  FLAG_DOCUMENT_18  FLAG_DOCUMENT_19  \\\n",
              "count         259336.00         259336.00         259336.00         259336.00   \n",
              "mean               0.01              0.00              0.01              0.00   \n",
              "std                0.10              0.02              0.09              0.02   \n",
              "min                0.00              0.00              0.00              0.00   \n",
              "25%                0.00              0.00              0.00              0.00   \n",
              "50%                0.00              0.00              0.00              0.00   \n",
              "75%                0.00              0.00              0.00              0.00   \n",
              "max                1.00              1.00              1.00              1.00   \n",
              "\n",
              "       FLAG_DOCUMENT_20  FLAG_DOCUMENT_21  AMT_REQ_CREDIT_BUREAU_HOUR  \\\n",
              "count         259336.00         259336.00                   224275.00   \n",
              "mean               0.00              0.00                        0.01   \n",
              "std                0.02              0.02                        0.08   \n",
              "min                0.00              0.00                        0.00   \n",
              "25%                0.00              0.00                        0.00   \n",
              "50%                0.00              0.00                        0.00   \n",
              "75%                0.00              0.00                        0.00   \n",
              "max                1.00              1.00                        4.00   \n",
              "\n",
              "       AMT_REQ_CREDIT_BUREAU_DAY  AMT_REQ_CREDIT_BUREAU_WEEK  \\\n",
              "count                  224275.00                   224275.00   \n",
              "mean                        0.01                        0.03   \n",
              "std                         0.11                        0.21   \n",
              "min                         0.00                        0.00   \n",
              "25%                         0.00                        0.00   \n",
              "50%                         0.00                        0.00   \n",
              "75%                         0.00                        0.00   \n",
              "max                         9.00                        8.00   \n",
              "\n",
              "       AMT_REQ_CREDIT_BUREAU_MON  AMT_REQ_CREDIT_BUREAU_QRT  \\\n",
              "count                  224275.00                  224275.00   \n",
              "mean                        0.27                       0.27   \n",
              "std                         0.91                       0.82   \n",
              "min                         0.00                       0.00   \n",
              "25%                         0.00                       0.00   \n",
              "50%                         0.00                       0.00   \n",
              "75%                         0.00                       0.00   \n",
              "max                        27.00                     261.00   \n",
              "\n",
              "       AMT_REQ_CREDIT_BUREAU_YEAR  \n",
              "count                   224275.00  \n",
              "mean                         1.91  \n",
              "std                          1.87  \n",
              "min                          0.00  \n",
              "25%                          0.00  \n",
              "50%                          1.00  \n",
              "75%                          3.00  \n",
              "max                         25.00  "
            ],
            "text/html": [
              "\n",
              "  <div id=\"df-9fb5b683-f824-4be8-8d9d-a0729356d879\">\n",
              "    <div class=\"colab-df-container\">\n",
              "      <div>\n",
              "<style scoped>\n",
              "    .dataframe tbody tr th:only-of-type {\n",
              "        vertical-align: middle;\n",
              "    }\n",
              "\n",
              "    .dataframe tbody tr th {\n",
              "        vertical-align: top;\n",
              "    }\n",
              "\n",
              "    .dataframe thead th {\n",
              "        text-align: right;\n",
              "    }\n",
              "</style>\n",
              "<table border=\"1\" class=\"dataframe\">\n",
              "  <thead>\n",
              "    <tr style=\"text-align: right;\">\n",
              "      <th></th>\n",
              "      <th>SK_ID_CURR</th>\n",
              "      <th>TARGET</th>\n",
              "      <th>CNT_CHILDREN</th>\n",
              "      <th>AMT_INCOME_TOTAL</th>\n",
              "      <th>AMT_CREDIT</th>\n",
              "      <th>AMT_ANNUITY</th>\n",
              "      <th>AMT_GOODS_PRICE</th>\n",
              "      <th>REGION_POPULATION_RELATIVE</th>\n",
              "      <th>DAYS_BIRTH</th>\n",
              "      <th>DAYS_EMPLOYED</th>\n",
              "      <th>DAYS_REGISTRATION</th>\n",
              "      <th>DAYS_ID_PUBLISH</th>\n",
              "      <th>OWN_CAR_AGE</th>\n",
              "      <th>FLAG_MOBIL</th>\n",
              "      <th>FLAG_EMP_PHONE</th>\n",
              "      <th>FLAG_WORK_PHONE</th>\n",
              "      <th>FLAG_CONT_MOBILE</th>\n",
              "      <th>FLAG_PHONE</th>\n",
              "      <th>FLAG_EMAIL</th>\n",
              "      <th>CNT_FAM_MEMBERS</th>\n",
              "      <th>REGION_RATING_CLIENT</th>\n",
              "      <th>REGION_RATING_CLIENT_W_CITY</th>\n",
              "      <th>HOUR_APPR_PROCESS_START</th>\n",
              "      <th>REG_REGION_NOT_LIVE_REGION</th>\n",
              "      <th>REG_REGION_NOT_WORK_REGION</th>\n",
              "      <th>LIVE_REGION_NOT_WORK_REGION</th>\n",
              "      <th>REG_CITY_NOT_LIVE_CITY</th>\n",
              "      <th>REG_CITY_NOT_WORK_CITY</th>\n",
              "      <th>LIVE_CITY_NOT_WORK_CITY</th>\n",
              "      <th>EXT_SOURCE_1</th>\n",
              "      <th>EXT_SOURCE_2</th>\n",
              "      <th>EXT_SOURCE_3</th>\n",
              "      <th>APARTMENTS_AVG</th>\n",
              "      <th>BASEMENTAREA_AVG</th>\n",
              "      <th>YEARS_BEGINEXPLUATATION_AVG</th>\n",
              "      <th>YEARS_BUILD_AVG</th>\n",
              "      <th>COMMONAREA_AVG</th>\n",
              "      <th>ELEVATORS_AVG</th>\n",
              "      <th>ENTRANCES_AVG</th>\n",
              "      <th>FLOORSMAX_AVG</th>\n",
              "      <th>FLOORSMIN_AVG</th>\n",
              "      <th>LANDAREA_AVG</th>\n",
              "      <th>LIVINGAPARTMENTS_AVG</th>\n",
              "      <th>LIVINGAREA_AVG</th>\n",
              "      <th>NONLIVINGAPARTMENTS_AVG</th>\n",
              "      <th>NONLIVINGAREA_AVG</th>\n",
              "      <th>APARTMENTS_MODE</th>\n",
              "      <th>BASEMENTAREA_MODE</th>\n",
              "      <th>YEARS_BEGINEXPLUATATION_MODE</th>\n",
              "      <th>YEARS_BUILD_MODE</th>\n",
              "      <th>COMMONAREA_MODE</th>\n",
              "      <th>ELEVATORS_MODE</th>\n",
              "      <th>ENTRANCES_MODE</th>\n",
              "      <th>FLOORSMAX_MODE</th>\n",
              "      <th>FLOORSMIN_MODE</th>\n",
              "      <th>LANDAREA_MODE</th>\n",
              "      <th>LIVINGAPARTMENTS_MODE</th>\n",
              "      <th>LIVINGAREA_MODE</th>\n",
              "      <th>NONLIVINGAPARTMENTS_MODE</th>\n",
              "      <th>NONLIVINGAREA_MODE</th>\n",
              "      <th>APARTMENTS_MEDI</th>\n",
              "      <th>BASEMENTAREA_MEDI</th>\n",
              "      <th>YEARS_BEGINEXPLUATATION_MEDI</th>\n",
              "      <th>YEARS_BUILD_MEDI</th>\n",
              "      <th>COMMONAREA_MEDI</th>\n",
              "      <th>ELEVATORS_MEDI</th>\n",
              "      <th>ENTRANCES_MEDI</th>\n",
              "      <th>FLOORSMAX_MEDI</th>\n",
              "      <th>FLOORSMIN_MEDI</th>\n",
              "      <th>LANDAREA_MEDI</th>\n",
              "      <th>LIVINGAPARTMENTS_MEDI</th>\n",
              "      <th>LIVINGAREA_MEDI</th>\n",
              "      <th>NONLIVINGAPARTMENTS_MEDI</th>\n",
              "      <th>NONLIVINGAREA_MEDI</th>\n",
              "      <th>TOTALAREA_MODE</th>\n",
              "      <th>OBS_30_CNT_SOCIAL_CIRCLE</th>\n",
              "      <th>DEF_30_CNT_SOCIAL_CIRCLE</th>\n",
              "      <th>OBS_60_CNT_SOCIAL_CIRCLE</th>\n",
              "      <th>DEF_60_CNT_SOCIAL_CIRCLE</th>\n",
              "      <th>DAYS_LAST_PHONE_CHANGE</th>\n",
              "      <th>FLAG_DOCUMENT_2</th>\n",
              "      <th>FLAG_DOCUMENT_3</th>\n",
              "      <th>FLAG_DOCUMENT_4</th>\n",
              "      <th>FLAG_DOCUMENT_5</th>\n",
              "      <th>FLAG_DOCUMENT_6</th>\n",
              "      <th>FLAG_DOCUMENT_7</th>\n",
              "      <th>FLAG_DOCUMENT_8</th>\n",
              "      <th>FLAG_DOCUMENT_9</th>\n",
              "      <th>FLAG_DOCUMENT_10</th>\n",
              "      <th>FLAG_DOCUMENT_11</th>\n",
              "      <th>FLAG_DOCUMENT_12</th>\n",
              "      <th>FLAG_DOCUMENT_13</th>\n",
              "      <th>FLAG_DOCUMENT_14</th>\n",
              "      <th>FLAG_DOCUMENT_15</th>\n",
              "      <th>FLAG_DOCUMENT_16</th>\n",
              "      <th>FLAG_DOCUMENT_17</th>\n",
              "      <th>FLAG_DOCUMENT_18</th>\n",
              "      <th>FLAG_DOCUMENT_19</th>\n",
              "      <th>FLAG_DOCUMENT_20</th>\n",
              "      <th>FLAG_DOCUMENT_21</th>\n",
              "      <th>AMT_REQ_CREDIT_BUREAU_HOUR</th>\n",
              "      <th>AMT_REQ_CREDIT_BUREAU_DAY</th>\n",
              "      <th>AMT_REQ_CREDIT_BUREAU_WEEK</th>\n",
              "      <th>AMT_REQ_CREDIT_BUREAU_MON</th>\n",
              "      <th>AMT_REQ_CREDIT_BUREAU_QRT</th>\n",
              "      <th>AMT_REQ_CREDIT_BUREAU_YEAR</th>\n",
              "    </tr>\n",
              "  </thead>\n",
              "  <tbody>\n",
              "    <tr>\n",
              "      <th>count</th>\n",
              "      <td>259337.00</td>\n",
              "      <td>259337.00</td>\n",
              "      <td>259337.00</td>\n",
              "      <td>259337.00</td>\n",
              "      <td>259337.00</td>\n",
              "      <td>259325.00</td>\n",
              "      <td>259114.00</td>\n",
              "      <td>259337.00</td>\n",
              "      <td>259337.00</td>\n",
              "      <td>259336.00</td>\n",
              "      <td>259336.00</td>\n",
              "      <td>259336.00</td>\n",
              "      <td>88052.00</td>\n",
              "      <td>259336.00</td>\n",
              "      <td>259336.00</td>\n",
              "      <td>259336.00</td>\n",
              "      <td>259336.00</td>\n",
              "      <td>259336.00</td>\n",
              "      <td>259336.00</td>\n",
              "      <td>259334.00</td>\n",
              "      <td>259336.00</td>\n",
              "      <td>259336.00</td>\n",
              "      <td>259336.00</td>\n",
              "      <td>259336.00</td>\n",
              "      <td>259336.00</td>\n",
              "      <td>259336.00</td>\n",
              "      <td>259336.00</td>\n",
              "      <td>259336.00</td>\n",
              "      <td>259336.00</td>\n",
              "      <td>113161.00</td>\n",
              "      <td>258779.00</td>\n",
              "      <td>207884.00</td>\n",
              "      <td>127548.00</td>\n",
              "      <td>107409.00</td>\n",
              "      <td>132747.00</td>\n",
              "      <td>86812.00</td>\n",
              "      <td>78041.00</td>\n",
              "      <td>120990.00</td>\n",
              "      <td>128649.00</td>\n",
              "      <td>130186.00</td>\n",
              "      <td>83293.00</td>\n",
              "      <td>105186.00</td>\n",
              "      <td>81967.00</td>\n",
              "      <td>129060.00</td>\n",
              "      <td>79207.00</td>\n",
              "      <td>116145.00</td>\n",
              "      <td>127548.00</td>\n",
              "      <td>107409.00</td>\n",
              "      <td>132747.00</td>\n",
              "      <td>86812.00</td>\n",
              "      <td>78041.00</td>\n",
              "      <td>120990.00</td>\n",
              "      <td>128649.00</td>\n",
              "      <td>130186.00</td>\n",
              "      <td>83293.00</td>\n",
              "      <td>105186.00</td>\n",
              "      <td>81967.00</td>\n",
              "      <td>129060.00</td>\n",
              "      <td>79207.00</td>\n",
              "      <td>116145.00</td>\n",
              "      <td>127548.00</td>\n",
              "      <td>107409.00</td>\n",
              "      <td>132747.00</td>\n",
              "      <td>86812.00</td>\n",
              "      <td>78041.00</td>\n",
              "      <td>120990.00</td>\n",
              "      <td>128649.00</td>\n",
              "      <td>130186.00</td>\n",
              "      <td>83293.00</td>\n",
              "      <td>105186.00</td>\n",
              "      <td>81967.00</td>\n",
              "      <td>129060.00</td>\n",
              "      <td>79207.00</td>\n",
              "      <td>116145.00</td>\n",
              "      <td>134069.00</td>\n",
              "      <td>258476.00</td>\n",
              "      <td>258476.00</td>\n",
              "      <td>258476.00</td>\n",
              "      <td>258476.00</td>\n",
              "      <td>259335.00</td>\n",
              "      <td>259336.00</td>\n",
              "      <td>259336.00</td>\n",
              "      <td>259336.00</td>\n",
              "      <td>259336.00</td>\n",
              "      <td>259336.00</td>\n",
              "      <td>259336.00</td>\n",
              "      <td>259336.00</td>\n",
              "      <td>259336.00</td>\n",
              "      <td>259336.00</td>\n",
              "      <td>259336.00</td>\n",
              "      <td>259336.00</td>\n",
              "      <td>259336.00</td>\n",
              "      <td>259336.00</td>\n",
              "      <td>259336.00</td>\n",
              "      <td>259336.00</td>\n",
              "      <td>259336.00</td>\n",
              "      <td>259336.00</td>\n",
              "      <td>259336.00</td>\n",
              "      <td>259336.00</td>\n",
              "      <td>259336.00</td>\n",
              "      <td>224275.00</td>\n",
              "      <td>224275.00</td>\n",
              "      <td>224275.00</td>\n",
              "      <td>224275.00</td>\n",
              "      <td>224275.00</td>\n",
              "      <td>224275.00</td>\n",
              "    </tr>\n",
              "    <tr>\n",
              "      <th>mean</th>\n",
              "      <td>250286.96</td>\n",
              "      <td>0.08</td>\n",
              "      <td>0.42</td>\n",
              "      <td>168842.33</td>\n",
              "      <td>598668.59</td>\n",
              "      <td>27107.47</td>\n",
              "      <td>538002.03</td>\n",
              "      <td>0.02</td>\n",
              "      <td>-16040.67</td>\n",
              "      <td>63911.55</td>\n",
              "      <td>-4989.83</td>\n",
              "      <td>-2994.67</td>\n",
              "      <td>12.07</td>\n",
              "      <td>1.00</td>\n",
              "      <td>0.82</td>\n",
              "      <td>0.20</td>\n",
              "      <td>1.00</td>\n",
              "      <td>0.28</td>\n",
              "      <td>0.06</td>\n",
              "      <td>2.15</td>\n",
              "      <td>2.05</td>\n",
              "      <td>2.03</td>\n",
              "      <td>12.06</td>\n",
              "      <td>0.02</td>\n",
              "      <td>0.05</td>\n",
              "      <td>0.04</td>\n",
              "      <td>0.08</td>\n",
              "      <td>0.23</td>\n",
              "      <td>0.18</td>\n",
              "      <td>0.50</td>\n",
              "      <td>0.51</td>\n",
              "      <td>0.51</td>\n",
              "      <td>0.12</td>\n",
              "      <td>0.09</td>\n",
              "      <td>0.98</td>\n",
              "      <td>0.75</td>\n",
              "      <td>0.04</td>\n",
              "      <td>0.08</td>\n",
              "      <td>0.15</td>\n",
              "      <td>0.23</td>\n",
              "      <td>0.23</td>\n",
              "      <td>0.07</td>\n",
              "      <td>0.10</td>\n",
              "      <td>0.11</td>\n",
              "      <td>0.01</td>\n",
              "      <td>0.03</td>\n",
              "      <td>0.11</td>\n",
              "      <td>0.09</td>\n",
              "      <td>0.98</td>\n",
              "      <td>0.76</td>\n",
              "      <td>0.04</td>\n",
              "      <td>0.07</td>\n",
              "      <td>0.15</td>\n",
              "      <td>0.22</td>\n",
              "      <td>0.23</td>\n",
              "      <td>0.06</td>\n",
              "      <td>0.11</td>\n",
              "      <td>0.11</td>\n",
              "      <td>0.01</td>\n",
              "      <td>0.03</td>\n",
              "      <td>0.12</td>\n",
              "      <td>0.09</td>\n",
              "      <td>0.98</td>\n",
              "      <td>0.76</td>\n",
              "      <td>0.04</td>\n",
              "      <td>0.08</td>\n",
              "      <td>0.15</td>\n",
              "      <td>0.23</td>\n",
              "      <td>0.23</td>\n",
              "      <td>0.07</td>\n",
              "      <td>0.10</td>\n",
              "      <td>0.11</td>\n",
              "      <td>0.01</td>\n",
              "      <td>0.03</td>\n",
              "      <td>0.10</td>\n",
              "      <td>1.43</td>\n",
              "      <td>0.14</td>\n",
              "      <td>1.41</td>\n",
              "      <td>0.10</td>\n",
              "      <td>-963.68</td>\n",
              "      <td>0.00</td>\n",
              "      <td>0.71</td>\n",
              "      <td>0.00</td>\n",
              "      <td>0.02</td>\n",
              "      <td>0.09</td>\n",
              "      <td>0.00</td>\n",
              "      <td>0.08</td>\n",
              "      <td>0.00</td>\n",
              "      <td>0.00</td>\n",
              "      <td>0.00</td>\n",
              "      <td>0.00</td>\n",
              "      <td>0.00</td>\n",
              "      <td>0.00</td>\n",
              "      <td>0.00</td>\n",
              "      <td>0.01</td>\n",
              "      <td>0.00</td>\n",
              "      <td>0.01</td>\n",
              "      <td>0.00</td>\n",
              "      <td>0.00</td>\n",
              "      <td>0.00</td>\n",
              "      <td>0.01</td>\n",
              "      <td>0.01</td>\n",
              "      <td>0.03</td>\n",
              "      <td>0.27</td>\n",
              "      <td>0.27</td>\n",
              "      <td>1.91</td>\n",
              "    </tr>\n",
              "    <tr>\n",
              "      <th>std</th>\n",
              "      <td>86680.80</td>\n",
              "      <td>0.27</td>\n",
              "      <td>0.72</td>\n",
              "      <td>254607.73</td>\n",
              "      <td>402043.63</td>\n",
              "      <td>14489.21</td>\n",
              "      <td>368986.79</td>\n",
              "      <td>0.01</td>\n",
              "      <td>4369.11</td>\n",
              "      <td>141357.73</td>\n",
              "      <td>3525.21</td>\n",
              "      <td>1509.91</td>\n",
              "      <td>11.96</td>\n",
              "      <td>0.00</td>\n",
              "      <td>0.38</td>\n",
              "      <td>0.40</td>\n",
              "      <td>0.04</td>\n",
              "      <td>0.45</td>\n",
              "      <td>0.23</td>\n",
              "      <td>0.91</td>\n",
              "      <td>0.51</td>\n",
              "      <td>0.50</td>\n",
              "      <td>3.27</td>\n",
              "      <td>0.12</td>\n",
              "      <td>0.22</td>\n",
              "      <td>0.20</td>\n",
              "      <td>0.27</td>\n",
              "      <td>0.42</td>\n",
              "      <td>0.38</td>\n",
              "      <td>0.21</td>\n",
              "      <td>0.19</td>\n",
              "      <td>0.19</td>\n",
              "      <td>0.11</td>\n",
              "      <td>0.08</td>\n",
              "      <td>0.06</td>\n",
              "      <td>0.11</td>\n",
              "      <td>0.08</td>\n",
              "      <td>0.13</td>\n",
              "      <td>0.10</td>\n",
              "      <td>0.14</td>\n",
              "      <td>0.16</td>\n",
              "      <td>0.08</td>\n",
              "      <td>0.09</td>\n",
              "      <td>0.11</td>\n",
              "      <td>0.05</td>\n",
              "      <td>0.07</td>\n",
              "      <td>0.11</td>\n",
              "      <td>0.08</td>\n",
              "      <td>0.06</td>\n",
              "      <td>0.11</td>\n",
              "      <td>0.07</td>\n",
              "      <td>0.13</td>\n",
              "      <td>0.10</td>\n",
              "      <td>0.14</td>\n",
              "      <td>0.16</td>\n",
              "      <td>0.08</td>\n",
              "      <td>0.10</td>\n",
              "      <td>0.11</td>\n",
              "      <td>0.05</td>\n",
              "      <td>0.07</td>\n",
              "      <td>0.11</td>\n",
              "      <td>0.08</td>\n",
              "      <td>0.06</td>\n",
              "      <td>0.11</td>\n",
              "      <td>0.08</td>\n",
              "      <td>0.13</td>\n",
              "      <td>0.10</td>\n",
              "      <td>0.14</td>\n",
              "      <td>0.16</td>\n",
              "      <td>0.08</td>\n",
              "      <td>0.09</td>\n",
              "      <td>0.11</td>\n",
              "      <td>0.05</td>\n",
              "      <td>0.07</td>\n",
              "      <td>0.11</td>\n",
              "      <td>2.42</td>\n",
              "      <td>0.45</td>\n",
              "      <td>2.40</td>\n",
              "      <td>0.36</td>\n",
              "      <td>826.62</td>\n",
              "      <td>0.01</td>\n",
              "      <td>0.45</td>\n",
              "      <td>0.01</td>\n",
              "      <td>0.12</td>\n",
              "      <td>0.28</td>\n",
              "      <td>0.01</td>\n",
              "      <td>0.27</td>\n",
              "      <td>0.06</td>\n",
              "      <td>0.00</td>\n",
              "      <td>0.06</td>\n",
              "      <td>0.00</td>\n",
              "      <td>0.06</td>\n",
              "      <td>0.05</td>\n",
              "      <td>0.03</td>\n",
              "      <td>0.10</td>\n",
              "      <td>0.02</td>\n",
              "      <td>0.09</td>\n",
              "      <td>0.02</td>\n",
              "      <td>0.02</td>\n",
              "      <td>0.02</td>\n",
              "      <td>0.08</td>\n",
              "      <td>0.11</td>\n",
              "      <td>0.21</td>\n",
              "      <td>0.91</td>\n",
              "      <td>0.82</td>\n",
              "      <td>1.87</td>\n",
              "    </tr>\n",
              "    <tr>\n",
              "      <th>min</th>\n",
              "      <td>100002.00</td>\n",
              "      <td>0.00</td>\n",
              "      <td>0.00</td>\n",
              "      <td>25650.00</td>\n",
              "      <td>45000.00</td>\n",
              "      <td>1980.00</td>\n",
              "      <td>45000.00</td>\n",
              "      <td>0.00</td>\n",
              "      <td>-25201.00</td>\n",
              "      <td>-17546.00</td>\n",
              "      <td>-24672.00</td>\n",
              "      <td>-7197.00</td>\n",
              "      <td>0.00</td>\n",
              "      <td>0.00</td>\n",
              "      <td>0.00</td>\n",
              "      <td>0.00</td>\n",
              "      <td>0.00</td>\n",
              "      <td>0.00</td>\n",
              "      <td>0.00</td>\n",
              "      <td>1.00</td>\n",
              "      <td>1.00</td>\n",
              "      <td>1.00</td>\n",
              "      <td>0.00</td>\n",
              "      <td>0.00</td>\n",
              "      <td>0.00</td>\n",
              "      <td>0.00</td>\n",
              "      <td>0.00</td>\n",
              "      <td>0.00</td>\n",
              "      <td>0.00</td>\n",
              "      <td>0.01</td>\n",
              "      <td>0.00</td>\n",
              "      <td>0.00</td>\n",
              "      <td>0.00</td>\n",
              "      <td>0.00</td>\n",
              "      <td>0.00</td>\n",
              "      <td>0.00</td>\n",
              "      <td>0.00</td>\n",
              "      <td>0.00</td>\n",
              "      <td>0.00</td>\n",
              "      <td>0.00</td>\n",
              "      <td>0.00</td>\n",
              "      <td>0.00</td>\n",
              "      <td>0.00</td>\n",
              "      <td>0.00</td>\n",
              "      <td>0.00</td>\n",
              "      <td>0.00</td>\n",
              "      <td>0.00</td>\n",
              "      <td>0.00</td>\n",
              "      <td>0.00</td>\n",
              "      <td>0.00</td>\n",
              "      <td>0.00</td>\n",
              "      <td>0.00</td>\n",
              "      <td>0.00</td>\n",
              "      <td>0.00</td>\n",
              "      <td>0.00</td>\n",
              "      <td>0.00</td>\n",
              "      <td>0.00</td>\n",
              "      <td>0.00</td>\n",
              "      <td>0.00</td>\n",
              "      <td>0.00</td>\n",
              "      <td>0.00</td>\n",
              "      <td>0.00</td>\n",
              "      <td>0.00</td>\n",
              "      <td>0.00</td>\n",
              "      <td>0.00</td>\n",
              "      <td>0.00</td>\n",
              "      <td>0.00</td>\n",
              "      <td>0.00</td>\n",
              "      <td>0.00</td>\n",
              "      <td>0.00</td>\n",
              "      <td>0.00</td>\n",
              "      <td>0.00</td>\n",
              "      <td>0.00</td>\n",
              "      <td>0.00</td>\n",
              "      <td>0.00</td>\n",
              "      <td>0.00</td>\n",
              "      <td>0.00</td>\n",
              "      <td>0.00</td>\n",
              "      <td>0.00</td>\n",
              "      <td>-4292.00</td>\n",
              "      <td>0.00</td>\n",
              "      <td>0.00</td>\n",
              "      <td>0.00</td>\n",
              "      <td>0.00</td>\n",
              "      <td>0.00</td>\n",
              "      <td>0.00</td>\n",
              "      <td>0.00</td>\n",
              "      <td>0.00</td>\n",
              "      <td>0.00</td>\n",
              "      <td>0.00</td>\n",
              "      <td>0.00</td>\n",
              "      <td>0.00</td>\n",
              "      <td>0.00</td>\n",
              "      <td>0.00</td>\n",
              "      <td>0.00</td>\n",
              "      <td>0.00</td>\n",
              "      <td>0.00</td>\n",
              "      <td>0.00</td>\n",
              "      <td>0.00</td>\n",
              "      <td>0.00</td>\n",
              "      <td>0.00</td>\n",
              "      <td>0.00</td>\n",
              "      <td>0.00</td>\n",
              "      <td>0.00</td>\n",
              "      <td>0.00</td>\n",
              "      <td>0.00</td>\n",
              "    </tr>\n",
              "    <tr>\n",
              "      <th>25%</th>\n",
              "      <td>175182.00</td>\n",
              "      <td>0.00</td>\n",
              "      <td>0.00</td>\n",
              "      <td>112500.00</td>\n",
              "      <td>270000.00</td>\n",
              "      <td>16524.00</td>\n",
              "      <td>238500.00</td>\n",
              "      <td>0.01</td>\n",
              "      <td>-19689.00</td>\n",
              "      <td>-2764.00</td>\n",
              "      <td>-7486.00</td>\n",
              "      <td>-4300.00</td>\n",
              "      <td>5.00</td>\n",
              "      <td>1.00</td>\n",
              "      <td>1.00</td>\n",
              "      <td>0.00</td>\n",
              "      <td>1.00</td>\n",
              "      <td>0.00</td>\n",
              "      <td>0.00</td>\n",
              "      <td>2.00</td>\n",
              "      <td>2.00</td>\n",
              "      <td>2.00</td>\n",
              "      <td>10.00</td>\n",
              "      <td>0.00</td>\n",
              "      <td>0.00</td>\n",
              "      <td>0.00</td>\n",
              "      <td>0.00</td>\n",
              "      <td>0.00</td>\n",
              "      <td>0.00</td>\n",
              "      <td>0.33</td>\n",
              "      <td>0.39</td>\n",
              "      <td>0.37</td>\n",
              "      <td>0.06</td>\n",
              "      <td>0.04</td>\n",
              "      <td>0.98</td>\n",
              "      <td>0.69</td>\n",
              "      <td>0.01</td>\n",
              "      <td>0.00</td>\n",
              "      <td>0.07</td>\n",
              "      <td>0.17</td>\n",
              "      <td>0.08</td>\n",
              "      <td>0.02</td>\n",
              "      <td>0.05</td>\n",
              "      <td>0.05</td>\n",
              "      <td>0.00</td>\n",
              "      <td>0.00</td>\n",
              "      <td>0.05</td>\n",
              "      <td>0.04</td>\n",
              "      <td>0.98</td>\n",
              "      <td>0.70</td>\n",
              "      <td>0.01</td>\n",
              "      <td>0.00</td>\n",
              "      <td>0.07</td>\n",
              "      <td>0.17</td>\n",
              "      <td>0.08</td>\n",
              "      <td>0.02</td>\n",
              "      <td>0.05</td>\n",
              "      <td>0.04</td>\n",
              "      <td>0.00</td>\n",
              "      <td>0.00</td>\n",
              "      <td>0.06</td>\n",
              "      <td>0.04</td>\n",
              "      <td>0.98</td>\n",
              "      <td>0.69</td>\n",
              "      <td>0.01</td>\n",
              "      <td>0.00</td>\n",
              "      <td>0.07</td>\n",
              "      <td>0.17</td>\n",
              "      <td>0.08</td>\n",
              "      <td>0.02</td>\n",
              "      <td>0.05</td>\n",
              "      <td>0.05</td>\n",
              "      <td>0.00</td>\n",
              "      <td>0.00</td>\n",
              "      <td>0.04</td>\n",
              "      <td>0.00</td>\n",
              "      <td>0.00</td>\n",
              "      <td>0.00</td>\n",
              "      <td>0.00</td>\n",
              "      <td>-1570.00</td>\n",
              "      <td>0.00</td>\n",
              "      <td>0.00</td>\n",
              "      <td>0.00</td>\n",
              "      <td>0.00</td>\n",
              "      <td>0.00</td>\n",
              "      <td>0.00</td>\n",
              "      <td>0.00</td>\n",
              "      <td>0.00</td>\n",
              "      <td>0.00</td>\n",
              "      <td>0.00</td>\n",
              "      <td>0.00</td>\n",
              "      <td>0.00</td>\n",
              "      <td>0.00</td>\n",
              "      <td>0.00</td>\n",
              "      <td>0.00</td>\n",
              "      <td>0.00</td>\n",
              "      <td>0.00</td>\n",
              "      <td>0.00</td>\n",
              "      <td>0.00</td>\n",
              "      <td>0.00</td>\n",
              "      <td>0.00</td>\n",
              "      <td>0.00</td>\n",
              "      <td>0.00</td>\n",
              "      <td>0.00</td>\n",
              "      <td>0.00</td>\n",
              "      <td>0.00</td>\n",
              "    </tr>\n",
              "    <tr>\n",
              "      <th>50%</th>\n",
              "      <td>250397.00</td>\n",
              "      <td>0.00</td>\n",
              "      <td>0.00</td>\n",
              "      <td>146771.91</td>\n",
              "      <td>513000.00</td>\n",
              "      <td>24903.00</td>\n",
              "      <td>450000.00</td>\n",
              "      <td>0.02</td>\n",
              "      <td>-15753.00</td>\n",
              "      <td>-1212.00</td>\n",
              "      <td>-4503.00</td>\n",
              "      <td>-3255.50</td>\n",
              "      <td>9.00</td>\n",
              "      <td>1.00</td>\n",
              "      <td>1.00</td>\n",
              "      <td>0.00</td>\n",
              "      <td>1.00</td>\n",
              "      <td>0.00</td>\n",
              "      <td>0.00</td>\n",
              "      <td>2.00</td>\n",
              "      <td>2.00</td>\n",
              "      <td>2.00</td>\n",
              "      <td>12.00</td>\n",
              "      <td>0.00</td>\n",
              "      <td>0.00</td>\n",
              "      <td>0.00</td>\n",
              "      <td>0.00</td>\n",
              "      <td>0.00</td>\n",
              "      <td>0.00</td>\n",
              "      <td>0.51</td>\n",
              "      <td>0.57</td>\n",
              "      <td>0.54</td>\n",
              "      <td>0.09</td>\n",
              "      <td>0.08</td>\n",
              "      <td>0.98</td>\n",
              "      <td>0.76</td>\n",
              "      <td>0.02</td>\n",
              "      <td>0.00</td>\n",
              "      <td>0.14</td>\n",
              "      <td>0.17</td>\n",
              "      <td>0.21</td>\n",
              "      <td>0.05</td>\n",
              "      <td>0.08</td>\n",
              "      <td>0.07</td>\n",
              "      <td>0.00</td>\n",
              "      <td>0.00</td>\n",
              "      <td>0.08</td>\n",
              "      <td>0.07</td>\n",
              "      <td>0.98</td>\n",
              "      <td>0.76</td>\n",
              "      <td>0.02</td>\n",
              "      <td>0.00</td>\n",
              "      <td>0.14</td>\n",
              "      <td>0.17</td>\n",
              "      <td>0.21</td>\n",
              "      <td>0.05</td>\n",
              "      <td>0.08</td>\n",
              "      <td>0.07</td>\n",
              "      <td>0.00</td>\n",
              "      <td>0.00</td>\n",
              "      <td>0.09</td>\n",
              "      <td>0.08</td>\n",
              "      <td>0.98</td>\n",
              "      <td>0.76</td>\n",
              "      <td>0.02</td>\n",
              "      <td>0.00</td>\n",
              "      <td>0.14</td>\n",
              "      <td>0.17</td>\n",
              "      <td>0.21</td>\n",
              "      <td>0.05</td>\n",
              "      <td>0.08</td>\n",
              "      <td>0.07</td>\n",
              "      <td>0.00</td>\n",
              "      <td>0.00</td>\n",
              "      <td>0.07</td>\n",
              "      <td>0.00</td>\n",
              "      <td>0.00</td>\n",
              "      <td>0.00</td>\n",
              "      <td>0.00</td>\n",
              "      <td>-757.00</td>\n",
              "      <td>0.00</td>\n",
              "      <td>1.00</td>\n",
              "      <td>0.00</td>\n",
              "      <td>0.00</td>\n",
              "      <td>0.00</td>\n",
              "      <td>0.00</td>\n",
              "      <td>0.00</td>\n",
              "      <td>0.00</td>\n",
              "      <td>0.00</td>\n",
              "      <td>0.00</td>\n",
              "      <td>0.00</td>\n",
              "      <td>0.00</td>\n",
              "      <td>0.00</td>\n",
              "      <td>0.00</td>\n",
              "      <td>0.00</td>\n",
              "      <td>0.00</td>\n",
              "      <td>0.00</td>\n",
              "      <td>0.00</td>\n",
              "      <td>0.00</td>\n",
              "      <td>0.00</td>\n",
              "      <td>0.00</td>\n",
              "      <td>0.00</td>\n",
              "      <td>0.00</td>\n",
              "      <td>0.00</td>\n",
              "      <td>0.00</td>\n",
              "      <td>1.00</td>\n",
              "    </tr>\n",
              "    <tr>\n",
              "      <th>75%</th>\n",
              "      <td>325534.00</td>\n",
              "      <td>0.00</td>\n",
              "      <td>1.00</td>\n",
              "      <td>202500.00</td>\n",
              "      <td>808650.00</td>\n",
              "      <td>34600.50</td>\n",
              "      <td>679500.00</td>\n",
              "      <td>0.03</td>\n",
              "      <td>-12412.00</td>\n",
              "      <td>-288.00</td>\n",
              "      <td>-2011.00</td>\n",
              "      <td>-1718.00</td>\n",
              "      <td>15.00</td>\n",
              "      <td>1.00</td>\n",
              "      <td>1.00</td>\n",
              "      <td>0.00</td>\n",
              "      <td>1.00</td>\n",
              "      <td>1.00</td>\n",
              "      <td>0.00</td>\n",
              "      <td>3.00</td>\n",
              "      <td>2.00</td>\n",
              "      <td>2.00</td>\n",
              "      <td>14.00</td>\n",
              "      <td>0.00</td>\n",
              "      <td>0.00</td>\n",
              "      <td>0.00</td>\n",
              "      <td>0.00</td>\n",
              "      <td>0.00</td>\n",
              "      <td>0.00</td>\n",
              "      <td>0.67</td>\n",
              "      <td>0.66</td>\n",
              "      <td>0.67</td>\n",
              "      <td>0.15</td>\n",
              "      <td>0.11</td>\n",
              "      <td>0.99</td>\n",
              "      <td>0.82</td>\n",
              "      <td>0.05</td>\n",
              "      <td>0.12</td>\n",
              "      <td>0.21</td>\n",
              "      <td>0.33</td>\n",
              "      <td>0.38</td>\n",
              "      <td>0.09</td>\n",
              "      <td>0.12</td>\n",
              "      <td>0.13</td>\n",
              "      <td>0.00</td>\n",
              "      <td>0.03</td>\n",
              "      <td>0.14</td>\n",
              "      <td>0.11</td>\n",
              "      <td>0.99</td>\n",
              "      <td>0.82</td>\n",
              "      <td>0.05</td>\n",
              "      <td>0.12</td>\n",
              "      <td>0.21</td>\n",
              "      <td>0.33</td>\n",
              "      <td>0.38</td>\n",
              "      <td>0.08</td>\n",
              "      <td>0.13</td>\n",
              "      <td>0.12</td>\n",
              "      <td>0.00</td>\n",
              "      <td>0.02</td>\n",
              "      <td>0.15</td>\n",
              "      <td>0.11</td>\n",
              "      <td>0.99</td>\n",
              "      <td>0.83</td>\n",
              "      <td>0.05</td>\n",
              "      <td>0.12</td>\n",
              "      <td>0.21</td>\n",
              "      <td>0.33</td>\n",
              "      <td>0.38</td>\n",
              "      <td>0.09</td>\n",
              "      <td>0.12</td>\n",
              "      <td>0.13</td>\n",
              "      <td>0.00</td>\n",
              "      <td>0.03</td>\n",
              "      <td>0.13</td>\n",
              "      <td>2.00</td>\n",
              "      <td>0.00</td>\n",
              "      <td>2.00</td>\n",
              "      <td>0.00</td>\n",
              "      <td>-275.00</td>\n",
              "      <td>0.00</td>\n",
              "      <td>1.00</td>\n",
              "      <td>0.00</td>\n",
              "      <td>0.00</td>\n",
              "      <td>0.00</td>\n",
              "      <td>0.00</td>\n",
              "      <td>0.00</td>\n",
              "      <td>0.00</td>\n",
              "      <td>0.00</td>\n",
              "      <td>0.00</td>\n",
              "      <td>0.00</td>\n",
              "      <td>0.00</td>\n",
              "      <td>0.00</td>\n",
              "      <td>0.00</td>\n",
              "      <td>0.00</td>\n",
              "      <td>0.00</td>\n",
              "      <td>0.00</td>\n",
              "      <td>0.00</td>\n",
              "      <td>0.00</td>\n",
              "      <td>0.00</td>\n",
              "      <td>0.00</td>\n",
              "      <td>0.00</td>\n",
              "      <td>0.00</td>\n",
              "      <td>0.00</td>\n",
              "      <td>0.00</td>\n",
              "      <td>3.00</td>\n",
              "    </tr>\n",
              "    <tr>\n",
              "      <th>max</th>\n",
              "      <td>400130.00</td>\n",
              "      <td>1.00</td>\n",
              "      <td>19.00</td>\n",
              "      <td>117000000.00</td>\n",
              "      <td>4050000.00</td>\n",
              "      <td>258025.50</td>\n",
              "      <td>4050000.00</td>\n",
              "      <td>0.07</td>\n",
              "      <td>-1417.00</td>\n",
              "      <td>365243.00</td>\n",
              "      <td>0.00</td>\n",
              "      <td>0.00</td>\n",
              "      <td>69.00</td>\n",
              "      <td>1.00</td>\n",
              "      <td>1.00</td>\n",
              "      <td>1.00</td>\n",
              "      <td>1.00</td>\n",
              "      <td>1.00</td>\n",
              "      <td>1.00</td>\n",
              "      <td>20.00</td>\n",
              "      <td>3.00</td>\n",
              "      <td>3.00</td>\n",
              "      <td>23.00</td>\n",
              "      <td>1.00</td>\n",
              "      <td>1.00</td>\n",
              "      <td>1.00</td>\n",
              "      <td>1.00</td>\n",
              "      <td>1.00</td>\n",
              "      <td>1.00</td>\n",
              "      <td>0.96</td>\n",
              "      <td>0.85</td>\n",
              "      <td>0.90</td>\n",
              "      <td>1.00</td>\n",
              "      <td>1.00</td>\n",
              "      <td>1.00</td>\n",
              "      <td>1.00</td>\n",
              "      <td>1.00</td>\n",
              "      <td>1.00</td>\n",
              "      <td>1.00</td>\n",
              "      <td>1.00</td>\n",
              "      <td>1.00</td>\n",
              "      <td>1.00</td>\n",
              "      <td>1.00</td>\n",
              "      <td>1.00</td>\n",
              "      <td>1.00</td>\n",
              "      <td>1.00</td>\n",
              "      <td>1.00</td>\n",
              "      <td>1.00</td>\n",
              "      <td>1.00</td>\n",
              "      <td>1.00</td>\n",
              "      <td>1.00</td>\n",
              "      <td>1.00</td>\n",
              "      <td>1.00</td>\n",
              "      <td>1.00</td>\n",
              "      <td>1.00</td>\n",
              "      <td>1.00</td>\n",
              "      <td>1.00</td>\n",
              "      <td>1.00</td>\n",
              "      <td>1.00</td>\n",
              "      <td>1.00</td>\n",
              "      <td>1.00</td>\n",
              "      <td>1.00</td>\n",
              "      <td>1.00</td>\n",
              "      <td>1.00</td>\n",
              "      <td>1.00</td>\n",
              "      <td>1.00</td>\n",
              "      <td>1.00</td>\n",
              "      <td>1.00</td>\n",
              "      <td>1.00</td>\n",
              "      <td>1.00</td>\n",
              "      <td>1.00</td>\n",
              "      <td>1.00</td>\n",
              "      <td>1.00</td>\n",
              "      <td>1.00</td>\n",
              "      <td>1.00</td>\n",
              "      <td>348.00</td>\n",
              "      <td>34.00</td>\n",
              "      <td>344.00</td>\n",
              "      <td>24.00</td>\n",
              "      <td>0.00</td>\n",
              "      <td>1.00</td>\n",
              "      <td>1.00</td>\n",
              "      <td>1.00</td>\n",
              "      <td>1.00</td>\n",
              "      <td>1.00</td>\n",
              "      <td>1.00</td>\n",
              "      <td>1.00</td>\n",
              "      <td>1.00</td>\n",
              "      <td>1.00</td>\n",
              "      <td>1.00</td>\n",
              "      <td>1.00</td>\n",
              "      <td>1.00</td>\n",
              "      <td>1.00</td>\n",
              "      <td>1.00</td>\n",
              "      <td>1.00</td>\n",
              "      <td>1.00</td>\n",
              "      <td>1.00</td>\n",
              "      <td>1.00</td>\n",
              "      <td>1.00</td>\n",
              "      <td>1.00</td>\n",
              "      <td>4.00</td>\n",
              "      <td>9.00</td>\n",
              "      <td>8.00</td>\n",
              "      <td>27.00</td>\n",
              "      <td>261.00</td>\n",
              "      <td>25.00</td>\n",
              "    </tr>\n",
              "  </tbody>\n",
              "</table>\n",
              "</div>\n",
              "      <button class=\"colab-df-convert\" onclick=\"convertToInteractive('df-9fb5b683-f824-4be8-8d9d-a0729356d879')\"\n",
              "              title=\"Convert this dataframe to an interactive table.\"\n",
              "              style=\"display:none;\">\n",
              "        \n",
              "  <svg xmlns=\"http://www.w3.org/2000/svg\" height=\"24px\"viewBox=\"0 0 24 24\"\n",
              "       width=\"24px\">\n",
              "    <path d=\"M0 0h24v24H0V0z\" fill=\"none\"/>\n",
              "    <path d=\"M18.56 5.44l.94 2.06.94-2.06 2.06-.94-2.06-.94-.94-2.06-.94 2.06-2.06.94zm-11 1L8.5 8.5l.94-2.06 2.06-.94-2.06-.94L8.5 2.5l-.94 2.06-2.06.94zm10 10l.94 2.06.94-2.06 2.06-.94-2.06-.94-.94-2.06-.94 2.06-2.06.94z\"/><path d=\"M17.41 7.96l-1.37-1.37c-.4-.4-.92-.59-1.43-.59-.52 0-1.04.2-1.43.59L10.3 9.45l-7.72 7.72c-.78.78-.78 2.05 0 2.83L4 21.41c.39.39.9.59 1.41.59.51 0 1.02-.2 1.41-.59l7.78-7.78 2.81-2.81c.8-.78.8-2.07 0-2.86zM5.41 20L4 18.59l7.72-7.72 1.47 1.35L5.41 20z\"/>\n",
              "  </svg>\n",
              "      </button>\n",
              "      \n",
              "  <style>\n",
              "    .colab-df-container {\n",
              "      display:flex;\n",
              "      flex-wrap:wrap;\n",
              "      gap: 12px;\n",
              "    }\n",
              "\n",
              "    .colab-df-convert {\n",
              "      background-color: #E8F0FE;\n",
              "      border: none;\n",
              "      border-radius: 50%;\n",
              "      cursor: pointer;\n",
              "      display: none;\n",
              "      fill: #1967D2;\n",
              "      height: 32px;\n",
              "      padding: 0 0 0 0;\n",
              "      width: 32px;\n",
              "    }\n",
              "\n",
              "    .colab-df-convert:hover {\n",
              "      background-color: #E2EBFA;\n",
              "      box-shadow: 0px 1px 2px rgba(60, 64, 67, 0.3), 0px 1px 3px 1px rgba(60, 64, 67, 0.15);\n",
              "      fill: #174EA6;\n",
              "    }\n",
              "\n",
              "    [theme=dark] .colab-df-convert {\n",
              "      background-color: #3B4455;\n",
              "      fill: #D2E3FC;\n",
              "    }\n",
              "\n",
              "    [theme=dark] .colab-df-convert:hover {\n",
              "      background-color: #434B5C;\n",
              "      box-shadow: 0px 1px 3px 1px rgba(0, 0, 0, 0.15);\n",
              "      filter: drop-shadow(0px 1px 2px rgba(0, 0, 0, 0.3));\n",
              "      fill: #FFFFFF;\n",
              "    }\n",
              "  </style>\n",
              "\n",
              "      <script>\n",
              "        const buttonEl =\n",
              "          document.querySelector('#df-9fb5b683-f824-4be8-8d9d-a0729356d879 button.colab-df-convert');\n",
              "        buttonEl.style.display =\n",
              "          google.colab.kernel.accessAllowed ? 'block' : 'none';\n",
              "\n",
              "        async function convertToInteractive(key) {\n",
              "          const element = document.querySelector('#df-9fb5b683-f824-4be8-8d9d-a0729356d879');\n",
              "          const dataTable =\n",
              "            await google.colab.kernel.invokeFunction('convertToInteractive',\n",
              "                                                     [key], {});\n",
              "          if (!dataTable) return;\n",
              "\n",
              "          const docLinkHtml = 'Like what you see? Visit the ' +\n",
              "            '<a target=\"_blank\" href=https://colab.research.google.com/notebooks/data_table.ipynb>data table notebook</a>'\n",
              "            + ' to learn more about interactive tables.';\n",
              "          element.innerHTML = '';\n",
              "          dataTable['output_type'] = 'display_data';\n",
              "          await google.colab.output.renderOutput(dataTable, element);\n",
              "          const docLink = document.createElement('div');\n",
              "          docLink.innerHTML = docLinkHtml;\n",
              "          element.appendChild(docLink);\n",
              "        }\n",
              "      </script>\n",
              "    </div>\n",
              "  </div>\n",
              "  "
            ]
          },
          "metadata": {},
          "execution_count": 9
        }
      ]
    },
    {
      "cell_type": "markdown",
      "source": [
        "## Check for missing value"
      ],
      "metadata": {
        "id": "KHVo7Flq5G8c"
      }
    },
    {
      "cell_type": "code",
      "source": [
        "# inp0.isnull().sum()\n",
        "\n",
        "percent_missing = inp0.isnull().sum()*100/len(inp0)\n",
        "\n",
        "for key,value in percent_missing.iteritems():\n",
        "    print(key,\"-\",round(value, 2),\"%\")"
      ],
      "metadata": {
        "colab": {
          "base_uri": "https://localhost:8080/"
        },
        "id": "5BKUTH_U2q5h",
        "outputId": "6c54b23e-37e6-4770-a0df-1528df42c15b"
      },
      "execution_count": 10,
      "outputs": [
        {
          "output_type": "stream",
          "name": "stdout",
          "text": [
            "SK_ID_CURR - 0.0 %\n",
            "TARGET - 0.0 %\n",
            "NAME_CONTRACT_TYPE - 0.0 %\n",
            "CODE_GENDER - 0.0 %\n",
            "FLAG_OWN_CAR - 0.0 %\n",
            "FLAG_OWN_REALTY - 0.0 %\n",
            "CNT_CHILDREN - 0.0 %\n",
            "AMT_INCOME_TOTAL - 0.0 %\n",
            "AMT_CREDIT - 0.0 %\n",
            "AMT_ANNUITY - 0.0 %\n",
            "AMT_GOODS_PRICE - 0.09 %\n",
            "NAME_TYPE_SUITE - 0.41 %\n",
            "NAME_INCOME_TYPE - 0.0 %\n",
            "NAME_EDUCATION_TYPE - 0.0 %\n",
            "NAME_FAMILY_STATUS - 0.0 %\n",
            "NAME_HOUSING_TYPE - 0.0 %\n",
            "REGION_POPULATION_RELATIVE - 0.0 %\n",
            "DAYS_BIRTH - 0.0 %\n",
            "DAYS_EMPLOYED - 0.0 %\n",
            "DAYS_REGISTRATION - 0.0 %\n",
            "DAYS_ID_PUBLISH - 0.0 %\n",
            "OWN_CAR_AGE - 66.05 %\n",
            "FLAG_MOBIL - 0.0 %\n",
            "FLAG_EMP_PHONE - 0.0 %\n",
            "FLAG_WORK_PHONE - 0.0 %\n",
            "FLAG_CONT_MOBILE - 0.0 %\n",
            "FLAG_PHONE - 0.0 %\n",
            "FLAG_EMAIL - 0.0 %\n",
            "OCCUPATION_TYPE - 31.35 %\n",
            "CNT_FAM_MEMBERS - 0.0 %\n",
            "REGION_RATING_CLIENT - 0.0 %\n",
            "REGION_RATING_CLIENT_W_CITY - 0.0 %\n",
            "WEEKDAY_APPR_PROCESS_START - 0.0 %\n",
            "HOUR_APPR_PROCESS_START - 0.0 %\n",
            "REG_REGION_NOT_LIVE_REGION - 0.0 %\n",
            "REG_REGION_NOT_WORK_REGION - 0.0 %\n",
            "LIVE_REGION_NOT_WORK_REGION - 0.0 %\n",
            "REG_CITY_NOT_LIVE_CITY - 0.0 %\n",
            "REG_CITY_NOT_WORK_CITY - 0.0 %\n",
            "LIVE_CITY_NOT_WORK_CITY - 0.0 %\n",
            "ORGANIZATION_TYPE - 0.0 %\n",
            "EXT_SOURCE_1 - 56.37 %\n",
            "EXT_SOURCE_2 - 0.22 %\n",
            "EXT_SOURCE_3 - 19.84 %\n",
            "APARTMENTS_AVG - 50.82 %\n",
            "BASEMENTAREA_AVG - 58.58 %\n",
            "YEARS_BEGINEXPLUATATION_AVG - 48.81 %\n",
            "YEARS_BUILD_AVG - 66.53 %\n",
            "COMMONAREA_AVG - 69.91 %\n",
            "ELEVATORS_AVG - 53.35 %\n",
            "ENTRANCES_AVG - 50.39 %\n",
            "FLOORSMAX_AVG - 49.8 %\n",
            "FLOORSMIN_AVG - 67.88 %\n",
            "LANDAREA_AVG - 59.44 %\n",
            "LIVINGAPARTMENTS_AVG - 68.39 %\n",
            "LIVINGAREA_AVG - 50.23 %\n",
            "NONLIVINGAPARTMENTS_AVG - 69.46 %\n",
            "NONLIVINGAREA_AVG - 55.21 %\n",
            "APARTMENTS_MODE - 50.82 %\n",
            "BASEMENTAREA_MODE - 58.58 %\n",
            "YEARS_BEGINEXPLUATATION_MODE - 48.81 %\n",
            "YEARS_BUILD_MODE - 66.53 %\n",
            "COMMONAREA_MODE - 69.91 %\n",
            "ELEVATORS_MODE - 53.35 %\n",
            "ENTRANCES_MODE - 50.39 %\n",
            "FLOORSMAX_MODE - 49.8 %\n",
            "FLOORSMIN_MODE - 67.88 %\n",
            "LANDAREA_MODE - 59.44 %\n",
            "LIVINGAPARTMENTS_MODE - 68.39 %\n",
            "LIVINGAREA_MODE - 50.23 %\n",
            "NONLIVINGAPARTMENTS_MODE - 69.46 %\n",
            "NONLIVINGAREA_MODE - 55.21 %\n",
            "APARTMENTS_MEDI - 50.82 %\n",
            "BASEMENTAREA_MEDI - 58.58 %\n",
            "YEARS_BEGINEXPLUATATION_MEDI - 48.81 %\n",
            "YEARS_BUILD_MEDI - 66.53 %\n",
            "COMMONAREA_MEDI - 69.91 %\n",
            "ELEVATORS_MEDI - 53.35 %\n",
            "ENTRANCES_MEDI - 50.39 %\n",
            "FLOORSMAX_MEDI - 49.8 %\n",
            "FLOORSMIN_MEDI - 67.88 %\n",
            "LANDAREA_MEDI - 59.44 %\n",
            "LIVINGAPARTMENTS_MEDI - 68.39 %\n",
            "LIVINGAREA_MEDI - 50.23 %\n",
            "NONLIVINGAPARTMENTS_MEDI - 69.46 %\n",
            "NONLIVINGAREA_MEDI - 55.21 %\n",
            "FONDKAPREMONT_MODE - 68.42 %\n",
            "HOUSETYPE_MODE - 50.24 %\n",
            "TOTALAREA_MODE - 48.3 %\n",
            "WALLSMATERIAL_MODE - 50.89 %\n",
            "EMERGENCYSTATE_MODE - 47.43 %\n",
            "OBS_30_CNT_SOCIAL_CIRCLE - 0.33 %\n",
            "DEF_30_CNT_SOCIAL_CIRCLE - 0.33 %\n",
            "OBS_60_CNT_SOCIAL_CIRCLE - 0.33 %\n",
            "DEF_60_CNT_SOCIAL_CIRCLE - 0.33 %\n",
            "DAYS_LAST_PHONE_CHANGE - 0.0 %\n",
            "FLAG_DOCUMENT_2 - 0.0 %\n",
            "FLAG_DOCUMENT_3 - 0.0 %\n",
            "FLAG_DOCUMENT_4 - 0.0 %\n",
            "FLAG_DOCUMENT_5 - 0.0 %\n",
            "FLAG_DOCUMENT_6 - 0.0 %\n",
            "FLAG_DOCUMENT_7 - 0.0 %\n",
            "FLAG_DOCUMENT_8 - 0.0 %\n",
            "FLAG_DOCUMENT_9 - 0.0 %\n",
            "FLAG_DOCUMENT_10 - 0.0 %\n",
            "FLAG_DOCUMENT_11 - 0.0 %\n",
            "FLAG_DOCUMENT_12 - 0.0 %\n",
            "FLAG_DOCUMENT_13 - 0.0 %\n",
            "FLAG_DOCUMENT_14 - 0.0 %\n",
            "FLAG_DOCUMENT_15 - 0.0 %\n",
            "FLAG_DOCUMENT_16 - 0.0 %\n",
            "FLAG_DOCUMENT_17 - 0.0 %\n",
            "FLAG_DOCUMENT_18 - 0.0 %\n",
            "FLAG_DOCUMENT_19 - 0.0 %\n",
            "FLAG_DOCUMENT_20 - 0.0 %\n",
            "FLAG_DOCUMENT_21 - 0.0 %\n",
            "AMT_REQ_CREDIT_BUREAU_HOUR - 13.52 %\n",
            "AMT_REQ_CREDIT_BUREAU_DAY - 13.52 %\n",
            "AMT_REQ_CREDIT_BUREAU_WEEK - 13.52 %\n",
            "AMT_REQ_CREDIT_BUREAU_MON - 13.52 %\n",
            "AMT_REQ_CREDIT_BUREAU_QRT - 13.52 %\n",
            "AMT_REQ_CREDIT_BUREAU_YEAR - 13.52 %\n"
          ]
        }
      ]
    },
    {
      "cell_type": "markdown",
      "source": [
        "## Dropping all columns with missing value percentage more than 35%."
      ],
      "metadata": {
        "id": "mE2PloXx6T9d"
      }
    },
    {
      "cell_type": "code",
      "source": [
        "inp0 = inp0.drop(inp0.loc[:,list((100*(inp0.isnull().sum()/len(inp0))>35))].columns, 1)"
      ],
      "metadata": {
        "id": "r1Weo8SM6S-b"
      },
      "execution_count": 11,
      "outputs": []
    },
    {
      "cell_type": "code",
      "source": [
        "# checking the percentage of null values after dropping the columns with more than 35%\n",
        "percent_missing = inp0.isnull().sum()*100/len(inp0)\n",
        "\n",
        "for key,value in percent_missing.iteritems():\n",
        "    print(key,\"-\",round(value, 2),\"%\")"
      ],
      "metadata": {
        "colab": {
          "base_uri": "https://localhost:8080/"
        },
        "id": "RWXZD_jPMb1R",
        "outputId": "45061739-619d-40a1-dc79-9665bea63557"
      },
      "execution_count": 12,
      "outputs": [
        {
          "output_type": "stream",
          "name": "stdout",
          "text": [
            "SK_ID_CURR - 0.0 %\n",
            "TARGET - 0.0 %\n",
            "NAME_CONTRACT_TYPE - 0.0 %\n",
            "CODE_GENDER - 0.0 %\n",
            "FLAG_OWN_CAR - 0.0 %\n",
            "FLAG_OWN_REALTY - 0.0 %\n",
            "CNT_CHILDREN - 0.0 %\n",
            "AMT_INCOME_TOTAL - 0.0 %\n",
            "AMT_CREDIT - 0.0 %\n",
            "AMT_ANNUITY - 0.0 %\n",
            "AMT_GOODS_PRICE - 0.09 %\n",
            "NAME_TYPE_SUITE - 0.41 %\n",
            "NAME_INCOME_TYPE - 0.0 %\n",
            "NAME_EDUCATION_TYPE - 0.0 %\n",
            "NAME_FAMILY_STATUS - 0.0 %\n",
            "NAME_HOUSING_TYPE - 0.0 %\n",
            "REGION_POPULATION_RELATIVE - 0.0 %\n",
            "DAYS_BIRTH - 0.0 %\n",
            "DAYS_EMPLOYED - 0.0 %\n",
            "DAYS_REGISTRATION - 0.0 %\n",
            "DAYS_ID_PUBLISH - 0.0 %\n",
            "FLAG_MOBIL - 0.0 %\n",
            "FLAG_EMP_PHONE - 0.0 %\n",
            "FLAG_WORK_PHONE - 0.0 %\n",
            "FLAG_CONT_MOBILE - 0.0 %\n",
            "FLAG_PHONE - 0.0 %\n",
            "FLAG_EMAIL - 0.0 %\n",
            "OCCUPATION_TYPE - 31.35 %\n",
            "CNT_FAM_MEMBERS - 0.0 %\n",
            "REGION_RATING_CLIENT - 0.0 %\n",
            "REGION_RATING_CLIENT_W_CITY - 0.0 %\n",
            "WEEKDAY_APPR_PROCESS_START - 0.0 %\n",
            "HOUR_APPR_PROCESS_START - 0.0 %\n",
            "REG_REGION_NOT_LIVE_REGION - 0.0 %\n",
            "REG_REGION_NOT_WORK_REGION - 0.0 %\n",
            "LIVE_REGION_NOT_WORK_REGION - 0.0 %\n",
            "REG_CITY_NOT_LIVE_CITY - 0.0 %\n",
            "REG_CITY_NOT_WORK_CITY - 0.0 %\n",
            "LIVE_CITY_NOT_WORK_CITY - 0.0 %\n",
            "ORGANIZATION_TYPE - 0.0 %\n",
            "EXT_SOURCE_2 - 0.22 %\n",
            "EXT_SOURCE_3 - 19.84 %\n",
            "OBS_30_CNT_SOCIAL_CIRCLE - 0.33 %\n",
            "DEF_30_CNT_SOCIAL_CIRCLE - 0.33 %\n",
            "OBS_60_CNT_SOCIAL_CIRCLE - 0.33 %\n",
            "DEF_60_CNT_SOCIAL_CIRCLE - 0.33 %\n",
            "DAYS_LAST_PHONE_CHANGE - 0.0 %\n",
            "FLAG_DOCUMENT_2 - 0.0 %\n",
            "FLAG_DOCUMENT_3 - 0.0 %\n",
            "FLAG_DOCUMENT_4 - 0.0 %\n",
            "FLAG_DOCUMENT_5 - 0.0 %\n",
            "FLAG_DOCUMENT_6 - 0.0 %\n",
            "FLAG_DOCUMENT_7 - 0.0 %\n",
            "FLAG_DOCUMENT_8 - 0.0 %\n",
            "FLAG_DOCUMENT_9 - 0.0 %\n",
            "FLAG_DOCUMENT_10 - 0.0 %\n",
            "FLAG_DOCUMENT_11 - 0.0 %\n",
            "FLAG_DOCUMENT_12 - 0.0 %\n",
            "FLAG_DOCUMENT_13 - 0.0 %\n",
            "FLAG_DOCUMENT_14 - 0.0 %\n",
            "FLAG_DOCUMENT_15 - 0.0 %\n",
            "FLAG_DOCUMENT_16 - 0.0 %\n",
            "FLAG_DOCUMENT_17 - 0.0 %\n",
            "FLAG_DOCUMENT_18 - 0.0 %\n",
            "FLAG_DOCUMENT_19 - 0.0 %\n",
            "FLAG_DOCUMENT_20 - 0.0 %\n",
            "FLAG_DOCUMENT_21 - 0.0 %\n",
            "AMT_REQ_CREDIT_BUREAU_HOUR - 13.52 %\n",
            "AMT_REQ_CREDIT_BUREAU_DAY - 13.52 %\n",
            "AMT_REQ_CREDIT_BUREAU_WEEK - 13.52 %\n",
            "AMT_REQ_CREDIT_BUREAU_MON - 13.52 %\n",
            "AMT_REQ_CREDIT_BUREAU_QRT - 13.52 %\n",
            "AMT_REQ_CREDIT_BUREAU_YEAR - 13.52 %\n"
          ]
        }
      ]
    },
    {
      "cell_type": "markdown",
      "source": [
        "The remaining columns all have the missing value percentage less than the selected threshold value of 35%"
      ],
      "metadata": {
        "id": "MRWYCW7TMxnq"
      }
    },
    {
      "cell_type": "code",
      "source": [
        "# rechecking the shape\n",
        "inp0.shape"
      ],
      "metadata": {
        "colab": {
          "base_uri": "https://localhost:8080/"
        },
        "id": "Z5JvJyGY9zPt",
        "outputId": "51752d2b-29b0-48dd-b7f1-f96052a98b0e"
      },
      "execution_count": 13,
      "outputs": [
        {
          "output_type": "execute_result",
          "data": {
            "text/plain": [
              "(259337, 73)"
            ]
          },
          "metadata": {},
          "execution_count": 13
        }
      ]
    },
    {
      "cell_type": "markdown",
      "source": [
        "After removal of the columns with more than 35%, we are left with 73 columns"
      ],
      "metadata": {
        "id": "vbOjK2ZaB5JK"
      }
    },
    {
      "cell_type": "markdown",
      "source": [
        "## Missing Value Analysis"
      ],
      "metadata": {
        "id": "BQhmDWE2uDUi"
      }
    },
    {
      "cell_type": "markdown",
      "source": [
        "### Analysis `OCCUPATION_TYPE`\n",
        "\n",
        "- null values = 31.5%"
      ],
      "metadata": {
        "id": "HWqMojWzuKL7"
      }
    },
    {
      "cell_type": "code",
      "source": [
        "print(inp0.OCCUPATION_TYPE.isnull().value_counts())"
      ],
      "metadata": {
        "colab": {
          "base_uri": "https://localhost:8080/"
        },
        "id": "zBUGXaI36q5z",
        "outputId": "dbfca013-ec39-4ff2-8257-a61f3fa2d324"
      },
      "execution_count": 14,
      "outputs": [
        {
          "output_type": "stream",
          "name": "stdout",
          "text": [
            "False    178036\n",
            "True      81301\n",
            "Name: OCCUPATION_TYPE, dtype: int64\n"
          ]
        }
      ]
    },
    {
      "cell_type": "markdown",
      "source": [
        "There are 81301 missing/null values "
      ],
      "metadata": {
        "id": "7yYUGmzY6_uP"
      }
    },
    {
      "cell_type": "code",
      "source": [
        "\n",
        "plt.figure(figsize = (8,8))\n",
        "sns.countplot(data = inp0, y = \"OCCUPATION_TYPE\")\n",
        "plt.xticks(rotation = 0)\n",
        "plt.show()"
      ],
      "metadata": {
        "colab": {
          "base_uri": "https://localhost:8080/",
          "height": 0
        },
        "id": "W9IXjm28cNAx",
        "outputId": "035c5bc6-9be4-4c79-9104-8d5c4243aaf4"
      },
      "execution_count": 15,
      "outputs": [
        {
          "output_type": "display_data",
          "data": {
            "text/plain": [
              "<Figure size 576x576 with 1 Axes>"
            ],
            "image/png": "[encoded data removed]"
          },
          "metadata": {
            "needs_background": "light"
          }
        }
      ]
    },
    {
      "cell_type": "markdown",
      "source": [
        "**Observations**\n",
        "\n",
        "1. The `Laborers` have the highest number of loan applications followed by `Sales staff`. \n",
        "2. It is better not to impute missing values with mode as it would bring in bias in analysis lateron. Also, the missing values are very high at 31.5% which are at 81301 numbers."
      ],
      "metadata": {
        "id": "Gk5ZHrcHdqVa"
      }
    },
    {
      "cell_type": "markdown",
      "source": [
        "### Analysis of `EXT_SOURCE_3`\n",
        "\n",
        "- null values = 19.84%"
      ],
      "metadata": {
        "id": "xARk0oC34XOi"
      }
    },
    {
      "cell_type": "code",
      "source": [
        "print(inp0.EXT_SOURCE_3.isnull().value_counts())"
      ],
      "metadata": {
        "colab": {
          "base_uri": "https://localhost:8080/"
        },
        "id": "gHWtXgs34WD9",
        "outputId": "1eecbce3-6e6a-48e4-8a39-6c8a1278e39f"
      },
      "execution_count": 16,
      "outputs": [
        {
          "output_type": "stream",
          "name": "stdout",
          "text": [
            "False    207884\n",
            "True      51453\n",
            "Name: EXT_SOURCE_3, dtype: int64\n"
          ]
        }
      ]
    },
    {
      "cell_type": "markdown",
      "source": [
        "There are 51453 null values"
      ],
      "metadata": {
        "id": "A53p-4UM720h"
      }
    },
    {
      "cell_type": "code",
      "source": [
        "inp0.EXT_SOURCE_3.describe()\n"
      ],
      "metadata": {
        "colab": {
          "base_uri": "https://localhost:8080/"
        },
        "id": "vPyPuWfJ75og",
        "outputId": "7584c53e-3c51-47a5-996d-e46cf229b486"
      },
      "execution_count": 17,
      "outputs": [
        {
          "output_type": "execute_result",
          "data": {
            "text/plain": [
              "count   207884.00\n",
              "mean         0.51\n",
              "std          0.19\n",
              "min          0.00\n",
              "25%          0.37\n",
              "50%          0.54\n",
              "75%          0.67\n",
              "max          0.90\n",
              "Name: EXT_SOURCE_3, dtype: float64"
            ]
          },
          "metadata": {},
          "execution_count": 17
        }
      ]
    },
    {
      "cell_type": "markdown",
      "source": [
        "**Observations**\n",
        "\n",
        "1. The missing values are 19.84% of the total records. \n",
        "2. The mean and median are all close. However, since the missing values is high, it is not suitable for imputation. "
      ],
      "metadata": {
        "id": "C9HSbVnl8BLE"
      }
    },
    {
      "cell_type": "markdown",
      "source": [
        "## Analysis of the below mentioned columns with missing values of 13.52% \n",
        "\n",
        "1. AMT_REQ_CREDIT_BUREAU_HOUR\n",
        "2. AMT_REQ_CREDIT_BUREAU_DAY \n",
        "3. AMT_REQ_CREDIT_BUREAU_WEEK\n",
        "4. AMT_REQ_CREDIT_BUREAU_MON \n",
        "5. AMT_REQ_CREDIT_BUREAU_QRT \n",
        "6. AMT_REQ_CREDIT_BUREAU_YEAR"
      ],
      "metadata": {
        "id": "OfUL_PqQ8cnV"
      }
    },
    {
      "cell_type": "code",
      "source": [
        "inp0[['AMT_REQ_CREDIT_BUREAU_HOUR',\n",
        "'AMT_REQ_CREDIT_BUREAU_DAY',\n",
        "'AMT_REQ_CREDIT_BUREAU_WEEK',\n",
        "'AMT_REQ_CREDIT_BUREAU_MON',\n",
        "'AMT_REQ_CREDIT_BUREAU_QRT',\n",
        "'AMT_REQ_CREDIT_BUREAU_YEAR']].describe()"
      ],
      "metadata": {
        "colab": {
          "base_uri": "https://localhost:8080/",
          "height": 0
        },
        "id": "GEyb7Uj87x8p",
        "outputId": "63eba33b-122c-42a8-a453-86b7a9361382"
      },
      "execution_count": 18,
      "outputs": [
        {
          "output_type": "execute_result",
          "data": {
            "text/plain": [
              "       AMT_REQ_CREDIT_BUREAU_HOUR  AMT_REQ_CREDIT_BUREAU_DAY  \\\n",
              "count                   224275.00                  224275.00   \n",
              "mean                         0.01                       0.01   \n",
              "std                          0.08                       0.11   \n",
              "min                          0.00                       0.00   \n",
              "25%                          0.00                       0.00   \n",
              "50%                          0.00                       0.00   \n",
              "75%                          0.00                       0.00   \n",
              "max                          4.00                       9.00   \n",
              "\n",
              "       AMT_REQ_CREDIT_BUREAU_WEEK  AMT_REQ_CREDIT_BUREAU_MON  \\\n",
              "count                   224275.00                  224275.00   \n",
              "mean                         0.03                       0.27   \n",
              "std                          0.21                       0.91   \n",
              "min                          0.00                       0.00   \n",
              "25%                          0.00                       0.00   \n",
              "50%                          0.00                       0.00   \n",
              "75%                          0.00                       0.00   \n",
              "max                          8.00                      27.00   \n",
              "\n",
              "       AMT_REQ_CREDIT_BUREAU_QRT  AMT_REQ_CREDIT_BUREAU_YEAR  \n",
              "count                  224275.00                   224275.00  \n",
              "mean                        0.27                        1.91  \n",
              "std                         0.82                        1.87  \n",
              "min                         0.00                        0.00  \n",
              "25%                         0.00                        0.00  \n",
              "50%                         0.00                        1.00  \n",
              "75%                         0.00                        3.00  \n",
              "max                       261.00                       25.00  "
            ],
            "text/html": [
              "\n",
              "  <div id=\"df-52bd3bf4-e484-4658-af6c-b955f580c356\">\n",
              "    <div class=\"colab-df-container\">\n",
              "      <div>\n",
              "<style scoped>\n",
              "    .dataframe tbody tr th:only-of-type {\n",
              "        vertical-align: middle;\n",
              "    }\n",
              "\n",
              "    .dataframe tbody tr th {\n",
              "        vertical-align: top;\n",
              "    }\n",
              "\n",
              "    .dataframe thead th {\n",
              "        text-align: right;\n",
              "    }\n",
              "</style>\n",
              "<table border=\"1\" class=\"dataframe\">\n",
              "  <thead>\n",
              "    <tr style=\"text-align: right;\">\n",
              "      <th></th>\n",
              "      <th>AMT_REQ_CREDIT_BUREAU_HOUR</th>\n",
              "      <th>AMT_REQ_CREDIT_BUREAU_DAY</th>\n",
              "      <th>AMT_REQ_CREDIT_BUREAU_WEEK</th>\n",
              "      <th>AMT_REQ_CREDIT_BUREAU_MON</th>\n",
              "      <th>AMT_REQ_CREDIT_BUREAU_QRT</th>\n",
              "      <th>AMT_REQ_CREDIT_BUREAU_YEAR</th>\n",
              "    </tr>\n",
              "  </thead>\n",
              "  <tbody>\n",
              "    <tr>\n",
              "      <th>count</th>\n",
              "      <td>224275.00</td>\n",
              "      <td>224275.00</td>\n",
              "      <td>224275.00</td>\n",
              "      <td>224275.00</td>\n",
              "      <td>224275.00</td>\n",
              "      <td>224275.00</td>\n",
              "    </tr>\n",
              "    <tr>\n",
              "      <th>mean</th>\n",
              "      <td>0.01</td>\n",
              "      <td>0.01</td>\n",
              "      <td>0.03</td>\n",
              "      <td>0.27</td>\n",
              "      <td>0.27</td>\n",
              "      <td>1.91</td>\n",
              "    </tr>\n",
              "    <tr>\n",
              "      <th>std</th>\n",
              "      <td>0.08</td>\n",
              "      <td>0.11</td>\n",
              "      <td>0.21</td>\n",
              "      <td>0.91</td>\n",
              "      <td>0.82</td>\n",
              "      <td>1.87</td>\n",
              "    </tr>\n",
              "    <tr>\n",
              "      <th>min</th>\n",
              "      <td>0.00</td>\n",
              "      <td>0.00</td>\n",
              "      <td>0.00</td>\n",
              "      <td>0.00</td>\n",
              "      <td>0.00</td>\n",
              "      <td>0.00</td>\n",
              "    </tr>\n",
              "    <tr>\n",
              "      <th>25%</th>\n",
              "      <td>0.00</td>\n",
              "      <td>0.00</td>\n",
              "      <td>0.00</td>\n",
              "      <td>0.00</td>\n",
              "      <td>0.00</td>\n",
              "      <td>0.00</td>\n",
              "    </tr>\n",
              "    <tr>\n",
              "      <th>50%</th>\n",
              "      <td>0.00</td>\n",
              "      <td>0.00</td>\n",
              "      <td>0.00</td>\n",
              "      <td>0.00</td>\n",
              "      <td>0.00</td>\n",
              "      <td>1.00</td>\n",
              "    </tr>\n",
              "    <tr>\n",
              "      <th>75%</th>\n",
              "      <td>0.00</td>\n",
              "      <td>0.00</td>\n",
              "      <td>0.00</td>\n",
              "      <td>0.00</td>\n",
              "      <td>0.00</td>\n",
              "      <td>3.00</td>\n",
              "    </tr>\n",
              "    <tr>\n",
              "      <th>max</th>\n",
              "      <td>4.00</td>\n",
              "      <td>9.00</td>\n",
              "      <td>8.00</td>\n",
              "      <td>27.00</td>\n",
              "      <td>261.00</td>\n",
              "      <td>25.00</td>\n",
              "    </tr>\n",
              "  </tbody>\n",
              "</table>\n",
              "</div>\n",
              "      <button class=\"colab-df-convert\" onclick=\"convertToInteractive('df-52bd3bf4-e484-4658-af6c-b955f580c356')\"\n",
              "              title=\"Convert this dataframe to an interactive table.\"\n",
              "              style=\"display:none;\">\n",
              "        \n",
              "  <svg xmlns=\"http://www.w3.org/2000/svg\" height=\"24px\"viewBox=\"0 0 24 24\"\n",
              "       width=\"24px\">\n",
              "    <path d=\"M0 0h24v24H0V0z\" fill=\"none\"/>\n",
              "    <path d=\"M18.56 5.44l.94 2.06.94-2.06 2.06-.94-2.06-.94-.94-2.06-.94 2.06-2.06.94zm-11 1L8.5 8.5l.94-2.06 2.06-.94-2.06-.94L8.5 2.5l-.94 2.06-2.06.94zm10 10l.94 2.06.94-2.06 2.06-.94-2.06-.94-.94-2.06-.94 2.06-2.06.94z\"/><path d=\"M17.41 7.96l-1.37-1.37c-.4-.4-.92-.59-1.43-.59-.52 0-1.04.2-1.43.59L10.3 9.45l-7.72 7.72c-.78.78-.78 2.05 0 2.83L4 21.41c.39.39.9.59 1.41.59.51 0 1.02-.2 1.41-.59l7.78-7.78 2.81-2.81c.8-.78.8-2.07 0-2.86zM5.41 20L4 18.59l7.72-7.72 1.47 1.35L5.41 20z\"/>\n",
              "  </svg>\n",
              "      </button>\n",
              "      \n",
              "  <style>\n",
              "    .colab-df-container {\n",
              "      display:flex;\n",
              "      flex-wrap:wrap;\n",
              "      gap: 12px;\n",
              "    }\n",
              "\n",
              "    .colab-df-convert {\n",
              "      background-color: #E8F0FE;\n",
              "      border: none;\n",
              "      border-radius: 50%;\n",
              "      cursor: pointer;\n",
              "      display: none;\n",
              "      fill: #1967D2;\n",
              "      height: 32px;\n",
              "      padding: 0 0 0 0;\n",
              "      width: 32px;\n",
              "    }\n",
              "\n",
              "    .colab-df-convert:hover {\n",
              "      background-color: #E2EBFA;\n",
              "      box-shadow: 0px 1px 2px rgba(60, 64, 67, 0.3), 0px 1px 3px 1px rgba(60, 64, 67, 0.15);\n",
              "      fill: #174EA6;\n",
              "    }\n",
              "\n",
              "    [theme=dark] .colab-df-convert {\n",
              "      background-color: #3B4455;\n",
              "      fill: #D2E3FC;\n",
              "    }\n",
              "\n",
              "    [theme=dark] .colab-df-convert:hover {\n",
              "      background-color: #434B5C;\n",
              "      box-shadow: 0px 1px 3px 1px rgba(0, 0, 0, 0.15);\n",
              "      filter: drop-shadow(0px 1px 2px rgba(0, 0, 0, 0.3));\n",
              "      fill: #FFFFFF;\n",
              "    }\n",
              "  </style>\n",
              "\n",
              "      <script>\n",
              "        const buttonEl =\n",
              "          document.querySelector('#df-52bd3bf4-e484-4658-af6c-b955f580c356 button.colab-df-convert');\n",
              "        buttonEl.style.display =\n",
              "          google.colab.kernel.accessAllowed ? 'block' : 'none';\n",
              "\n",
              "        async function convertToInteractive(key) {\n",
              "          const element = document.querySelector('#df-52bd3bf4-e484-4658-af6c-b955f580c356');\n",
              "          const dataTable =\n",
              "            await google.colab.kernel.invokeFunction('convertToInteractive',\n",
              "                                                     [key], {});\n",
              "          if (!dataTable) return;\n",
              "\n",
              "          const docLinkHtml = 'Like what you see? Visit the ' +\n",
              "            '<a target=\"_blank\" href=https://colab.research.google.com/notebooks/data_table.ipynb>data table notebook</a>'\n",
              "            + ' to learn more about interactive tables.';\n",
              "          element.innerHTML = '';\n",
              "          dataTable['output_type'] = 'display_data';\n",
              "          await google.colab.output.renderOutput(dataTable, element);\n",
              "          const docLink = document.createElement('div');\n",
              "          docLink.innerHTML = docLinkHtml;\n",
              "          element.appendChild(docLink);\n",
              "        }\n",
              "      </script>\n",
              "    </div>\n",
              "  </div>\n",
              "  "
            ]
          },
          "metadata": {},
          "execution_count": 18
        }
      ]
    },
    {
      "cell_type": "code",
      "source": [
        "inp0[['AMT_REQ_CREDIT_BUREAU_HOUR',\n",
        "'AMT_REQ_CREDIT_BUREAU_DAY',\n",
        "'AMT_REQ_CREDIT_BUREAU_WEEK',\n",
        "'AMT_REQ_CREDIT_BUREAU_MON',\n",
        "'AMT_REQ_CREDIT_BUREAU_QRT',\n",
        "'AMT_REQ_CREDIT_BUREAU_YEAR']].mode()"
      ],
      "metadata": {
        "colab": {
          "base_uri": "https://localhost:8080/",
          "height": 0
        },
        "id": "pO5OUhiSEfLS",
        "outputId": "7ea899c4-8a37-46c1-ab39-0470e8ad596d"
      },
      "execution_count": 19,
      "outputs": [
        {
          "output_type": "execute_result",
          "data": {
            "text/plain": [
              "   AMT_REQ_CREDIT_BUREAU_HOUR  AMT_REQ_CREDIT_BUREAU_DAY  \\\n",
              "0                        0.00                       0.00   \n",
              "\n",
              "   AMT_REQ_CREDIT_BUREAU_WEEK  AMT_REQ_CREDIT_BUREAU_MON  \\\n",
              "0                        0.00                       0.00   \n",
              "\n",
              "   AMT_REQ_CREDIT_BUREAU_QRT  AMT_REQ_CREDIT_BUREAU_YEAR  \n",
              "0                       0.00                        0.00  "
            ],
            "text/html": [
              "\n",
              "  <div id=\"df-003013b2-74fa-4261-8438-8514f63a440f\">\n",
              "    <div class=\"colab-df-container\">\n",
              "      <div>\n",
              "<style scoped>\n",
              "    .dataframe tbody tr th:only-of-type {\n",
              "        vertical-align: middle;\n",
              "    }\n",
              "\n",
              "    .dataframe tbody tr th {\n",
              "        vertical-align: top;\n",
              "    }\n",
              "\n",
              "    .dataframe thead th {\n",
              "        text-align: right;\n",
              "    }\n",
              "</style>\n",
              "<table border=\"1\" class=\"dataframe\">\n",
              "  <thead>\n",
              "    <tr style=\"text-align: right;\">\n",
              "      <th></th>\n",
              "      <th>AMT_REQ_CREDIT_BUREAU_HOUR</th>\n",
              "      <th>AMT_REQ_CREDIT_BUREAU_DAY</th>\n",
              "      <th>AMT_REQ_CREDIT_BUREAU_WEEK</th>\n",
              "      <th>AMT_REQ_CREDIT_BUREAU_MON</th>\n",
              "      <th>AMT_REQ_CREDIT_BUREAU_QRT</th>\n",
              "      <th>AMT_REQ_CREDIT_BUREAU_YEAR</th>\n",
              "    </tr>\n",
              "  </thead>\n",
              "  <tbody>\n",
              "    <tr>\n",
              "      <th>0</th>\n",
              "      <td>0.00</td>\n",
              "      <td>0.00</td>\n",
              "      <td>0.00</td>\n",
              "      <td>0.00</td>\n",
              "      <td>0.00</td>\n",
              "      <td>0.00</td>\n",
              "    </tr>\n",
              "  </tbody>\n",
              "</table>\n",
              "</div>\n",
              "      <button class=\"colab-df-convert\" onclick=\"convertToInteractive('df-003013b2-74fa-4261-8438-8514f63a440f')\"\n",
              "              title=\"Convert this dataframe to an interactive table.\"\n",
              "              style=\"display:none;\">\n",
              "        \n",
              "  <svg xmlns=\"http://www.w3.org/2000/svg\" height=\"24px\"viewBox=\"0 0 24 24\"\n",
              "       width=\"24px\">\n",
              "    <path d=\"M0 0h24v24H0V0z\" fill=\"none\"/>\n",
              "    <path d=\"M18.56 5.44l.94 2.06.94-2.06 2.06-.94-2.06-.94-.94-2.06-.94 2.06-2.06.94zm-11 1L8.5 8.5l.94-2.06 2.06-.94-2.06-.94L8.5 2.5l-.94 2.06-2.06.94zm10 10l.94 2.06.94-2.06 2.06-.94-2.06-.94-.94-2.06-.94 2.06-2.06.94z\"/><path d=\"M17.41 7.96l-1.37-1.37c-.4-.4-.92-.59-1.43-.59-.52 0-1.04.2-1.43.59L10.3 9.45l-7.72 7.72c-.78.78-.78 2.05 0 2.83L4 21.41c.39.39.9.59 1.41.59.51 0 1.02-.2 1.41-.59l7.78-7.78 2.81-2.81c.8-.78.8-2.07 0-2.86zM5.41 20L4 18.59l7.72-7.72 1.47 1.35L5.41 20z\"/>\n",
              "  </svg>\n",
              "      </button>\n",
              "      \n",
              "  <style>\n",
              "    .colab-df-container {\n",
              "      display:flex;\n",
              "      flex-wrap:wrap;\n",
              "      gap: 12px;\n",
              "    }\n",
              "\n",
              "    .colab-df-convert {\n",
              "      background-color: #E8F0FE;\n",
              "      border: none;\n",
              "      border-radius: 50%;\n",
              "      cursor: pointer;\n",
              "      display: none;\n",
              "      fill: #1967D2;\n",
              "      height: 32px;\n",
              "      padding: 0 0 0 0;\n",
              "      width: 32px;\n",
              "    }\n",
              "\n",
              "    .colab-df-convert:hover {\n",
              "      background-color: #E2EBFA;\n",
              "      box-shadow: 0px 1px 2px rgba(60, 64, 67, 0.3), 0px 1px 3px 1px rgba(60, 64, 67, 0.15);\n",
              "      fill: #174EA6;\n",
              "    }\n",
              "\n",
              "    [theme=dark] .colab-df-convert {\n",
              "      background-color: #3B4455;\n",
              "      fill: #D2E3FC;\n",
              "    }\n",
              "\n",
              "    [theme=dark] .colab-df-convert:hover {\n",
              "      background-color: #434B5C;\n",
              "      box-shadow: 0px 1px 3px 1px rgba(0, 0, 0, 0.15);\n",
              "      filter: drop-shadow(0px 1px 2px rgba(0, 0, 0, 0.3));\n",
              "      fill: #FFFFFF;\n",
              "    }\n",
              "  </style>\n",
              "\n",
              "      <script>\n",
              "        const buttonEl =\n",
              "          document.querySelector('#df-003013b2-74fa-4261-8438-8514f63a440f button.colab-df-convert');\n",
              "        buttonEl.style.display =\n",
              "          google.colab.kernel.accessAllowed ? 'block' : 'none';\n",
              "\n",
              "        async function convertToInteractive(key) {\n",
              "          const element = document.querySelector('#df-003013b2-74fa-4261-8438-8514f63a440f');\n",
              "          const dataTable =\n",
              "            await google.colab.kernel.invokeFunction('convertToInteractive',\n",
              "                                                     [key], {});\n",
              "          if (!dataTable) return;\n",
              "\n",
              "          const docLinkHtml = 'Like what you see? Visit the ' +\n",
              "            '<a target=\"_blank\" href=https://colab.research.google.com/notebooks/data_table.ipynb>data table notebook</a>'\n",
              "            + ' to learn more about interactive tables.';\n",
              "          element.innerHTML = '';\n",
              "          dataTable['output_type'] = 'display_data';\n",
              "          await google.colab.output.renderOutput(dataTable, element);\n",
              "          const docLink = document.createElement('div');\n",
              "          docLink.innerHTML = docLinkHtml;\n",
              "          element.appendChild(docLink);\n",
              "        }\n",
              "      </script>\n",
              "    </div>\n",
              "  </div>\n",
              "  "
            ]
          },
          "metadata": {},
          "execution_count": 19
        }
      ]
    },
    {
      "cell_type": "markdown",
      "source": [
        "**Observations for the above analysis**\n",
        "\n",
        "The mode is 0 for all the variable and the missing values is high at 13.52%. \n",
        "On account of high missing values, imputation is not suitable as it may bring bias in analysis "
      ],
      "metadata": {
        "id": "AlSJsp2OEiuo"
      }
    },
    {
      "cell_type": "markdown",
      "source": [
        "## Handling unknown/incorrect values"
      ],
      "metadata": {
        "id": "euc1QcCWFpO1"
      }
    },
    {
      "cell_type": "markdown",
      "source": [
        "### Analysis of the `TARGET` column"
      ],
      "metadata": {
        "id": "8grn2oOBF23E"
      }
    },
    {
      "cell_type": "markdown",
      "source": [
        "checking range of values"
      ],
      "metadata": {
        "id": "YQzPeXp2Gh2c"
      }
    },
    {
      "cell_type": "code",
      "source": [
        "inp0.TARGET.value_counts()"
      ],
      "metadata": {
        "colab": {
          "base_uri": "https://localhost:8080/"
        },
        "id": "QCMtoNjIFpn-",
        "outputId": "e3ff6607-2e6e-4f51-bb0b-32e4c8e7407d"
      },
      "execution_count": 20,
      "outputs": [
        {
          "output_type": "execute_result",
          "data": {
            "text/plain": [
              "0    238319\n",
              "1     21018\n",
              "Name: TARGET, dtype: int64"
            ]
          },
          "metadata": {},
          "execution_count": 20
        }
      ]
    },
    {
      "cell_type": "markdown",
      "source": [
        "There are no incorrect/unknown data value in the TARGET COLUMN. "
      ],
      "metadata": {
        "id": "VLokMe2eGrJP"
      }
    },
    {
      "cell_type": "markdown",
      "source": [
        "### Analysis of the `NAME_CONTRACT_TYPE` column"
      ],
      "metadata": {
        "id": "DpCVj6_uGyi3"
      }
    },
    {
      "cell_type": "markdown",
      "source": [
        "checking the range of data"
      ],
      "metadata": {
        "id": "_cEuHnwHHAZD"
      }
    },
    {
      "cell_type": "code",
      "source": [
        "inp0.NAME_CONTRACT_TYPE.value_counts()"
      ],
      "metadata": {
        "colab": {
          "base_uri": "https://localhost:8080/"
        },
        "id": "EJHHFjMjHDFo",
        "outputId": "c532715e-6f77-48fe-9cbe-7f4d33a29f3a"
      },
      "execution_count": 21,
      "outputs": [
        {
          "output_type": "execute_result",
          "data": {
            "text/plain": [
              "Cash loans         234779\n",
              "Revolving loans     24558\n",
              "Name: NAME_CONTRACT_TYPE, dtype: int64"
            ]
          },
          "metadata": {},
          "execution_count": 21
        }
      ]
    },
    {
      "cell_type": "markdown",
      "source": [
        "There are no incorrect/unknown data value in the `NAME_CONTRACT_TYPE` column. "
      ],
      "metadata": {
        "id": "wJmVGFZIHIfM"
      }
    },
    {
      "cell_type": "markdown",
      "source": [
        "## Analysis of the `CODE_GENDER` column"
      ],
      "metadata": {
        "id": "ZphROx7fHPtz"
      }
    },
    {
      "cell_type": "markdown",
      "source": [
        "checking range of values"
      ],
      "metadata": {
        "id": "ks7Api17HQMD"
      }
    },
    {
      "cell_type": "code",
      "source": [
        "inp0.CODE_GENDER.value_counts()"
      ],
      "metadata": {
        "colab": {
          "base_uri": "https://localhost:8080/"
        },
        "id": "mMICouDrHRIh",
        "outputId": "eb3fdf91-57e4-41cb-ec9d-cc5547667b4f"
      },
      "execution_count": 22,
      "outputs": [
        {
          "output_type": "execute_result",
          "data": {
            "text/plain": [
              "F      170789\n",
              "M       88544\n",
              "XNA         4\n",
              "Name: CODE_GENDER, dtype: int64"
            ]
          },
          "metadata": {},
          "execution_count": 22
        }
      ]
    },
    {
      "cell_type": "markdown",
      "source": [
        "*Gender can be of two types F/M. `XNA` is incorrect gender.*\n",
        "\n",
        "*Since number of Females applicants are higher, it is better to replace `XNA` with `F`. Hence replacing `XNA` with F*"
      ],
      "metadata": {
        "id": "d7y1MGyqHRPz"
      }
    },
    {
      "cell_type": "code",
      "source": [
        "inp0['CODE_GENDER'] = inp0['CODE_GENDER'].apply(lambda x: 'F' if x == 'XNA' else x)"
      ],
      "metadata": {
        "id": "-1_YNv8wINK3"
      },
      "execution_count": 23,
      "outputs": []
    },
    {
      "cell_type": "markdown",
      "source": [
        "Checking if `XNA` is removed"
      ],
      "metadata": {
        "id": "M-ID_OwFIv0K"
      }
    },
    {
      "cell_type": "code",
      "source": [
        "inp0.CODE_GENDER.value_counts()"
      ],
      "metadata": {
        "colab": {
          "base_uri": "https://localhost:8080/"
        },
        "id": "TPpreYQBIzqg",
        "outputId": "9060f938-3be7-4d16-cc32-6bf3937d4a19"
      },
      "execution_count": 24,
      "outputs": [
        {
          "output_type": "execute_result",
          "data": {
            "text/plain": [
              "F    170793\n",
              "M     88544\n",
              "Name: CODE_GENDER, dtype: int64"
            ]
          },
          "metadata": {},
          "execution_count": 24
        }
      ]
    },
    {
      "cell_type": "markdown",
      "source": [
        ""
      ],
      "metadata": {
        "id": "0_uqyEQzHRl1"
      }
    },
    {
      "cell_type": "markdown",
      "source": [
        "###Checking for incorrect/unknown values for the entire database"
      ],
      "metadata": {
        "id": "gE8AjX18HRri"
      }
    },
    {
      "cell_type": "code",
      "source": [
        "for i in inp0.columns:\n",
        "  print(i,'\\n')\n",
        "  print(inp0[i].value_counts(),'\\n')\n",
        "  "
      ],
      "metadata": {
        "colab": {
          "base_uri": "https://localhost:8080/"
        },
        "id": "4uC66eNKHR_w",
        "outputId": "771db4ea-7d70-4b4f-fdde-857176796dfe"
      },
      "execution_count": 25,
      "outputs": [
        {
          "output_type": "stream",
          "name": "stdout",
          "text": [
            "SK_ID_CURR \n",
            "\n",
            "100002    1\n",
            "300357    1\n",
            "300340    1\n",
            "300341    1\n",
            "300342    1\n",
            "         ..\n",
            "200327    1\n",
            "200328    1\n",
            "200329    1\n",
            "200330    1\n",
            "400130    1\n",
            "Name: SK_ID_CURR, Length: 259337, dtype: int64 \n",
            "\n",
            "TARGET \n",
            "\n",
            "0    238319\n",
            "1     21018\n",
            "Name: TARGET, dtype: int64 \n",
            "\n",
            "NAME_CONTRACT_TYPE \n",
            "\n",
            "Cash loans         234779\n",
            "Revolving loans     24558\n",
            "Name: NAME_CONTRACT_TYPE, dtype: int64 \n",
            "\n",
            "CODE_GENDER \n",
            "\n",
            "F    170793\n",
            "M     88544\n",
            "Name: CODE_GENDER, dtype: int64 \n",
            "\n",
            "FLAG_OWN_CAR \n",
            "\n",
            "N    171280\n",
            "Y     88057\n",
            "Name: FLAG_OWN_CAR, dtype: int64 \n",
            "\n",
            "FLAG_OWN_REALTY \n",
            "\n",
            "Y    180152\n",
            "N     79185\n",
            "Name: FLAG_OWN_REALTY, dtype: int64 \n",
            "\n",
            "CNT_CHILDREN \n",
            "\n",
            "0     181681\n",
            "1      51493\n",
            "2      22525\n",
            "3       3161\n",
            "4        368\n",
            "5         73\n",
            "6         19\n",
            "7          6\n",
            "8          2\n",
            "12         2\n",
            "10         2\n",
            "14         2\n",
            "9          1\n",
            "11         1\n",
            "19         1\n",
            "Name: CNT_CHILDREN, dtype: int64 \n",
            "\n",
            "AMT_INCOME_TOTAL \n",
            "\n",
            "135000.00    30109\n",
            "112500.00    26122\n",
            "157500.00    22455\n",
            "180000.00    20852\n",
            "90000.00     18972\n",
            "             ...  \n",
            "125316.00        1\n",
            "153450.00        1\n",
            "160515.00        1\n",
            "143527.50        1\n",
            "72922.50         1\n",
            "Name: AMT_INCOME_TOTAL, Length: 2245, dtype: int64 \n",
            "\n",
            "AMT_CREDIT \n",
            "\n",
            "450000.00     8168\n",
            "675000.00     7387\n",
            "225000.00     6872\n",
            "180000.00     6170\n",
            "270000.00     6071\n",
            "              ... \n",
            "1829691.00       1\n",
            "462051.00        1\n",
            "2318130.00       1\n",
            "610443.00        1\n",
            "2576898.00       1\n",
            "Name: AMT_CREDIT, Length: 5373, dtype: int64 \n",
            "\n",
            "AMT_ANNUITY \n",
            "\n",
            "9000.00     5364\n",
            "13500.00    4631\n",
            "6750.00     1909\n",
            "10125.00    1713\n",
            "37800.00    1342\n",
            "            ... \n",
            "54927.00       1\n",
            "10035.00       1\n",
            "4887.00        1\n",
            "75730.50       1\n",
            "50287.50       1\n",
            "Name: AMT_ANNUITY, Length: 13273, dtype: int64 \n",
            "\n",
            "AMT_GOODS_PRICE \n",
            "\n",
            "450000.00    21863\n",
            "225000.00    21369\n",
            "675000.00    21010\n",
            "900000.00    12984\n",
            "270000.00     9591\n",
            "             ...  \n",
            "862893.00        1\n",
            "316444.50        1\n",
            "553999.50        1\n",
            "369256.50        1\n",
            "205533.00        1\n",
            "Name: AMT_GOODS_PRICE, Length: 924, dtype: int64 \n",
            "\n",
            "NAME_TYPE_SUITE \n",
            "\n",
            "Unaccompanied      209594\n",
            "Family              33907\n",
            "Spouse, partner      9576\n",
            "Children             2768\n",
            "Other_B              1487\n",
            "Other_A               728\n",
            "Group of people       223\n",
            "Name: NAME_TYPE_SUITE, dtype: int64 \n",
            "\n",
            "NAME_INCOME_TYPE \n",
            "\n",
            "Working                 133963\n",
            "Commercial associate     60304\n",
            "Pensioner                46756\n",
            "State servant            18268\n",
            "Unemployed                  20\n",
            "Student                     14\n",
            "Businessman                  9\n",
            "Maternity leave              3\n",
            "Name: NAME_INCOME_TYPE, dtype: int64 \n",
            "\n",
            "NAME_EDUCATION_TYPE \n",
            "\n",
            "Secondary / secondary special    184339\n",
            "Higher education                  63045\n",
            "Incomplete higher                  8619\n",
            "Lower secondary                    3197\n",
            "Academic degree                     137\n",
            "Name: NAME_EDUCATION_TYPE, dtype: int64 \n",
            "\n",
            "NAME_FAMILY_STATUS \n",
            "\n",
            "Married                 165815\n",
            "Single / not married     38262\n",
            "Civil marriage           25031\n",
            "Separated                16666\n",
            "Widow                    13561\n",
            "Unknown                      2\n",
            "Name: NAME_FAMILY_STATUS, dtype: int64 \n",
            "\n",
            "NAME_HOUSING_TYPE \n",
            "\n",
            "House / apartment      230225\n",
            "With parents            12488\n",
            "Municipal apartment      9402\n",
            "Rented apartment         4076\n",
            "Office apartment         2190\n",
            "Co-op apartment           956\n",
            "Name: NAME_HOUSING_TYPE, dtype: int64 \n",
            "\n",
            "REGION_POPULATION_RELATIVE \n",
            "\n",
            "0.04    13805\n",
            "0.05    11377\n",
            "0.03    10286\n",
            "0.03    10078\n",
            "0.03     9797\n",
            "        ...  \n",
            "0.00      401\n",
            "0.00      205\n",
            "0.00       37\n",
            "0.00       21\n",
            "0.00        1\n",
            "Name: REGION_POPULATION_RELATIVE, Length: 81, dtype: int64 \n",
            "\n",
            "DAYS_BIRTH \n",
            "\n",
            "-18248    38\n",
            "-13480    36\n",
            "-14395    36\n",
            "-11664    35\n",
            "-14926    35\n",
            "          ..\n",
            "-25147     1\n",
            "-24371     1\n",
            "-8034      1\n",
            "-25065     1\n",
            "-1417      1\n",
            "Name: DAYS_BIRTH, Length: 17415, dtype: int64 \n",
            "\n",
            "DAYS_EMPLOYED \n",
            "\n",
            "365243.00    46768\n",
            "-230.00        133\n",
            "-200.00        130\n",
            "-212.00        128\n",
            "-199.00        127\n",
            "             ...  \n",
            "-8865.00         1\n",
            "-12397.00        1\n",
            "-13250.00        1\n",
            "-6479.00         1\n",
            "-8750.00         1\n",
            "Name: DAYS_EMPLOYED, Length: 12183, dtype: int64 \n",
            "\n",
            "DAYS_REGISTRATION \n",
            "\n",
            "-1.00        100\n",
            "-6.00         83\n",
            "-4.00         80\n",
            "-2.00         78\n",
            "-7.00         76\n",
            "            ... \n",
            "-15680.00      1\n",
            "-13946.00      1\n",
            "-14071.00      1\n",
            "-14636.00      1\n",
            "-15538.00      1\n",
            "Name: DAYS_REGISTRATION, Length: 15494, dtype: int64 \n",
            "\n",
            "DAYS_ID_PUBLISH \n",
            "\n",
            "-4053.00    146\n",
            "-4046.00    138\n",
            "-4096.00    137\n",
            "-4095.00    134\n",
            "-4151.00    134\n",
            "           ... \n",
            "-5786.00      1\n",
            "-5907.00      1\n",
            "-5808.00      1\n",
            "-5876.00      1\n",
            "-6175.00      1\n",
            "Name: DAYS_ID_PUBLISH, Length: 6137, dtype: int64 \n",
            "\n",
            "FLAG_MOBIL \n",
            "\n",
            "1.00    259335\n",
            "0.00         1\n",
            "Name: FLAG_MOBIL, dtype: int64 \n",
            "\n",
            "FLAG_EMP_PHONE \n",
            "\n",
            "1.00    212558\n",
            "0.00     46778\n",
            "Name: FLAG_EMP_PHONE, dtype: int64 \n",
            "\n",
            "FLAG_WORK_PHONE \n",
            "\n",
            "0.00    207715\n",
            "1.00     51621\n",
            "Name: FLAG_WORK_PHONE, dtype: int64 \n",
            "\n",
            "FLAG_CONT_MOBILE \n",
            "\n",
            "1.00    258857\n",
            "0.00       479\n",
            "Name: FLAG_CONT_MOBILE, dtype: int64 \n",
            "\n",
            "FLAG_PHONE \n",
            "\n",
            "0.00    186356\n",
            "1.00     72980\n",
            "Name: FLAG_PHONE, dtype: int64 \n",
            "\n",
            "FLAG_EMAIL \n",
            "\n",
            "0.00    244538\n",
            "1.00     14798\n",
            "Name: FLAG_EMAIL, dtype: int64 \n",
            "\n",
            "OCCUPATION_TYPE \n",
            "\n",
            "Laborers                 46640\n",
            "Sales staff              26959\n",
            "Core staff               23298\n",
            "Managers                 18013\n",
            "Drivers                  15680\n",
            "High skill tech staff     9561\n",
            "Accountants               8298\n",
            "Medicine staff            7233\n",
            "Security staff            5682\n",
            "Cooking staff             5031\n",
            "Cleaning staff            3899\n",
            "Private service staff     2236\n",
            "Low-skill Laborers        1755\n",
            "Waiters/barmen staff      1129\n",
            "Secretaries               1094\n",
            "Realty agents              622\n",
            "HR staff                   465\n",
            "IT staff                   441\n",
            "Name: OCCUPATION_TYPE, dtype: int64 \n",
            "\n",
            "CNT_FAM_MEMBERS \n",
            "\n",
            "2.00     133530\n",
            "1.00      57230\n",
            "3.00      44336\n",
            "4.00      20820\n",
            "5.00       2963\n",
            "6.00        351\n",
            "7.00         70\n",
            "8.00         17\n",
            "9.00          6\n",
            "10.00         3\n",
            "14.00         2\n",
            "12.00         2\n",
            "13.00         1\n",
            "20.00         1\n",
            "15.00         1\n",
            "16.00         1\n",
            "Name: CNT_FAM_MEMBERS, dtype: int64 \n",
            "\n",
            "REGION_RATING_CLIENT \n",
            "\n",
            "2.00    191463\n",
            "3.00     40767\n",
            "1.00     27106\n",
            "Name: REGION_RATING_CLIENT, dtype: int64 \n",
            "\n",
            "REGION_RATING_CLIENT_W_CITY \n",
            "\n",
            "2.00    193589\n",
            "3.00     36980\n",
            "1.00     28767\n",
            "Name: REGION_RATING_CLIENT_W_CITY, dtype: int64 \n",
            "\n",
            "WEEKDAY_APPR_PROCESS_START \n",
            "\n",
            "TUESDAY      45472\n",
            "WEDNESDAY    43711\n",
            "MONDAY       42797\n",
            "THURSDAY     42711\n",
            "FRIDAY       42423\n",
            "SATURDAY     28594\n",
            "SUNDAY       13628\n",
            "Name: WEEKDAY_APPR_PROCESS_START, dtype: int64 \n",
            "\n",
            "HOUR_APPR_PROCESS_START \n",
            "\n",
            "10.00    31862\n",
            "11.00    31418\n",
            "12.00    28876\n",
            "13.00    26048\n",
            "14.00    23322\n",
            "9.00     23081\n",
            "15.00    21052\n",
            "16.00    17103\n",
            "8.00     12752\n",
            "17.00    12581\n",
            "7.00      7678\n",
            "18.00     7675\n",
            "6.00      4919\n",
            "19.00     3212\n",
            "5.00      3082\n",
            "4.00      1766\n",
            "3.00      1036\n",
            "20.00     1015\n",
            "21.00      331\n",
            "2.00       252\n",
            "22.00      131\n",
            "1.00        71\n",
            "23.00       37\n",
            "0.00        36\n",
            "Name: HOUR_APPR_PROCESS_START, dtype: int64 \n",
            "\n",
            "REG_REGION_NOT_LIVE_REGION \n",
            "\n",
            "0.00    255416\n",
            "1.00      3920\n",
            "Name: REG_REGION_NOT_LIVE_REGION, dtype: int64 \n",
            "\n",
            "REG_REGION_NOT_WORK_REGION \n",
            "\n",
            "0.00    246165\n",
            "1.00     13171\n",
            "Name: REG_REGION_NOT_WORK_REGION, dtype: int64 \n",
            "\n",
            "LIVE_REGION_NOT_WORK_REGION \n",
            "\n",
            "0.00    248816\n",
            "1.00     10520\n",
            "Name: LIVE_REGION_NOT_WORK_REGION, dtype: int64 \n",
            "\n",
            "REG_CITY_NOT_LIVE_CITY \n",
            "\n",
            "0.00    239078\n",
            "1.00     20258\n",
            "Name: REG_CITY_NOT_LIVE_CITY, dtype: int64 \n",
            "\n",
            "REG_CITY_NOT_WORK_CITY \n",
            "\n",
            "0.00    199589\n",
            "1.00     59747\n",
            "Name: REG_CITY_NOT_WORK_CITY, dtype: int64 \n",
            "\n",
            "LIVE_CITY_NOT_WORK_CITY \n",
            "\n",
            "0.00    212785\n",
            "1.00     46551\n",
            "Name: LIVE_CITY_NOT_WORK_CITY, dtype: int64 \n",
            "\n",
            "ORGANIZATION_TYPE \n",
            "\n",
            "Business Entity Type 3    57357\n",
            "XNA                       46768\n",
            "Self-employed             32311\n",
            "Other                     14041\n",
            "Medicine                   9453\n",
            "Business Entity Type 2     8889\n",
            "Government                 8773\n",
            "School                     7539\n",
            "Trade: type 7              6603\n",
            "Kindergarten               5804\n",
            "Construction               5608\n",
            "Business Entity Type 1     5002\n",
            "Transport: type 4          4503\n",
            "Trade: type 3              2912\n",
            "Industry: type 9           2825\n",
            "Security                   2755\n",
            "Industry: type 3           2744\n",
            "Housing                    2505\n",
            "Industry: type 11          2292\n",
            "Military                   2237\n",
            "Bank                       2111\n",
            "Agriculture                2100\n",
            "Police                     1971\n",
            "Transport: type 2          1895\n",
            "Postal                     1858\n",
            "Security Ministries        1686\n",
            "Trade: type 2              1606\n",
            "Restaurant                 1545\n",
            "Services                   1342\n",
            "University                 1127\n",
            "Industry: type 7           1101\n",
            "Transport: type 3          1027\n",
            "Industry: type 1            870\n",
            "Hotel                       814\n",
            "Electricity                 784\n",
            "Industry: type 4            753\n",
            "Trade: type 6               524\n",
            "Industry: type 5            503\n",
            "Insurance                   496\n",
            "Telecom                     496\n",
            "Emergency                   478\n",
            "Industry: type 2            380\n",
            "Advertising                 360\n",
            "Realtor                     331\n",
            "Culture                     312\n",
            "Industry: type 12           307\n",
            "Trade: type 1               294\n",
            "Mobile                      265\n",
            "Legal Services              263\n",
            "Cleaning                    225\n",
            "Transport: type 1           171\n",
            "Industry: type 6             95\n",
            "Industry: type 10            82\n",
            "Religion                     72\n",
            "Industry: type 13            58\n",
            "Trade: type 4                50\n",
            "Trade: type 5                41\n",
            "Industry: type 8             22\n",
            "Name: ORGANIZATION_TYPE, dtype: int64 \n",
            "\n",
            "EXT_SOURCE_2 \n",
            "\n",
            "0.29    614\n",
            "0.26    352\n",
            "0.27    293\n",
            "0.16    273\n",
            "0.27    262\n",
            "       ... \n",
            "0.79      1\n",
            "0.32      1\n",
            "0.19      1\n",
            "0.24      1\n",
            "0.38      1\n",
            "Name: EXT_SOURCE_2, Length: 111609, dtype: int64 \n",
            "\n",
            "EXT_SOURCE_3 \n",
            "\n",
            "0.75    1229\n",
            "0.71    1119\n",
            "0.69    1081\n",
            "0.67    1009\n",
            "0.65     981\n",
            "        ... \n",
            "0.01       1\n",
            "0.02       1\n",
            "0.02       1\n",
            "0.03       1\n",
            "0.03       1\n",
            "Name: EXT_SOURCE_3, Length: 808, dtype: int64 \n",
            "\n",
            "OBS_30_CNT_SOCIAL_CIRCLE \n",
            "\n",
            "0.00      138120\n",
            "1.00       41084\n",
            "2.00       25214\n",
            "3.00       17181\n",
            "4.00       11917\n",
            "5.00        8050\n",
            "6.00        5419\n",
            "7.00        3757\n",
            "8.00        2511\n",
            "9.00        1706\n",
            "10.00       1165\n",
            "11.00        713\n",
            "12.00        564\n",
            "13.00        336\n",
            "14.00        221\n",
            "15.00        141\n",
            "16.00        118\n",
            "17.00         75\n",
            "19.00         38\n",
            "18.00         37\n",
            "21.00         26\n",
            "20.00         25\n",
            "22.00         17\n",
            "23.00         13\n",
            "25.00          9\n",
            "24.00          7\n",
            "27.00          5\n",
            "26.00          2\n",
            "28.00          1\n",
            "29.00          1\n",
            "47.00          1\n",
            "348.00         1\n",
            "30.00          1\n",
            "Name: OBS_30_CNT_SOCIAL_CIRCLE, dtype: int64 \n",
            "\n",
            "DEF_30_CNT_SOCIAL_CIRCLE \n",
            "\n",
            "0.00     228769\n",
            "1.00      23926\n",
            "2.00       4481\n",
            "3.00       1028\n",
            "4.00        213\n",
            "5.00         49\n",
            "6.00          7\n",
            "7.00          1\n",
            "34.00         1\n",
            "8.00          1\n",
            "Name: DEF_30_CNT_SOCIAL_CIRCLE, dtype: int64 \n",
            "\n",
            "OBS_60_CNT_SOCIAL_CIRCLE \n",
            "\n",
            "0.00      138760\n",
            "1.00       41184\n",
            "2.00       25156\n",
            "3.00       17070\n",
            "4.00       11776\n",
            "5.00        7963\n",
            "6.00        5336\n",
            "7.00        3707\n",
            "8.00        2451\n",
            "9.00        1667\n",
            "10.00       1130\n",
            "11.00        705\n",
            "12.00        524\n",
            "13.00        336\n",
            "14.00        204\n",
            "15.00        144\n",
            "16.00        120\n",
            "17.00         62\n",
            "19.00         39\n",
            "18.00         38\n",
            "20.00         26\n",
            "21.00         25\n",
            "22.00         15\n",
            "23.00         11\n",
            "25.00         10\n",
            "24.00          7\n",
            "27.00          5\n",
            "28.00          1\n",
            "29.00          1\n",
            "47.00          1\n",
            "344.00         1\n",
            "30.00          1\n",
            "Name: OBS_60_CNT_SOCIAL_CIRCLE, dtype: int64 \n",
            "\n",
            "DEF_60_CNT_SOCIAL_CIRCLE \n",
            "\n",
            "0.00     236735\n",
            "1.00      18402\n",
            "2.00       2700\n",
            "3.00        510\n",
            "4.00        110\n",
            "5.00         16\n",
            "7.00          1\n",
            "24.00         1\n",
            "6.00          1\n",
            "Name: DEF_60_CNT_SOCIAL_CIRCLE, dtype: int64 \n",
            "\n",
            "DAYS_LAST_PHONE_CHANGE \n",
            "\n",
            "0.00        31743\n",
            "-1.00        2307\n",
            "-2.00        1917\n",
            "-3.00        1462\n",
            "-4.00        1055\n",
            "            ...  \n",
            "-3633.00        1\n",
            "-3359.00        1\n",
            "-3697.00        1\n",
            "-3390.00        1\n",
            "-3466.00        1\n",
            "Name: DAYS_LAST_PHONE_CHANGE, Length: 3742, dtype: int64 \n",
            "\n",
            "FLAG_DOCUMENT_2 \n",
            "\n",
            "0.00    259325\n",
            "1.00        11\n",
            "Name: FLAG_DOCUMENT_2, dtype: int64 \n",
            "\n",
            "FLAG_DOCUMENT_3 \n",
            "\n",
            "1.00    184329\n",
            "0.00     75007\n",
            "Name: FLAG_DOCUMENT_3, dtype: int64 \n",
            "\n",
            "FLAG_DOCUMENT_4 \n",
            "\n",
            "0.00    259314\n",
            "1.00        22\n",
            "Name: FLAG_DOCUMENT_4, dtype: int64 \n",
            "\n",
            "FLAG_DOCUMENT_5 \n",
            "\n",
            "0.00    255397\n",
            "1.00      3939\n",
            "Name: FLAG_DOCUMENT_5, dtype: int64 \n",
            "\n",
            "FLAG_DOCUMENT_6 \n",
            "\n",
            "0.00    236500\n",
            "1.00     22836\n",
            "Name: FLAG_DOCUMENT_6, dtype: int64 \n",
            "\n",
            "FLAG_DOCUMENT_7 \n",
            "\n",
            "0.00    259281\n",
            "1.00        55\n",
            "Name: FLAG_DOCUMENT_7, dtype: int64 \n",
            "\n",
            "FLAG_DOCUMENT_8 \n",
            "\n",
            "0.00    238268\n",
            "1.00     21068\n",
            "Name: FLAG_DOCUMENT_8, dtype: int64 \n",
            "\n",
            "FLAG_DOCUMENT_9 \n",
            "\n",
            "0.00    258333\n",
            "1.00      1003\n",
            "Name: FLAG_DOCUMENT_9, dtype: int64 \n",
            "\n",
            "FLAG_DOCUMENT_10 \n",
            "\n",
            "0.00    259330\n",
            "1.00         6\n",
            "Name: FLAG_DOCUMENT_10, dtype: int64 \n",
            "\n",
            "FLAG_DOCUMENT_11 \n",
            "\n",
            "0.00    258344\n",
            "1.00       992\n",
            "Name: FLAG_DOCUMENT_11, dtype: int64 \n",
            "\n",
            "FLAG_DOCUMENT_12 \n",
            "\n",
            "0.00    259334\n",
            "1.00         2\n",
            "Name: FLAG_DOCUMENT_12, dtype: int64 \n",
            "\n",
            "FLAG_DOCUMENT_13 \n",
            "\n",
            "0.00    258435\n",
            "1.00       901\n",
            "Name: FLAG_DOCUMENT_13, dtype: int64 \n",
            "\n",
            "FLAG_DOCUMENT_14 \n",
            "\n",
            "0.00    258578\n",
            "1.00       758\n",
            "Name: FLAG_DOCUMENT_14, dtype: int64 \n",
            "\n",
            "FLAG_DOCUMENT_15 \n",
            "\n",
            "0.00    259033\n",
            "1.00       303\n",
            "Name: FLAG_DOCUMENT_15, dtype: int64 \n",
            "\n",
            "FLAG_DOCUMENT_16 \n",
            "\n",
            "0.00    256809\n",
            "1.00      2527\n",
            "Name: FLAG_DOCUMENT_16, dtype: int64 \n",
            "\n",
            "FLAG_DOCUMENT_17 \n",
            "\n",
            "0.00    259270\n",
            "1.00        66\n",
            "Name: FLAG_DOCUMENT_17, dtype: int64 \n",
            "\n",
            "FLAG_DOCUMENT_18 \n",
            "\n",
            "0.00    257274\n",
            "1.00      2062\n",
            "Name: FLAG_DOCUMENT_18, dtype: int64 \n",
            "\n",
            "FLAG_DOCUMENT_19 \n",
            "\n",
            "0.00    259188\n",
            "1.00       148\n",
            "Name: FLAG_DOCUMENT_19, dtype: int64 \n",
            "\n",
            "FLAG_DOCUMENT_20 \n",
            "\n",
            "0.00    259215\n",
            "1.00       121\n",
            "Name: FLAG_DOCUMENT_20, dtype: int64 \n",
            "\n",
            "FLAG_DOCUMENT_21 \n",
            "\n",
            "0.00    259246\n",
            "1.00        90\n",
            "Name: FLAG_DOCUMENT_21, dtype: int64 \n",
            "\n",
            "AMT_REQ_CREDIT_BUREAU_HOUR \n",
            "\n",
            "0.00    222894\n",
            "1.00      1319\n",
            "2.00        53\n",
            "3.00         8\n",
            "4.00         1\n",
            "Name: AMT_REQ_CREDIT_BUREAU_HOUR, dtype: int64 \n",
            "\n",
            "AMT_REQ_CREDIT_BUREAU_DAY \n",
            "\n",
            "0.00    223015\n",
            "1.00      1094\n",
            "2.00        89\n",
            "3.00        35\n",
            "4.00        24\n",
            "5.00         8\n",
            "6.00         7\n",
            "9.00         2\n",
            "8.00         1\n",
            "Name: AMT_REQ_CREDIT_BUREAU_DAY, dtype: int64 \n",
            "\n",
            "AMT_REQ_CREDIT_BUREAU_WEEK \n",
            "\n",
            "0.00    217014\n",
            "1.00      6973\n",
            "2.00       175\n",
            "3.00        49\n",
            "4.00        30\n",
            "6.00        19\n",
            "5.00         9\n",
            "8.00         4\n",
            "7.00         2\n",
            "Name: AMT_REQ_CREDIT_BUREAU_WEEK, dtype: int64 \n",
            "\n",
            "AMT_REQ_CREDIT_BUREAU_MON \n",
            "\n",
            "0.00     187267\n",
            "1.00      28070\n",
            "2.00       4553\n",
            "3.00       1689\n",
            "4.00        877\n",
            "5.00        508\n",
            "6.00        283\n",
            "7.00        255\n",
            "9.00        178\n",
            "8.00        153\n",
            "10.00       114\n",
            "11.00       107\n",
            "12.00        65\n",
            "13.00        64\n",
            "14.00        26\n",
            "15.00        25\n",
            "16.00        18\n",
            "17.00        11\n",
            "18.00         6\n",
            "19.00         3\n",
            "24.00         1\n",
            "23.00         1\n",
            "27.00         1\n",
            "Name: AMT_REQ_CREDIT_BUREAU_MON, dtype: int64 \n",
            "\n",
            "AMT_REQ_CREDIT_BUREAU_QRT \n",
            "\n",
            "0.00      181490\n",
            "1.00       28640\n",
            "2.00       12197\n",
            "3.00        1463\n",
            "4.00         390\n",
            "5.00          54\n",
            "6.00          27\n",
            "8.00           6\n",
            "7.00           6\n",
            "261.00         1\n",
            "19.00          1\n",
            "Name: AMT_REQ_CREDIT_BUREAU_QRT, dtype: int64 \n",
            "\n",
            "AMT_REQ_CREDIT_BUREAU_YEAR \n",
            "\n",
            "0.00     60119\n",
            "1.00     53599\n",
            "2.00     42395\n",
            "3.00     28483\n",
            "4.00     17433\n",
            "5.00     10228\n",
            "6.00      5903\n",
            "7.00      3267\n",
            "8.00      1822\n",
            "9.00       907\n",
            "11.00       27\n",
            "12.00       22\n",
            "10.00       19\n",
            "13.00       16\n",
            "14.00        9\n",
            "15.00        6\n",
            "17.00        6\n",
            "19.00        4\n",
            "16.00        3\n",
            "18.00        3\n",
            "25.00        1\n",
            "23.00        1\n",
            "22.00        1\n",
            "21.00        1\n",
            "Name: AMT_REQ_CREDIT_BUREAU_YEAR, dtype: int64 \n",
            "\n"
          ]
        }
      ]
    },
    {
      "cell_type": "markdown",
      "source": [
        "### From the above we notice that the columns `NAME_FAMILY_STATUS`,`DAYS_BIRTH`, `DAYS_EMPLOYED`, `DAYS_REGISTRATION`, `DAYS_ID_PUBLISH`, `ORGANIZATION_TYPE` have unknown/incorrect values which need to be adjusted."
      ],
      "metadata": {
        "id": "uyvX7NLZMaU1"
      }
    },
    {
      "cell_type": "markdown",
      "source": [
        "### Analysis of the `NAME_FAMILY_STATUS` column"
      ],
      "metadata": {
        "id": "w88JGg0NWDjz"
      }
    },
    {
      "cell_type": "code",
      "source": [
        "inp0.NAME_FAMILY_STATUS.value_counts(normalize=True)*100"
      ],
      "metadata": {
        "colab": {
          "base_uri": "https://localhost:8080/"
        },
        "id": "xKR7KkMCWBKO",
        "outputId": "ab62a97b-df49-4dc2-f63f-a86e35f8cfc1"
      },
      "execution_count": 26,
      "outputs": [
        {
          "output_type": "execute_result",
          "data": {
            "text/plain": [
              "Married                63.94\n",
              "Single / not married   14.75\n",
              "Civil marriage          9.65\n",
              "Separated               6.43\n",
              "Widow                   5.23\n",
              "Unknown                 0.00\n",
              "Name: NAME_FAMILY_STATUS, dtype: float64"
            ]
          },
          "metadata": {},
          "execution_count": 26
        }
      ]
    },
    {
      "cell_type": "code",
      "source": [
        "inp0[inp0['NAME_FAMILY_STATUS'] == 'Unknown']"
      ],
      "metadata": {
        "colab": {
          "base_uri": "https://localhost:8080/",
          "height": 0
        },
        "id": "VUpaNkX7WUER",
        "outputId": "a92ee74f-4cb8-451a-b3ac-34d27b58ac93"
      },
      "execution_count": 27,
      "outputs": [
        {
          "output_type": "execute_result",
          "data": {
            "text/plain": [
              "        SK_ID_CURR  TARGET NAME_CONTRACT_TYPE CODE_GENDER FLAG_OWN_CAR  \\\n",
              "41982       148605       0    Revolving loans           M            N   \n",
              "187348      317181       0    Revolving loans           F            N   \n",
              "\n",
              "       FLAG_OWN_REALTY  CNT_CHILDREN  AMT_INCOME_TOTAL  AMT_CREDIT  \\\n",
              "41982                Y             0         450000.00   675000.00   \n",
              "187348               Y             0         202500.00   585000.00   \n",
              "\n",
              "        AMT_ANNUITY  AMT_GOODS_PRICE NAME_TYPE_SUITE      NAME_INCOME_TYPE  \\\n",
              "41982      33750.00              NaN             NaN  Commercial associate   \n",
              "187348     29250.00              NaN             NaN  Commercial associate   \n",
              "\n",
              "       NAME_EDUCATION_TYPE NAME_FAMILY_STATUS    NAME_HOUSING_TYPE  \\\n",
              "41982      Lower secondary            Unknown  Municipal apartment   \n",
              "187348    Higher education            Unknown    House / apartment   \n",
              "\n",
              "        REGION_POPULATION_RELATIVE  DAYS_BIRTH  DAYS_EMPLOYED  \\\n",
              "41982                         0.02      -12396       -1161.00   \n",
              "187348                        0.03      -12844        -232.00   \n",
              "\n",
              "        DAYS_REGISTRATION  DAYS_ID_PUBLISH  FLAG_MOBIL  FLAG_EMP_PHONE  \\\n",
              "41982            -3265.00         -4489.00        1.00            1.00   \n",
              "187348           -1597.00         -1571.00        1.00            1.00   \n",
              "\n",
              "        FLAG_WORK_PHONE  FLAG_CONT_MOBILE  FLAG_PHONE  FLAG_EMAIL  \\\n",
              "41982              1.00              1.00        1.00        0.00   \n",
              "187348             0.00              1.00        0.00        0.00   \n",
              "\n",
              "       OCCUPATION_TYPE  CNT_FAM_MEMBERS  REGION_RATING_CLIENT  \\\n",
              "41982         Managers              NaN                  2.00   \n",
              "187348     Accountants              NaN                  2.00   \n",
              "\n",
              "        REGION_RATING_CLIENT_W_CITY WEEKDAY_APPR_PROCESS_START  \\\n",
              "41982                          2.00                   THURSDAY   \n",
              "187348                         2.00                     FRIDAY   \n",
              "\n",
              "        HOUR_APPR_PROCESS_START  REG_REGION_NOT_LIVE_REGION  \\\n",
              "41982                     15.00                        0.00   \n",
              "187348                    14.00                        0.00   \n",
              "\n",
              "        REG_REGION_NOT_WORK_REGION  LIVE_REGION_NOT_WORK_REGION  \\\n",
              "41982                         1.00                         1.00   \n",
              "187348                        0.00                         0.00   \n",
              "\n",
              "        REG_CITY_NOT_LIVE_CITY  REG_CITY_NOT_WORK_CITY  \\\n",
              "41982                     0.00                    1.00   \n",
              "187348                    0.00                    0.00   \n",
              "\n",
              "        LIVE_CITY_NOT_WORK_CITY       ORGANIZATION_TYPE  EXT_SOURCE_2  \\\n",
              "41982                      1.00               Insurance          0.70   \n",
              "187348                     0.00  Business Entity Type 2          0.65   \n",
              "\n",
              "        EXT_SOURCE_3  OBS_30_CNT_SOCIAL_CIRCLE  DEF_30_CNT_SOCIAL_CIRCLE  \\\n",
              "41982            NaN                      3.00                      0.00   \n",
              "187348          0.67                      1.00                      0.00   \n",
              "\n",
              "        OBS_60_CNT_SOCIAL_CIRCLE  DEF_60_CNT_SOCIAL_CIRCLE  \\\n",
              "41982                       3.00                      0.00   \n",
              "187348                      1.00                      0.00   \n",
              "\n",
              "        DAYS_LAST_PHONE_CHANGE  FLAG_DOCUMENT_2  FLAG_DOCUMENT_3  \\\n",
              "41982                  -876.00             0.00             0.00   \n",
              "187348                 -654.00             0.00             0.00   \n",
              "\n",
              "        FLAG_DOCUMENT_4  FLAG_DOCUMENT_5  FLAG_DOCUMENT_6  FLAG_DOCUMENT_7  \\\n",
              "41982              0.00             1.00             0.00             0.00   \n",
              "187348             0.00             0.00             0.00             1.00   \n",
              "\n",
              "        FLAG_DOCUMENT_8  FLAG_DOCUMENT_9  FLAG_DOCUMENT_10  FLAG_DOCUMENT_11  \\\n",
              "41982              0.00             0.00              0.00              0.00   \n",
              "187348             0.00             0.00              0.00              0.00   \n",
              "\n",
              "        FLAG_DOCUMENT_12  FLAG_DOCUMENT_13  FLAG_DOCUMENT_14  \\\n",
              "41982               0.00              0.00              0.00   \n",
              "187348              0.00              0.00              0.00   \n",
              "\n",
              "        FLAG_DOCUMENT_15  FLAG_DOCUMENT_16  FLAG_DOCUMENT_17  \\\n",
              "41982               0.00              0.00              0.00   \n",
              "187348              0.00              0.00              0.00   \n",
              "\n",
              "        FLAG_DOCUMENT_18  FLAG_DOCUMENT_19  FLAG_DOCUMENT_20  \\\n",
              "41982               0.00              0.00              0.00   \n",
              "187348              0.00              0.00              0.00   \n",
              "\n",
              "        FLAG_DOCUMENT_21  AMT_REQ_CREDIT_BUREAU_HOUR  \\\n",
              "41982               0.00                         NaN   \n",
              "187348              0.00                        0.00   \n",
              "\n",
              "        AMT_REQ_CREDIT_BUREAU_DAY  AMT_REQ_CREDIT_BUREAU_WEEK  \\\n",
              "41982                         NaN                         NaN   \n",
              "187348                       0.00                        0.00   \n",
              "\n",
              "        AMT_REQ_CREDIT_BUREAU_MON  AMT_REQ_CREDIT_BUREAU_QRT  \\\n",
              "41982                         NaN                        NaN   \n",
              "187348                       0.00                       0.00   \n",
              "\n",
              "        AMT_REQ_CREDIT_BUREAU_YEAR  \n",
              "41982                          NaN  \n",
              "187348                        1.00  "
            ],
            "text/html": [
              "\n",
              "  <div id=\"df-bd5c1603-b8d1-4ab2-9071-53482aad5de5\">\n",
              "    <div class=\"colab-df-container\">\n",
              "      <div>\n",
              "<style scoped>\n",
              "    .dataframe tbody tr th:only-of-type {\n",
              "        vertical-align: middle;\n",
              "    }\n",
              "\n",
              "    .dataframe tbody tr th {\n",
              "        vertical-align: top;\n",
              "    }\n",
              "\n",
              "    .dataframe thead th {\n",
              "        text-align: right;\n",
              "    }\n",
              "</style>\n",
              "<table border=\"1\" class=\"dataframe\">\n",
              "  <thead>\n",
              "    <tr style=\"text-align: right;\">\n",
              "      <th></th>\n",
              "      <th>SK_ID_CURR</th>\n",
              "      <th>TARGET</th>\n",
              "      <th>NAME_CONTRACT_TYPE</th>\n",
              "      <th>CODE_GENDER</th>\n",
              "      <th>FLAG_OWN_CAR</th>\n",
              "      <th>FLAG_OWN_REALTY</th>\n",
              "      <th>CNT_CHILDREN</th>\n",
              "      <th>AMT_INCOME_TOTAL</th>\n",
              "      <th>AMT_CREDIT</th>\n",
              "      <th>AMT_ANNUITY</th>\n",
              "      <th>AMT_GOODS_PRICE</th>\n",
              "      <th>NAME_TYPE_SUITE</th>\n",
              "      <th>NAME_INCOME_TYPE</th>\n",
              "      <th>NAME_EDUCATION_TYPE</th>\n",
              "      <th>NAME_FAMILY_STATUS</th>\n",
              "      <th>NAME_HOUSING_TYPE</th>\n",
              "      <th>REGION_POPULATION_RELATIVE</th>\n",
              "      <th>DAYS_BIRTH</th>\n",
              "      <th>DAYS_EMPLOYED</th>\n",
              "      <th>DAYS_REGISTRATION</th>\n",
              "      <th>DAYS_ID_PUBLISH</th>\n",
              "      <th>FLAG_MOBIL</th>\n",
              "      <th>FLAG_EMP_PHONE</th>\n",
              "      <th>FLAG_WORK_PHONE</th>\n",
              "      <th>FLAG_CONT_MOBILE</th>\n",
              "      <th>FLAG_PHONE</th>\n",
              "      <th>FLAG_EMAIL</th>\n",
              "      <th>OCCUPATION_TYPE</th>\n",
              "      <th>CNT_FAM_MEMBERS</th>\n",
              "      <th>REGION_RATING_CLIENT</th>\n",
              "      <th>REGION_RATING_CLIENT_W_CITY</th>\n",
              "      <th>WEEKDAY_APPR_PROCESS_START</th>\n",
              "      <th>HOUR_APPR_PROCESS_START</th>\n",
              "      <th>REG_REGION_NOT_LIVE_REGION</th>\n",
              "      <th>REG_REGION_NOT_WORK_REGION</th>\n",
              "      <th>LIVE_REGION_NOT_WORK_REGION</th>\n",
              "      <th>REG_CITY_NOT_LIVE_CITY</th>\n",
              "      <th>REG_CITY_NOT_WORK_CITY</th>\n",
              "      <th>LIVE_CITY_NOT_WORK_CITY</th>\n",
              "      <th>ORGANIZATION_TYPE</th>\n",
              "      <th>EXT_SOURCE_2</th>\n",
              "      <th>EXT_SOURCE_3</th>\n",
              "      <th>OBS_30_CNT_SOCIAL_CIRCLE</th>\n",
              "      <th>DEF_30_CNT_SOCIAL_CIRCLE</th>\n",
              "      <th>OBS_60_CNT_SOCIAL_CIRCLE</th>\n",
              "      <th>DEF_60_CNT_SOCIAL_CIRCLE</th>\n",
              "      <th>DAYS_LAST_PHONE_CHANGE</th>\n",
              "      <th>FLAG_DOCUMENT_2</th>\n",
              "      <th>FLAG_DOCUMENT_3</th>\n",
              "      <th>FLAG_DOCUMENT_4</th>\n",
              "      <th>FLAG_DOCUMENT_5</th>\n",
              "      <th>FLAG_DOCUMENT_6</th>\n",
              "      <th>FLAG_DOCUMENT_7</th>\n",
              "      <th>FLAG_DOCUMENT_8</th>\n",
              "      <th>FLAG_DOCUMENT_9</th>\n",
              "      <th>FLAG_DOCUMENT_10</th>\n",
              "      <th>FLAG_DOCUMENT_11</th>\n",
              "      <th>FLAG_DOCUMENT_12</th>\n",
              "      <th>FLAG_DOCUMENT_13</th>\n",
              "      <th>FLAG_DOCUMENT_14</th>\n",
              "      <th>FLAG_DOCUMENT_15</th>\n",
              "      <th>FLAG_DOCUMENT_16</th>\n",
              "      <th>FLAG_DOCUMENT_17</th>\n",
              "      <th>FLAG_DOCUMENT_18</th>\n",
              "      <th>FLAG_DOCUMENT_19</th>\n",
              "      <th>FLAG_DOCUMENT_20</th>\n",
              "      <th>FLAG_DOCUMENT_21</th>\n",
              "      <th>AMT_REQ_CREDIT_BUREAU_HOUR</th>\n",
              "      <th>AMT_REQ_CREDIT_BUREAU_DAY</th>\n",
              "      <th>AMT_REQ_CREDIT_BUREAU_WEEK</th>\n",
              "      <th>AMT_REQ_CREDIT_BUREAU_MON</th>\n",
              "      <th>AMT_REQ_CREDIT_BUREAU_QRT</th>\n",
              "      <th>AMT_REQ_CREDIT_BUREAU_YEAR</th>\n",
              "    </tr>\n",
              "  </thead>\n",
              "  <tbody>\n",
              "    <tr>\n",
              "      <th>41982</th>\n",
              "      <td>148605</td>\n",
              "      <td>0</td>\n",
              "      <td>Revolving loans</td>\n",
              "      <td>M</td>\n",
              "      <td>N</td>\n",
              "      <td>Y</td>\n",
              "      <td>0</td>\n",
              "      <td>450000.00</td>\n",
              "      <td>675000.00</td>\n",
              "      <td>33750.00</td>\n",
              "      <td>NaN</td>\n",
              "      <td>NaN</td>\n",
              "      <td>Commercial associate</td>\n",
              "      <td>Lower secondary</td>\n",
              "      <td>Unknown</td>\n",
              "      <td>Municipal apartment</td>\n",
              "      <td>0.02</td>\n",
              "      <td>-12396</td>\n",
              "      <td>-1161.00</td>\n",
              "      <td>-3265.00</td>\n",
              "      <td>-4489.00</td>\n",
              "      <td>1.00</td>\n",
              "      <td>1.00</td>\n",
              "      <td>1.00</td>\n",
              "      <td>1.00</td>\n",
              "      <td>1.00</td>\n",
              "      <td>0.00</td>\n",
              "      <td>Managers</td>\n",
              "      <td>NaN</td>\n",
              "      <td>2.00</td>\n",
              "      <td>2.00</td>\n",
              "      <td>THURSDAY</td>\n",
              "      <td>15.00</td>\n",
              "      <td>0.00</td>\n",
              "      <td>1.00</td>\n",
              "      <td>1.00</td>\n",
              "      <td>0.00</td>\n",
              "      <td>1.00</td>\n",
              "      <td>1.00</td>\n",
              "      <td>Insurance</td>\n",
              "      <td>0.70</td>\n",
              "      <td>NaN</td>\n",
              "      <td>3.00</td>\n",
              "      <td>0.00</td>\n",
              "      <td>3.00</td>\n",
              "      <td>0.00</td>\n",
              "      <td>-876.00</td>\n",
              "      <td>0.00</td>\n",
              "      <td>0.00</td>\n",
              "      <td>0.00</td>\n",
              "      <td>1.00</td>\n",
              "      <td>0.00</td>\n",
              "      <td>0.00</td>\n",
              "      <td>0.00</td>\n",
              "      <td>0.00</td>\n",
              "      <td>0.00</td>\n",
              "      <td>0.00</td>\n",
              "      <td>0.00</td>\n",
              "      <td>0.00</td>\n",
              "      <td>0.00</td>\n",
              "      <td>0.00</td>\n",
              "      <td>0.00</td>\n",
              "      <td>0.00</td>\n",
              "      <td>0.00</td>\n",
              "      <td>0.00</td>\n",
              "      <td>0.00</td>\n",
              "      <td>0.00</td>\n",
              "      <td>NaN</td>\n",
              "      <td>NaN</td>\n",
              "      <td>NaN</td>\n",
              "      <td>NaN</td>\n",
              "      <td>NaN</td>\n",
              "      <td>NaN</td>\n",
              "    </tr>\n",
              "    <tr>\n",
              "      <th>187348</th>\n",
              "      <td>317181</td>\n",
              "      <td>0</td>\n",
              "      <td>Revolving loans</td>\n",
              "      <td>F</td>\n",
              "      <td>N</td>\n",
              "      <td>Y</td>\n",
              "      <td>0</td>\n",
              "      <td>202500.00</td>\n",
              "      <td>585000.00</td>\n",
              "      <td>29250.00</td>\n",
              "      <td>NaN</td>\n",
              "      <td>NaN</td>\n",
              "      <td>Commercial associate</td>\n",
              "      <td>Higher education</td>\n",
              "      <td>Unknown</td>\n",
              "      <td>House / apartment</td>\n",
              "      <td>0.03</td>\n",
              "      <td>-12844</td>\n",
              "      <td>-232.00</td>\n",
              "      <td>-1597.00</td>\n",
              "      <td>-1571.00</td>\n",
              "      <td>1.00</td>\n",
              "      <td>1.00</td>\n",
              "      <td>0.00</td>\n",
              "      <td>1.00</td>\n",
              "      <td>0.00</td>\n",
              "      <td>0.00</td>\n",
              "      <td>Accountants</td>\n",
              "      <td>NaN</td>\n",
              "      <td>2.00</td>\n",
              "      <td>2.00</td>\n",
              "      <td>FRIDAY</td>\n",
              "      <td>14.00</td>\n",
              "      <td>0.00</td>\n",
              "      <td>0.00</td>\n",
              "      <td>0.00</td>\n",
              "      <td>0.00</td>\n",
              "      <td>0.00</td>\n",
              "      <td>0.00</td>\n",
              "      <td>Business Entity Type 2</td>\n",
              "      <td>0.65</td>\n",
              "      <td>0.67</td>\n",
              "      <td>1.00</td>\n",
              "      <td>0.00</td>\n",
              "      <td>1.00</td>\n",
              "      <td>0.00</td>\n",
              "      <td>-654.00</td>\n",
              "      <td>0.00</td>\n",
              "      <td>0.00</td>\n",
              "      <td>0.00</td>\n",
              "      <td>0.00</td>\n",
              "      <td>0.00</td>\n",
              "      <td>1.00</td>\n",
              "      <td>0.00</td>\n",
              "      <td>0.00</td>\n",
              "      <td>0.00</td>\n",
              "      <td>0.00</td>\n",
              "      <td>0.00</td>\n",
              "      <td>0.00</td>\n",
              "      <td>0.00</td>\n",
              "      <td>0.00</td>\n",
              "      <td>0.00</td>\n",
              "      <td>0.00</td>\n",
              "      <td>0.00</td>\n",
              "      <td>0.00</td>\n",
              "      <td>0.00</td>\n",
              "      <td>0.00</td>\n",
              "      <td>0.00</td>\n",
              "      <td>0.00</td>\n",
              "      <td>0.00</td>\n",
              "      <td>0.00</td>\n",
              "      <td>0.00</td>\n",
              "      <td>1.00</td>\n",
              "    </tr>\n",
              "  </tbody>\n",
              "</table>\n",
              "</div>\n",
              "      <button class=\"colab-df-convert\" onclick=\"convertToInteractive('df-bd5c1603-b8d1-4ab2-9071-53482aad5de5')\"\n",
              "              title=\"Convert this dataframe to an interactive table.\"\n",
              "              style=\"display:none;\">\n",
              "        \n",
              "  <svg xmlns=\"http://www.w3.org/2000/svg\" height=\"24px\"viewBox=\"0 0 24 24\"\n",
              "       width=\"24px\">\n",
              "    <path d=\"M0 0h24v24H0V0z\" fill=\"none\"/>\n",
              "    <path d=\"M18.56 5.44l.94 2.06.94-2.06 2.06-.94-2.06-.94-.94-2.06-.94 2.06-2.06.94zm-11 1L8.5 8.5l.94-2.06 2.06-.94-2.06-.94L8.5 2.5l-.94 2.06-2.06.94zm10 10l.94 2.06.94-2.06 2.06-.94-2.06-.94-.94-2.06-.94 2.06-2.06.94z\"/><path d=\"M17.41 7.96l-1.37-1.37c-.4-.4-.92-.59-1.43-.59-.52 0-1.04.2-1.43.59L10.3 9.45l-7.72 7.72c-.78.78-.78 2.05 0 2.83L4 21.41c.39.39.9.59 1.41.59.51 0 1.02-.2 1.41-.59l7.78-7.78 2.81-2.81c.8-.78.8-2.07 0-2.86zM5.41 20L4 18.59l7.72-7.72 1.47 1.35L5.41 20z\"/>\n",
              "  </svg>\n",
              "      </button>\n",
              "      \n",
              "  <style>\n",
              "    .colab-df-container {\n",
              "      display:flex;\n",
              "      flex-wrap:wrap;\n",
              "      gap: 12px;\n",
              "    }\n",
              "\n",
              "    .colab-df-convert {\n",
              "      background-color: #E8F0FE;\n",
              "      border: none;\n",
              "      border-radius: 50%;\n",
              "      cursor: pointer;\n",
              "      display: none;\n",
              "      fill: #1967D2;\n",
              "      height: 32px;\n",
              "      padding: 0 0 0 0;\n",
              "      width: 32px;\n",
              "    }\n",
              "\n",
              "    .colab-df-convert:hover {\n",
              "      background-color: #E2EBFA;\n",
              "      box-shadow: 0px 1px 2px rgba(60, 64, 67, 0.3), 0px 1px 3px 1px rgba(60, 64, 67, 0.15);\n",
              "      fill: #174EA6;\n",
              "    }\n",
              "\n",
              "    [theme=dark] .colab-df-convert {\n",
              "      background-color: #3B4455;\n",
              "      fill: #D2E3FC;\n",
              "    }\n",
              "\n",
              "    [theme=dark] .colab-df-convert:hover {\n",
              "      background-color: #434B5C;\n",
              "      box-shadow: 0px 1px 3px 1px rgba(0, 0, 0, 0.15);\n",
              "      filter: drop-shadow(0px 1px 2px rgba(0, 0, 0, 0.3));\n",
              "      fill: #FFFFFF;\n",
              "    }\n",
              "  </style>\n",
              "\n",
              "      <script>\n",
              "        const buttonEl =\n",
              "          document.querySelector('#df-bd5c1603-b8d1-4ab2-9071-53482aad5de5 button.colab-df-convert');\n",
              "        buttonEl.style.display =\n",
              "          google.colab.kernel.accessAllowed ? 'block' : 'none';\n",
              "\n",
              "        async function convertToInteractive(key) {\n",
              "          const element = document.querySelector('#df-bd5c1603-b8d1-4ab2-9071-53482aad5de5');\n",
              "          const dataTable =\n",
              "            await google.colab.kernel.invokeFunction('convertToInteractive',\n",
              "                                                     [key], {});\n",
              "          if (!dataTable) return;\n",
              "\n",
              "          const docLinkHtml = 'Like what you see? Visit the ' +\n",
              "            '<a target=\"_blank\" href=https://colab.research.google.com/notebooks/data_table.ipynb>data table notebook</a>'\n",
              "            + ' to learn more about interactive tables.';\n",
              "          element.innerHTML = '';\n",
              "          dataTable['output_type'] = 'display_data';\n",
              "          await google.colab.output.renderOutput(dataTable, element);\n",
              "          const docLink = document.createElement('div');\n",
              "          docLink.innerHTML = docLinkHtml;\n",
              "          element.appendChild(docLink);\n",
              "        }\n",
              "      </script>\n",
              "    </div>\n",
              "  </div>\n",
              "  "
            ]
          },
          "metadata": {},
          "execution_count": 27
        }
      ]
    },
    {
      "cell_type": "markdown",
      "source": [
        "Since `Unknown` data seems valid for other values, we will impute the `Unknown` with `Married` as it has the highest number of applicants"
      ],
      "metadata": {
        "id": "jzQwRO2sWmMQ"
      }
    },
    {
      "cell_type": "code",
      "source": [
        "inp0['NAME_FAMILY_STATUS'] = inp0['NAME_FAMILY_STATUS'].apply(lambda x: 'Married' if x == 'Unknown' else x)"
      ],
      "metadata": {
        "id": "dAmiHNr0WiN6"
      },
      "execution_count": 28,
      "outputs": []
    },
    {
      "cell_type": "markdown",
      "source": [
        "### Analysis of the `DAYS_BIRTH` column"
      ],
      "metadata": {
        "id": "dX1vIRPZNToc"
      }
    },
    {
      "cell_type": "code",
      "source": [
        "inp0.DAYS_BIRTH.value_counts()"
      ],
      "metadata": {
        "colab": {
          "base_uri": "https://localhost:8080/"
        },
        "id": "6vYQqDc2MO8t",
        "outputId": "6496c110-74a4-4596-d59b-75bc8f592c30"
      },
      "execution_count": 29,
      "outputs": [
        {
          "output_type": "execute_result",
          "data": {
            "text/plain": [
              "-18248    38\n",
              "-13480    36\n",
              "-14395    36\n",
              "-11664    35\n",
              "-14926    35\n",
              "          ..\n",
              "-25147     1\n",
              "-24371     1\n",
              "-8034      1\n",
              "-25065     1\n",
              "-1417      1\n",
              "Name: DAYS_BIRTH, Length: 17415, dtype: int64"
            ]
          },
          "metadata": {},
          "execution_count": 29
        }
      ]
    },
    {
      "cell_type": "markdown",
      "source": [
        "Converting `DAYS_BIRTH` negative values to positive values"
      ],
      "metadata": {
        "id": "b7S29EKWRx9V"
      }
    },
    {
      "cell_type": "code",
      "source": [
        "inp0['DAYS_BIRTH'] = inp0['DAYS_BIRTH'].apply(lambda x: -x if x < 0 else x)"
      ],
      "metadata": {
        "id": "BSN-MtiXVCDd"
      },
      "execution_count": 30,
      "outputs": []
    },
    {
      "cell_type": "markdown",
      "source": [
        "### Analysis of the `DAYS_EMPLOYED` column"
      ],
      "metadata": {
        "id": "WgGz0t-XHSH_"
      }
    },
    {
      "cell_type": "code",
      "source": [
        "inp0.DAYS_EMPLOYED.value_counts(normalize = True) * 100"
      ],
      "metadata": {
        "colab": {
          "base_uri": "https://localhost:8080/"
        },
        "id": "tAG1ef4_VSjs",
        "outputId": "77e4a8ef-0c43-437f-947a-3245caa7106a"
      },
      "execution_count": 31,
      "outputs": [
        {
          "output_type": "execute_result",
          "data": {
            "text/plain": [
              "365243.00   18.03\n",
              "-230.00      0.05\n",
              "-200.00      0.05\n",
              "-212.00      0.05\n",
              "-199.00      0.05\n",
              "             ... \n",
              "-8865.00     0.00\n",
              "-12397.00    0.00\n",
              "-13250.00    0.00\n",
              "-6479.00     0.00\n",
              "-8750.00     0.00\n",
              "Name: DAYS_EMPLOYED, Length: 12183, dtype: float64"
            ]
          },
          "metadata": {},
          "execution_count": 31
        }
      ]
    },
    {
      "cell_type": "markdown",
      "source": [
        "`DAYS_EMPLOYED` column indicates how many days ago the applicant started working to the day of application\n",
        "\n",
        "Converting the values to positive"
      ],
      "metadata": {
        "id": "e2jI7Yq6asxL"
      }
    },
    {
      "cell_type": "code",
      "source": [
        "inp0['DAYS_EMPLOYED'] = inp0['DAYS_EMPLOYED'].apply(lambda x: -x if x < 0 else x)"
      ],
      "metadata": {
        "id": "yRr-K5sRbOf1"
      },
      "execution_count": 32,
      "outputs": []
    },
    {
      "cell_type": "code",
      "source": [
        "inp0.DAYS_EMPLOYED.value_counts()"
      ],
      "metadata": {
        "colab": {
          "base_uri": "https://localhost:8080/"
        },
        "id": "-3EsK3OqbW6F",
        "outputId": "0704ba65-895a-474f-ddcf-0769ae3b3254"
      },
      "execution_count": 33,
      "outputs": [
        {
          "output_type": "execute_result",
          "data": {
            "text/plain": [
              "365243.00    46768\n",
              "230.00         133\n",
              "200.00         130\n",
              "212.00         128\n",
              "199.00         127\n",
              "             ...  \n",
              "8865.00          1\n",
              "12397.00         1\n",
              "13250.00         1\n",
              "6479.00          1\n",
              "8750.00          1\n",
              "Name: DAYS_EMPLOYED, Length: 12183, dtype: int64"
            ]
          },
          "metadata": {},
          "execution_count": 33
        }
      ]
    },
    {
      "cell_type": "markdown",
      "source": [
        "Days employed cannot be 365243 as it indicated more than 1000 years\n",
        "\n",
        "Checking further of the incorrect records"
      ],
      "metadata": {
        "id": "WmwwmLCPbeEf"
      }
    },
    {
      "cell_type": "code",
      "source": [
        "inp0.DAYS_EMPLOYED.describe()"
      ],
      "metadata": {
        "colab": {
          "base_uri": "https://localhost:8080/"
        },
        "id": "-6vYZaVVoNIy",
        "outputId": "3d5d6545-bfa1-4cb1-bf40-2ca8a7b9e78d"
      },
      "execution_count": 34,
      "outputs": [
        {
          "output_type": "execute_result",
          "data": {
            "text/plain": [
              "count   259336.00\n",
              "mean     67822.45\n",
              "std     139523.51\n",
              "min          0.00\n",
              "25%        933.00\n",
              "50%       2223.00\n",
              "75%       5715.00\n",
              "max     365243.00\n",
              "Name: DAYS_EMPLOYED, dtype: float64"
            ]
          },
          "metadata": {},
          "execution_count": 34
        }
      ]
    },
    {
      "cell_type": "markdown",
      "source": [
        "The mean is skewed due to incorrect days of 365243"
      ],
      "metadata": {
        "id": "CiY1C7j3obqP"
      }
    },
    {
      "cell_type": "code",
      "source": [
        "inp0[inp0['DAYS_EMPLOYED']==365243].head()"
      ],
      "metadata": {
        "colab": {
          "base_uri": "https://localhost:8080/",
          "height": 0
        },
        "id": "MSHQaGLjbpXR",
        "outputId": "07b7de0b-6d4c-4d5f-a73a-3c71d021f123"
      },
      "execution_count": 35,
      "outputs": [
        {
          "output_type": "execute_result",
          "data": {
            "text/plain": [
              "    SK_ID_CURR  TARGET NAME_CONTRACT_TYPE CODE_GENDER FLAG_OWN_CAR  \\\n",
              "8       100011       0         Cash loans           F            N   \n",
              "11      100015       0         Cash loans           F            N   \n",
              "23      100027       0         Cash loans           F            N   \n",
              "38      100045       0         Cash loans           F            N   \n",
              "43      100050       0         Cash loans           F            N   \n",
              "\n",
              "   FLAG_OWN_REALTY  CNT_CHILDREN  AMT_INCOME_TOTAL  AMT_CREDIT  AMT_ANNUITY  \\\n",
              "8                Y             0         112500.00  1019610.00     33826.50   \n",
              "11               Y             0          38419.15   148365.00     10678.50   \n",
              "23               Y             0          83250.00   239850.00     23850.00   \n",
              "38               Y             0          99000.00   247275.00     17338.50   \n",
              "43               Y             0         108000.00   746280.00     42970.50   \n",
              "\n",
              "    AMT_GOODS_PRICE NAME_TYPE_SUITE NAME_INCOME_TYPE  \\\n",
              "8         913500.00        Children        Pensioner   \n",
              "11        135000.00        Children        Pensioner   \n",
              "23        225000.00   Unaccompanied        Pensioner   \n",
              "38        225000.00   Unaccompanied        Pensioner   \n",
              "43        675000.00   Unaccompanied        Pensioner   \n",
              "\n",
              "              NAME_EDUCATION_TYPE    NAME_FAMILY_STATUS  NAME_HOUSING_TYPE  \\\n",
              "8   Secondary / secondary special               Married  House / apartment   \n",
              "11  Secondary / secondary special               Married  House / apartment   \n",
              "23  Secondary / secondary special               Married  House / apartment   \n",
              "38  Secondary / secondary special               Married  House / apartment   \n",
              "43               Higher education  Single / not married  House / apartment   \n",
              "\n",
              "    REGION_POPULATION_RELATIVE  DAYS_BIRTH  DAYS_EMPLOYED  DAYS_REGISTRATION  \\\n",
              "8                         0.02       20099      365243.00           -7427.00   \n",
              "11                        0.02       20417      365243.00           -5246.00   \n",
              "23                        0.01       24827      365243.00           -9012.00   \n",
              "38                        0.01       23920      365243.00           -9817.00   \n",
              "43                        0.01       23548      365243.00           -5745.00   \n",
              "\n",
              "    DAYS_ID_PUBLISH  FLAG_MOBIL  FLAG_EMP_PHONE  FLAG_WORK_PHONE  \\\n",
              "8          -3514.00        1.00            0.00             0.00   \n",
              "11         -2512.00        1.00            0.00             0.00   \n",
              "23         -3684.00        1.00            0.00             0.00   \n",
              "38         -4969.00        1.00            0.00             0.00   \n",
              "43         -4576.00        1.00            0.00             0.00   \n",
              "\n",
              "    FLAG_CONT_MOBILE  FLAG_PHONE  FLAG_EMAIL OCCUPATION_TYPE  CNT_FAM_MEMBERS  \\\n",
              "8               1.00        0.00        0.00             NaN             2.00   \n",
              "11              1.00        1.00        0.00             NaN             2.00   \n",
              "23              1.00        1.00        0.00             NaN             2.00   \n",
              "38              1.00        1.00        0.00             NaN             2.00   \n",
              "43              1.00        0.00        0.00             NaN             1.00   \n",
              "\n",
              "    REGION_RATING_CLIENT  REGION_RATING_CLIENT_W_CITY  \\\n",
              "8                   2.00                         2.00   \n",
              "11                  2.00                         2.00   \n",
              "23                  3.00                         3.00   \n",
              "38                  2.00                         2.00   \n",
              "43                  2.00                         2.00   \n",
              "\n",
              "   WEEKDAY_APPR_PROCESS_START  HOUR_APPR_PROCESS_START  \\\n",
              "8                   WEDNESDAY                    14.00   \n",
              "11                     FRIDAY                     7.00   \n",
              "23                     FRIDAY                    12.00   \n",
              "38                     FRIDAY                    11.00   \n",
              "43                  WEDNESDAY                     9.00   \n",
              "\n",
              "    REG_REGION_NOT_LIVE_REGION  REG_REGION_NOT_WORK_REGION  \\\n",
              "8                         0.00                        0.00   \n",
              "11                        0.00                        0.00   \n",
              "23                        0.00                        0.00   \n",
              "38                        0.00                        0.00   \n",
              "43                        0.00                        0.00   \n",
              "\n",
              "    LIVE_REGION_NOT_WORK_REGION  REG_CITY_NOT_LIVE_CITY  \\\n",
              "8                          0.00                    0.00   \n",
              "11                         0.00                    0.00   \n",
              "23                         0.00                    0.00   \n",
              "38                         0.00                    0.00   \n",
              "43                         0.00                    0.00   \n",
              "\n",
              "    REG_CITY_NOT_WORK_CITY  LIVE_CITY_NOT_WORK_CITY ORGANIZATION_TYPE  \\\n",
              "8                     0.00                     0.00               XNA   \n",
              "11                    0.00                     0.00               XNA   \n",
              "23                    0.00                     0.00               XNA   \n",
              "38                    0.00                     0.00               XNA   \n",
              "43                    0.00                     0.00               XNA   \n",
              "\n",
              "    EXT_SOURCE_2  EXT_SOURCE_3  OBS_30_CNT_SOCIAL_CIRCLE  \\\n",
              "8           0.21          0.75                      1.00   \n",
              "11          0.56          0.65                      0.00   \n",
              "23          0.62          0.67                      0.00   \n",
              "38          0.65          0.75                      0.00   \n",
              "43          0.77          0.68                      0.00   \n",
              "\n",
              "    DEF_30_CNT_SOCIAL_CIRCLE  OBS_60_CNT_SOCIAL_CIRCLE  \\\n",
              "8                       0.00                      1.00   \n",
              "11                      0.00                      0.00   \n",
              "23                      0.00                      0.00   \n",
              "38                      0.00                      0.00   \n",
              "43                      0.00                      0.00   \n",
              "\n",
              "    DEF_60_CNT_SOCIAL_CIRCLE  DAYS_LAST_PHONE_CHANGE  FLAG_DOCUMENT_2  \\\n",
              "8                       0.00                    0.00             0.00   \n",
              "11                      0.00                -2396.00             0.00   \n",
              "23                      0.00                 -795.00             0.00   \n",
              "38                      0.00                    0.00             0.00   \n",
              "43                      0.00                 -491.00             0.00   \n",
              "\n",
              "    FLAG_DOCUMENT_3  FLAG_DOCUMENT_4  FLAG_DOCUMENT_5  FLAG_DOCUMENT_6  \\\n",
              "8              1.00             0.00             0.00             0.00   \n",
              "11             0.00             0.00             0.00             1.00   \n",
              "23             0.00             0.00             0.00             1.00   \n",
              "38             1.00             0.00             0.00             0.00   \n",
              "43             1.00             0.00             0.00             0.00   \n",
              "\n",
              "    FLAG_DOCUMENT_7  FLAG_DOCUMENT_8  FLAG_DOCUMENT_9  FLAG_DOCUMENT_10  \\\n",
              "8              0.00             0.00             0.00              0.00   \n",
              "11             0.00             0.00             0.00              0.00   \n",
              "23             0.00             0.00             0.00              0.00   \n",
              "38             0.00             0.00             0.00              0.00   \n",
              "43             0.00             0.00             0.00              0.00   \n",
              "\n",
              "    FLAG_DOCUMENT_11  FLAG_DOCUMENT_12  FLAG_DOCUMENT_13  FLAG_DOCUMENT_14  \\\n",
              "8               0.00              0.00              0.00              0.00   \n",
              "11              0.00              0.00              0.00              0.00   \n",
              "23              0.00              0.00              0.00              0.00   \n",
              "38              0.00              0.00              0.00              0.00   \n",
              "43              0.00              0.00              0.00              0.00   \n",
              "\n",
              "    FLAG_DOCUMENT_15  FLAG_DOCUMENT_16  FLAG_DOCUMENT_17  FLAG_DOCUMENT_18  \\\n",
              "8               0.00              0.00              0.00              0.00   \n",
              "11              0.00              0.00              0.00              0.00   \n",
              "23              0.00              0.00              0.00              0.00   \n",
              "38              0.00              0.00              0.00              0.00   \n",
              "43              0.00              0.00              0.00              0.00   \n",
              "\n",
              "    FLAG_DOCUMENT_19  FLAG_DOCUMENT_20  FLAG_DOCUMENT_21  \\\n",
              "8               0.00              0.00              0.00   \n",
              "11              0.00              0.00              0.00   \n",
              "23              0.00              0.00              0.00   \n",
              "38              0.00              0.00              0.00   \n",
              "43              0.00              0.00              0.00   \n",
              "\n",
              "    AMT_REQ_CREDIT_BUREAU_HOUR  AMT_REQ_CREDIT_BUREAU_DAY  \\\n",
              "8                         0.00                       0.00   \n",
              "11                        0.00                       0.00   \n",
              "23                        0.00                       0.00   \n",
              "38                        0.00                       0.00   \n",
              "43                        0.00                       0.00   \n",
              "\n",
              "    AMT_REQ_CREDIT_BUREAU_WEEK  AMT_REQ_CREDIT_BUREAU_MON  \\\n",
              "8                         0.00                       0.00   \n",
              "11                        0.00                       0.00   \n",
              "23                        0.00                       0.00   \n",
              "38                        0.00                       0.00   \n",
              "43                        0.00                       0.00   \n",
              "\n",
              "    AMT_REQ_CREDIT_BUREAU_QRT  AMT_REQ_CREDIT_BUREAU_YEAR  \n",
              "8                        0.00                        1.00  \n",
              "11                       0.00                        2.00  \n",
              "23                       0.00                        3.00  \n",
              "38                       0.00                        2.00  \n",
              "43                       0.00                        3.00  "
            ],
            "text/html": [
              "\n",
              "  <div id=\"df-a7322a55-0209-498d-9878-b6bb489cc6c3\">\n",
              "    <div class=\"colab-df-container\">\n",
              "      <div>\n",
              "<style scoped>\n",
              "    .dataframe tbody tr th:only-of-type {\n",
              "        vertical-align: middle;\n",
              "    }\n",
              "\n",
              "    .dataframe tbody tr th {\n",
              "        vertical-align: top;\n",
              "    }\n",
              "\n",
              "    .dataframe thead th {\n",
              "        text-align: right;\n",
              "    }\n",
              "</style>\n",
              "<table border=\"1\" class=\"dataframe\">\n",
              "  <thead>\n",
              "    <tr style=\"text-align: right;\">\n",
              "      <th></th>\n",
              "      <th>SK_ID_CURR</th>\n",
              "      <th>TARGET</th>\n",
              "      <th>NAME_CONTRACT_TYPE</th>\n",
              "      <th>CODE_GENDER</th>\n",
              "      <th>FLAG_OWN_CAR</th>\n",
              "      <th>FLAG_OWN_REALTY</th>\n",
              "      <th>CNT_CHILDREN</th>\n",
              "      <th>AMT_INCOME_TOTAL</th>\n",
              "      <th>AMT_CREDIT</th>\n",
              "      <th>AMT_ANNUITY</th>\n",
              "      <th>AMT_GOODS_PRICE</th>\n",
              "      <th>NAME_TYPE_SUITE</th>\n",
              "      <th>NAME_INCOME_TYPE</th>\n",
              "      <th>NAME_EDUCATION_TYPE</th>\n",
              "      <th>NAME_FAMILY_STATUS</th>\n",
              "      <th>NAME_HOUSING_TYPE</th>\n",
              "      <th>REGION_POPULATION_RELATIVE</th>\n",
              "      <th>DAYS_BIRTH</th>\n",
              "      <th>DAYS_EMPLOYED</th>\n",
              "      <th>DAYS_REGISTRATION</th>\n",
              "      <th>DAYS_ID_PUBLISH</th>\n",
              "      <th>FLAG_MOBIL</th>\n",
              "      <th>FLAG_EMP_PHONE</th>\n",
              "      <th>FLAG_WORK_PHONE</th>\n",
              "      <th>FLAG_CONT_MOBILE</th>\n",
              "      <th>FLAG_PHONE</th>\n",
              "      <th>FLAG_EMAIL</th>\n",
              "      <th>OCCUPATION_TYPE</th>\n",
              "      <th>CNT_FAM_MEMBERS</th>\n",
              "      <th>REGION_RATING_CLIENT</th>\n",
              "      <th>REGION_RATING_CLIENT_W_CITY</th>\n",
              "      <th>WEEKDAY_APPR_PROCESS_START</th>\n",
              "      <th>HOUR_APPR_PROCESS_START</th>\n",
              "      <th>REG_REGION_NOT_LIVE_REGION</th>\n",
              "      <th>REG_REGION_NOT_WORK_REGION</th>\n",
              "      <th>LIVE_REGION_NOT_WORK_REGION</th>\n",
              "      <th>REG_CITY_NOT_LIVE_CITY</th>\n",
              "      <th>REG_CITY_NOT_WORK_CITY</th>\n",
              "      <th>LIVE_CITY_NOT_WORK_CITY</th>\n",
              "      <th>ORGANIZATION_TYPE</th>\n",
              "      <th>EXT_SOURCE_2</th>\n",
              "      <th>EXT_SOURCE_3</th>\n",
              "      <th>OBS_30_CNT_SOCIAL_CIRCLE</th>\n",
              "      <th>DEF_30_CNT_SOCIAL_CIRCLE</th>\n",
              "      <th>OBS_60_CNT_SOCIAL_CIRCLE</th>\n",
              "      <th>DEF_60_CNT_SOCIAL_CIRCLE</th>\n",
              "      <th>DAYS_LAST_PHONE_CHANGE</th>\n",
              "      <th>FLAG_DOCUMENT_2</th>\n",
              "      <th>FLAG_DOCUMENT_3</th>\n",
              "      <th>FLAG_DOCUMENT_4</th>\n",
              "      <th>FLAG_DOCUMENT_5</th>\n",
              "      <th>FLAG_DOCUMENT_6</th>\n",
              "      <th>FLAG_DOCUMENT_7</th>\n",
              "      <th>FLAG_DOCUMENT_8</th>\n",
              "      <th>FLAG_DOCUMENT_9</th>\n",
              "      <th>FLAG_DOCUMENT_10</th>\n",
              "      <th>FLAG_DOCUMENT_11</th>\n",
              "      <th>FLAG_DOCUMENT_12</th>\n",
              "      <th>FLAG_DOCUMENT_13</th>\n",
              "      <th>FLAG_DOCUMENT_14</th>\n",
              "      <th>FLAG_DOCUMENT_15</th>\n",
              "      <th>FLAG_DOCUMENT_16</th>\n",
              "      <th>FLAG_DOCUMENT_17</th>\n",
              "      <th>FLAG_DOCUMENT_18</th>\n",
              "      <th>FLAG_DOCUMENT_19</th>\n",
              "      <th>FLAG_DOCUMENT_20</th>\n",
              "      <th>FLAG_DOCUMENT_21</th>\n",
              "      <th>AMT_REQ_CREDIT_BUREAU_HOUR</th>\n",
              "      <th>AMT_REQ_CREDIT_BUREAU_DAY</th>\n",
              "      <th>AMT_REQ_CREDIT_BUREAU_WEEK</th>\n",
              "      <th>AMT_REQ_CREDIT_BUREAU_MON</th>\n",
              "      <th>AMT_REQ_CREDIT_BUREAU_QRT</th>\n",
              "      <th>AMT_REQ_CREDIT_BUREAU_YEAR</th>\n",
              "    </tr>\n",
              "  </thead>\n",
              "  <tbody>\n",
              "    <tr>\n",
              "      <th>8</th>\n",
              "      <td>100011</td>\n",
              "      <td>0</td>\n",
              "      <td>Cash loans</td>\n",
              "      <td>F</td>\n",
              "      <td>N</td>\n",
              "      <td>Y</td>\n",
              "      <td>0</td>\n",
              "      <td>112500.00</td>\n",
              "      <td>1019610.00</td>\n",
              "      <td>33826.50</td>\n",
              "      <td>913500.00</td>\n",
              "      <td>Children</td>\n",
              "      <td>Pensioner</td>\n",
              "      <td>Secondary / secondary special</td>\n",
              "      <td>Married</td>\n",
              "      <td>House / apartment</td>\n",
              "      <td>0.02</td>\n",
              "      <td>20099</td>\n",
              "      <td>365243.00</td>\n",
              "      <td>-7427.00</td>\n",
              "      <td>-3514.00</td>\n",
              "      <td>1.00</td>\n",
              "      <td>0.00</td>\n",
              "      <td>0.00</td>\n",
              "      <td>1.00</td>\n",
              "      <td>0.00</td>\n",
              "      <td>0.00</td>\n",
              "      <td>NaN</td>\n",
              "      <td>2.00</td>\n",
              "      <td>2.00</td>\n",
              "      <td>2.00</td>\n",
              "      <td>WEDNESDAY</td>\n",
              "      <td>14.00</td>\n",
              "      <td>0.00</td>\n",
              "      <td>0.00</td>\n",
              "      <td>0.00</td>\n",
              "      <td>0.00</td>\n",
              "      <td>0.00</td>\n",
              "      <td>0.00</td>\n",
              "      <td>XNA</td>\n",
              "      <td>0.21</td>\n",
              "      <td>0.75</td>\n",
              "      <td>1.00</td>\n",
              "      <td>0.00</td>\n",
              "      <td>1.00</td>\n",
              "      <td>0.00</td>\n",
              "      <td>0.00</td>\n",
              "      <td>0.00</td>\n",
              "      <td>1.00</td>\n",
              "      <td>0.00</td>\n",
              "      <td>0.00</td>\n",
              "      <td>0.00</td>\n",
              "      <td>0.00</td>\n",
              "      <td>0.00</td>\n",
              "      <td>0.00</td>\n",
              "      <td>0.00</td>\n",
              "      <td>0.00</td>\n",
              "      <td>0.00</td>\n",
              "      <td>0.00</td>\n",
              "      <td>0.00</td>\n",
              "      <td>0.00</td>\n",
              "      <td>0.00</td>\n",
              "      <td>0.00</td>\n",
              "      <td>0.00</td>\n",
              "      <td>0.00</td>\n",
              "      <td>0.00</td>\n",
              "      <td>0.00</td>\n",
              "      <td>0.00</td>\n",
              "      <td>0.00</td>\n",
              "      <td>0.00</td>\n",
              "      <td>0.00</td>\n",
              "      <td>0.00</td>\n",
              "      <td>1.00</td>\n",
              "    </tr>\n",
              "    <tr>\n",
              "      <th>11</th>\n",
              "      <td>100015</td>\n",
              "      <td>0</td>\n",
              "      <td>Cash loans</td>\n",
              "      <td>F</td>\n",
              "      <td>N</td>\n",
              "      <td>Y</td>\n",
              "      <td>0</td>\n",
              "      <td>38419.15</td>\n",
              "      <td>148365.00</td>\n",
              "      <td>10678.50</td>\n",
              "      <td>135000.00</td>\n",
              "      <td>Children</td>\n",
              "      <td>Pensioner</td>\n",
              "      <td>Secondary / secondary special</td>\n",
              "      <td>Married</td>\n",
              "      <td>House / apartment</td>\n",
              "      <td>0.02</td>\n",
              "      <td>20417</td>\n",
              "      <td>365243.00</td>\n",
              "      <td>-5246.00</td>\n",
              "      <td>-2512.00</td>\n",
              "      <td>1.00</td>\n",
              "      <td>0.00</td>\n",
              "      <td>0.00</td>\n",
              "      <td>1.00</td>\n",
              "      <td>1.00</td>\n",
              "      <td>0.00</td>\n",
              "      <td>NaN</td>\n",
              "      <td>2.00</td>\n",
              "      <td>2.00</td>\n",
              "      <td>2.00</td>\n",
              "      <td>FRIDAY</td>\n",
              "      <td>7.00</td>\n",
              "      <td>0.00</td>\n",
              "      <td>0.00</td>\n",
              "      <td>0.00</td>\n",
              "      <td>0.00</td>\n",
              "      <td>0.00</td>\n",
              "      <td>0.00</td>\n",
              "      <td>XNA</td>\n",
              "      <td>0.56</td>\n",
              "      <td>0.65</td>\n",
              "      <td>0.00</td>\n",
              "      <td>0.00</td>\n",
              "      <td>0.00</td>\n",
              "      <td>0.00</td>\n",
              "      <td>-2396.00</td>\n",
              "      <td>0.00</td>\n",
              "      <td>0.00</td>\n",
              "      <td>0.00</td>\n",
              "      <td>0.00</td>\n",
              "      <td>1.00</td>\n",
              "      <td>0.00</td>\n",
              "      <td>0.00</td>\n",
              "      <td>0.00</td>\n",
              "      <td>0.00</td>\n",
              "      <td>0.00</td>\n",
              "      <td>0.00</td>\n",
              "      <td>0.00</td>\n",
              "      <td>0.00</td>\n",
              "      <td>0.00</td>\n",
              "      <td>0.00</td>\n",
              "      <td>0.00</td>\n",
              "      <td>0.00</td>\n",
              "      <td>0.00</td>\n",
              "      <td>0.00</td>\n",
              "      <td>0.00</td>\n",
              "      <td>0.00</td>\n",
              "      <td>0.00</td>\n",
              "      <td>0.00</td>\n",
              "      <td>0.00</td>\n",
              "      <td>0.00</td>\n",
              "      <td>2.00</td>\n",
              "    </tr>\n",
              "    <tr>\n",
              "      <th>23</th>\n",
              "      <td>100027</td>\n",
              "      <td>0</td>\n",
              "      <td>Cash loans</td>\n",
              "      <td>F</td>\n",
              "      <td>N</td>\n",
              "      <td>Y</td>\n",
              "      <td>0</td>\n",
              "      <td>83250.00</td>\n",
              "      <td>239850.00</td>\n",
              "      <td>23850.00</td>\n",
              "      <td>225000.00</td>\n",
              "      <td>Unaccompanied</td>\n",
              "      <td>Pensioner</td>\n",
              "      <td>Secondary / secondary special</td>\n",
              "      <td>Married</td>\n",
              "      <td>House / apartment</td>\n",
              "      <td>0.01</td>\n",
              "      <td>24827</td>\n",
              "      <td>365243.00</td>\n",
              "      <td>-9012.00</td>\n",
              "      <td>-3684.00</td>\n",
              "      <td>1.00</td>\n",
              "      <td>0.00</td>\n",
              "      <td>0.00</td>\n",
              "      <td>1.00</td>\n",
              "      <td>1.00</td>\n",
              "      <td>0.00</td>\n",
              "      <td>NaN</td>\n",
              "      <td>2.00</td>\n",
              "      <td>3.00</td>\n",
              "      <td>3.00</td>\n",
              "      <td>FRIDAY</td>\n",
              "      <td>12.00</td>\n",
              "      <td>0.00</td>\n",
              "      <td>0.00</td>\n",
              "      <td>0.00</td>\n",
              "      <td>0.00</td>\n",
              "      <td>0.00</td>\n",
              "      <td>0.00</td>\n",
              "      <td>XNA</td>\n",
              "      <td>0.62</td>\n",
              "      <td>0.67</td>\n",
              "      <td>0.00</td>\n",
              "      <td>0.00</td>\n",
              "      <td>0.00</td>\n",
              "      <td>0.00</td>\n",
              "      <td>-795.00</td>\n",
              "      <td>0.00</td>\n",
              "      <td>0.00</td>\n",
              "      <td>0.00</td>\n",
              "      <td>0.00</td>\n",
              "      <td>1.00</td>\n",
              "      <td>0.00</td>\n",
              "      <td>0.00</td>\n",
              "      <td>0.00</td>\n",
              "      <td>0.00</td>\n",
              "      <td>0.00</td>\n",
              "      <td>0.00</td>\n",
              "      <td>0.00</td>\n",
              "      <td>0.00</td>\n",
              "      <td>0.00</td>\n",
              "      <td>0.00</td>\n",
              "      <td>0.00</td>\n",
              "      <td>0.00</td>\n",
              "      <td>0.00</td>\n",
              "      <td>0.00</td>\n",
              "      <td>0.00</td>\n",
              "      <td>0.00</td>\n",
              "      <td>0.00</td>\n",
              "      <td>0.00</td>\n",
              "      <td>0.00</td>\n",
              "      <td>0.00</td>\n",
              "      <td>3.00</td>\n",
              "    </tr>\n",
              "    <tr>\n",
              "      <th>38</th>\n",
              "      <td>100045</td>\n",
              "      <td>0</td>\n",
              "      <td>Cash loans</td>\n",
              "      <td>F</td>\n",
              "      <td>N</td>\n",
              "      <td>Y</td>\n",
              "      <td>0</td>\n",
              "      <td>99000.00</td>\n",
              "      <td>247275.00</td>\n",
              "      <td>17338.50</td>\n",
              "      <td>225000.00</td>\n",
              "      <td>Unaccompanied</td>\n",
              "      <td>Pensioner</td>\n",
              "      <td>Secondary / secondary special</td>\n",
              "      <td>Married</td>\n",
              "      <td>House / apartment</td>\n",
              "      <td>0.01</td>\n",
              "      <td>23920</td>\n",
              "      <td>365243.00</td>\n",
              "      <td>-9817.00</td>\n",
              "      <td>-4969.00</td>\n",
              "      <td>1.00</td>\n",
              "      <td>0.00</td>\n",
              "      <td>0.00</td>\n",
              "      <td>1.00</td>\n",
              "      <td>1.00</td>\n",
              "      <td>0.00</td>\n",
              "      <td>NaN</td>\n",
              "      <td>2.00</td>\n",
              "      <td>2.00</td>\n",
              "      <td>2.00</td>\n",
              "      <td>FRIDAY</td>\n",
              "      <td>11.00</td>\n",
              "      <td>0.00</td>\n",
              "      <td>0.00</td>\n",
              "      <td>0.00</td>\n",
              "      <td>0.00</td>\n",
              "      <td>0.00</td>\n",
              "      <td>0.00</td>\n",
              "      <td>XNA</td>\n",
              "      <td>0.65</td>\n",
              "      <td>0.75</td>\n",
              "      <td>0.00</td>\n",
              "      <td>0.00</td>\n",
              "      <td>0.00</td>\n",
              "      <td>0.00</td>\n",
              "      <td>0.00</td>\n",
              "      <td>0.00</td>\n",
              "      <td>1.00</td>\n",
              "      <td>0.00</td>\n",
              "      <td>0.00</td>\n",
              "      <td>0.00</td>\n",
              "      <td>0.00</td>\n",
              "      <td>0.00</td>\n",
              "      <td>0.00</td>\n",
              "      <td>0.00</td>\n",
              "      <td>0.00</td>\n",
              "      <td>0.00</td>\n",
              "      <td>0.00</td>\n",
              "      <td>0.00</td>\n",
              "      <td>0.00</td>\n",
              "      <td>0.00</td>\n",
              "      <td>0.00</td>\n",
              "      <td>0.00</td>\n",
              "      <td>0.00</td>\n",
              "      <td>0.00</td>\n",
              "      <td>0.00</td>\n",
              "      <td>0.00</td>\n",
              "      <td>0.00</td>\n",
              "      <td>0.00</td>\n",
              "      <td>0.00</td>\n",
              "      <td>0.00</td>\n",
              "      <td>2.00</td>\n",
              "    </tr>\n",
              "    <tr>\n",
              "      <th>43</th>\n",
              "      <td>100050</td>\n",
              "      <td>0</td>\n",
              "      <td>Cash loans</td>\n",
              "      <td>F</td>\n",
              "      <td>N</td>\n",
              "      <td>Y</td>\n",
              "      <td>0</td>\n",
              "      <td>108000.00</td>\n",
              "      <td>746280.00</td>\n",
              "      <td>42970.50</td>\n",
              "      <td>675000.00</td>\n",
              "      <td>Unaccompanied</td>\n",
              "      <td>Pensioner</td>\n",
              "      <td>Higher education</td>\n",
              "      <td>Single / not married</td>\n",
              "      <td>House / apartment</td>\n",
              "      <td>0.01</td>\n",
              "      <td>23548</td>\n",
              "      <td>365243.00</td>\n",
              "      <td>-5745.00</td>\n",
              "      <td>-4576.00</td>\n",
              "      <td>1.00</td>\n",
              "      <td>0.00</td>\n",
              "      <td>0.00</td>\n",
              "      <td>1.00</td>\n",
              "      <td>0.00</td>\n",
              "      <td>0.00</td>\n",
              "      <td>NaN</td>\n",
              "      <td>1.00</td>\n",
              "      <td>2.00</td>\n",
              "      <td>2.00</td>\n",
              "      <td>WEDNESDAY</td>\n",
              "      <td>9.00</td>\n",
              "      <td>0.00</td>\n",
              "      <td>0.00</td>\n",
              "      <td>0.00</td>\n",
              "      <td>0.00</td>\n",
              "      <td>0.00</td>\n",
              "      <td>0.00</td>\n",
              "      <td>XNA</td>\n",
              "      <td>0.77</td>\n",
              "      <td>0.68</td>\n",
              "      <td>0.00</td>\n",
              "      <td>0.00</td>\n",
              "      <td>0.00</td>\n",
              "      <td>0.00</td>\n",
              "      <td>-491.00</td>\n",
              "      <td>0.00</td>\n",
              "      <td>1.00</td>\n",
              "      <td>0.00</td>\n",
              "      <td>0.00</td>\n",
              "      <td>0.00</td>\n",
              "      <td>0.00</td>\n",
              "      <td>0.00</td>\n",
              "      <td>0.00</td>\n",
              "      <td>0.00</td>\n",
              "      <td>0.00</td>\n",
              "      <td>0.00</td>\n",
              "      <td>0.00</td>\n",
              "      <td>0.00</td>\n",
              "      <td>0.00</td>\n",
              "      <td>0.00</td>\n",
              "      <td>0.00</td>\n",
              "      <td>0.00</td>\n",
              "      <td>0.00</td>\n",
              "      <td>0.00</td>\n",
              "      <td>0.00</td>\n",
              "      <td>0.00</td>\n",
              "      <td>0.00</td>\n",
              "      <td>0.00</td>\n",
              "      <td>0.00</td>\n",
              "      <td>0.00</td>\n",
              "      <td>3.00</td>\n",
              "    </tr>\n",
              "  </tbody>\n",
              "</table>\n",
              "</div>\n",
              "      <button class=\"colab-df-convert\" onclick=\"convertToInteractive('df-a7322a55-0209-498d-9878-b6bb489cc6c3')\"\n",
              "              title=\"Convert this dataframe to an interactive table.\"\n",
              "              style=\"display:none;\">\n",
              "        \n",
              "  <svg xmlns=\"http://www.w3.org/2000/svg\" height=\"24px\"viewBox=\"0 0 24 24\"\n",
              "       width=\"24px\">\n",
              "    <path d=\"M0 0h24v24H0V0z\" fill=\"none\"/>\n",
              "    <path d=\"M18.56 5.44l.94 2.06.94-2.06 2.06-.94-2.06-.94-.94-2.06-.94 2.06-2.06.94zm-11 1L8.5 8.5l.94-2.06 2.06-.94-2.06-.94L8.5 2.5l-.94 2.06-2.06.94zm10 10l.94 2.06.94-2.06 2.06-.94-2.06-.94-.94-2.06-.94 2.06-2.06.94z\"/><path d=\"M17.41 7.96l-1.37-1.37c-.4-.4-.92-.59-1.43-.59-.52 0-1.04.2-1.43.59L10.3 9.45l-7.72 7.72c-.78.78-.78 2.05 0 2.83L4 21.41c.39.39.9.59 1.41.59.51 0 1.02-.2 1.41-.59l7.78-7.78 2.81-2.81c.8-.78.8-2.07 0-2.86zM5.41 20L4 18.59l7.72-7.72 1.47 1.35L5.41 20z\"/>\n",
              "  </svg>\n",
              "      </button>\n",
              "      \n",
              "  <style>\n",
              "    .colab-df-container {\n",
              "      display:flex;\n",
              "      flex-wrap:wrap;\n",
              "      gap: 12px;\n",
              "    }\n",
              "\n",
              "    .colab-df-convert {\n",
              "      background-color: #E8F0FE;\n",
              "      border: none;\n",
              "      border-radius: 50%;\n",
              "      cursor: pointer;\n",
              "      display: none;\n",
              "      fill: #1967D2;\n",
              "      height: 32px;\n",
              "      padding: 0 0 0 0;\n",
              "      width: 32px;\n",
              "    }\n",
              "\n",
              "    .colab-df-convert:hover {\n",
              "      background-color: #E2EBFA;\n",
              "      box-shadow: 0px 1px 2px rgba(60, 64, 67, 0.3), 0px 1px 3px 1px rgba(60, 64, 67, 0.15);\n",
              "      fill: #174EA6;\n",
              "    }\n",
              "\n",
              "    [theme=dark] .colab-df-convert {\n",
              "      background-color: #3B4455;\n",
              "      fill: #D2E3FC;\n",
              "    }\n",
              "\n",
              "    [theme=dark] .colab-df-convert:hover {\n",
              "      background-color: #434B5C;\n",
              "      box-shadow: 0px 1px 3px 1px rgba(0, 0, 0, 0.15);\n",
              "      filter: drop-shadow(0px 1px 2px rgba(0, 0, 0, 0.3));\n",
              "      fill: #FFFFFF;\n",
              "    }\n",
              "  </style>\n",
              "\n",
              "      <script>\n",
              "        const buttonEl =\n",
              "          document.querySelector('#df-a7322a55-0209-498d-9878-b6bb489cc6c3 button.colab-df-convert');\n",
              "        buttonEl.style.display =\n",
              "          google.colab.kernel.accessAllowed ? 'block' : 'none';\n",
              "\n",
              "        async function convertToInteractive(key) {\n",
              "          const element = document.querySelector('#df-a7322a55-0209-498d-9878-b6bb489cc6c3');\n",
              "          const dataTable =\n",
              "            await google.colab.kernel.invokeFunction('convertToInteractive',\n",
              "                                                     [key], {});\n",
              "          if (!dataTable) return;\n",
              "\n",
              "          const docLinkHtml = 'Like what you see? Visit the ' +\n",
              "            '<a target=\"_blank\" href=https://colab.research.google.com/notebooks/data_table.ipynb>data table notebook</a>'\n",
              "            + ' to learn more about interactive tables.';\n",
              "          element.innerHTML = '';\n",
              "          dataTable['output_type'] = 'display_data';\n",
              "          await google.colab.output.renderOutput(dataTable, element);\n",
              "          const docLink = document.createElement('div');\n",
              "          docLink.innerHTML = docLinkHtml;\n",
              "          element.appendChild(docLink);\n",
              "        }\n",
              "      </script>\n",
              "    </div>\n",
              "  </div>\n",
              "  "
            ]
          },
          "metadata": {},
          "execution_count": 35
        }
      ]
    },
    {
      "cell_type": "markdown",
      "source": [
        "The `NAME_INCOME_TYPE` is a pensioner in the above cases.\n",
        "Checking in more detail"
      ],
      "metadata": {
        "id": "weNqzCP4nivS"
      }
    },
    {
      "cell_type": "code",
      "source": [
        "inp0[inp0['DAYS_EMPLOYED'] == 365243].NAME_INCOME_TYPE.value_counts()"
      ],
      "metadata": {
        "colab": {
          "base_uri": "https://localhost:8080/"
        },
        "id": "i4GcykbNns9T",
        "outputId": "b47f6236-9adc-40a5-9cbe-fe5d6e2a8720"
      },
      "execution_count": 36,
      "outputs": [
        {
          "output_type": "execute_result",
          "data": {
            "text/plain": [
              "Pensioner     46748\n",
              "Unemployed       20\n",
              "Name: NAME_INCOME_TYPE, dtype: int64"
            ]
          },
          "metadata": {},
          "execution_count": 36
        }
      ]
    },
    {
      "cell_type": "markdown",
      "source": [
        "This indicates that the DAYS_EMPLOYED of 365243 is either a pensioner or unemployed.\n"
      ],
      "metadata": {
        "id": "MGELu3BInyb3"
      }
    },
    {
      "cell_type": "code",
      "source": [
        "# plotting a box plot for the DAYS_EMPLOYED\n",
        "plt.figure(figsize = (25,4))\n",
        "sns.boxplot(inp0['DAYS_EMPLOYED'])\n",
        "plt.show()"
      ],
      "metadata": {
        "colab": {
          "base_uri": "https://localhost:8080/",
          "height": 0
        },
        "id": "mCL14RIJpCGv",
        "outputId": "cc397632-2be1-4a5e-91d9-029c4a23b52e"
      },
      "execution_count": 37,
      "outputs": [
        {
          "output_type": "display_data",
          "data": {
            "text/plain": [
              "<Figure size 1800x288 with 1 Axes>"
            ],
            "image/png": "[encoded data removed]"
          },
          "metadata": {
            "needs_background": "light"
          }
        }
      ]
    },
    {
      "cell_type": "code",
      "source": [
        "inp0.DAYS_EMPLOYED.quantile([0.5, 0.7, 0.80, 0.81, 0.85, 0.9, 0.95, 0.99])"
      ],
      "metadata": {
        "colab": {
          "base_uri": "https://localhost:8080/"
        },
        "id": "7ehkm5QMpzs7",
        "outputId": "4dab0c6b-dae3-4a12-80ab-4c63049bf001"
      },
      "execution_count": 38,
      "outputs": [
        {
          "output_type": "execute_result",
          "data": {
            "text/plain": [
              "0.50     2223.00\n",
              "0.70     4439.50\n",
              "0.80     9234.00\n",
              "0.81    10994.35\n",
              "0.85   365243.00\n",
              "0.90   365243.00\n",
              "0.95   365243.00\n",
              "0.99   365243.00\n",
              "Name: DAYS_EMPLOYED, dtype: float64"
            ]
          },
          "metadata": {},
          "execution_count": 38
        }
      ]
    },
    {
      "cell_type": "markdown",
      "source": [
        "1. Since pensioners are generally above 60 years and the average days employed can be considered at the 81th percentile for consideration which is 10994 days equivalent to around 30 years \n",
        "2. unemployed applicants DAYS_EMPLOYED Can be replaced by 0"
      ],
      "metadata": {
        "id": "C5wn5DAMo8gj"
      }
    },
    {
      "cell_type": "markdown",
      "source": [
        "### Analysis of the `DAYS_REGISTRATION` column"
      ],
      "metadata": {
        "id": "vbmA-6joVS_R"
      }
    },
    {
      "cell_type": "code",
      "source": [
        "inp0['DAYS_REGISTRATION'].value_counts(normalize = True).head()"
      ],
      "metadata": {
        "colab": {
          "base_uri": "https://localhost:8080/"
        },
        "id": "efQok4uXyFiQ",
        "outputId": "58bc9ee4-5904-4b1e-e40c-06de079207fd"
      },
      "execution_count": 39,
      "outputs": [
        {
          "output_type": "execute_result",
          "data": {
            "text/plain": [
              "-1.00   0.00\n",
              "-6.00   0.00\n",
              "-4.00   0.00\n",
              "-2.00   0.00\n",
              "-7.00   0.00\n",
              "Name: DAYS_REGISTRATION, dtype: float64"
            ]
          },
          "metadata": {},
          "execution_count": 39
        }
      ]
    },
    {
      "cell_type": "code",
      "source": [
        "# converting `DAYS_REGISTRATION` to positive\n",
        "inp0['DAYS_REGISTRATION'] = inp0['DAYS_REGISTRATION'].apply(lambda x: -x if x < 0 else x)"
      ],
      "metadata": {
        "id": "9lOgDV0dyLxT"
      },
      "execution_count": 40,
      "outputs": []
    },
    {
      "cell_type": "code",
      "source": [
        "inp0['DAYS_REGISTRATION'].value_counts().head()"
      ],
      "metadata": {
        "colab": {
          "base_uri": "https://localhost:8080/"
        },
        "id": "hVOavhWUyL6Y",
        "outputId": "7abf9d24-0912-4d23-ac7b-7dc23f2d8d57"
      },
      "execution_count": 41,
      "outputs": [
        {
          "output_type": "execute_result",
          "data": {
            "text/plain": [
              "1.00    100\n",
              "6.00     83\n",
              "4.00     80\n",
              "2.00     78\n",
              "7.00     76\n",
              "Name: DAYS_REGISTRATION, dtype: int64"
            ]
          },
          "metadata": {},
          "execution_count": 41
        }
      ]
    },
    {
      "cell_type": "markdown",
      "source": [
        "### Analysis of the `DAYS_ID_PUBLISH` column"
      ],
      "metadata": {
        "id": "zmBncVo7VTX5"
      }
    },
    {
      "cell_type": "code",
      "source": [
        "inp0['DAYS_ID_PUBLISH'].value_counts(normalize = True).head()"
      ],
      "metadata": {
        "colab": {
          "base_uri": "https://localhost:8080/"
        },
        "id": "T1vhvdcdyecZ",
        "outputId": "bafe74a9-3d56-40cf-de51-1a62fdccc70c"
      },
      "execution_count": 42,
      "outputs": [
        {
          "output_type": "execute_result",
          "data": {
            "text/plain": [
              "-4053.00   0.00\n",
              "-4046.00   0.00\n",
              "-4096.00   0.00\n",
              "-4095.00   0.00\n",
              "-4151.00   0.00\n",
              "Name: DAYS_ID_PUBLISH, dtype: float64"
            ]
          },
          "metadata": {},
          "execution_count": 42
        }
      ]
    },
    {
      "cell_type": "code",
      "source": [
        "# converting `DAYS_ID_PUBLISH` to positive\n",
        "inp0['DAYS_ID_PUBLISH'] = inp0['DAYS_ID_PUBLISH'].apply(lambda x: -x if x < 0 else x)"
      ],
      "metadata": {
        "id": "cMyAUWkeylsL"
      },
      "execution_count": 43,
      "outputs": []
    },
    {
      "cell_type": "code",
      "source": [
        "inp0['DAYS_ID_PUBLISH'].value_counts().head()"
      ],
      "metadata": {
        "colab": {
          "base_uri": "https://localhost:8080/"
        },
        "id": "FJ7NgjsjyhKS",
        "outputId": "3005e4fb-b024-4bcb-97bf-a4871d9e5197"
      },
      "execution_count": 44,
      "outputs": [
        {
          "output_type": "execute_result",
          "data": {
            "text/plain": [
              "4053.00    146\n",
              "4046.00    138\n",
              "4096.00    137\n",
              "4095.00    134\n",
              "4151.00    134\n",
              "Name: DAYS_ID_PUBLISH, dtype: int64"
            ]
          },
          "metadata": {},
          "execution_count": 44
        }
      ]
    },
    {
      "cell_type": "markdown",
      "source": [
        "### Analysis of the `ORGANIZATION_TYPE` column"
      ],
      "metadata": {
        "id": "mp9yMawRVTr0"
      }
    },
    {
      "cell_type": "code",
      "source": [
        "inp0['ORGANIZATION_TYPE'].value_counts()"
      ],
      "metadata": {
        "colab": {
          "base_uri": "https://localhost:8080/"
        },
        "id": "ZSnDL0Yry3wr",
        "outputId": "63059286-0acf-455a-a351-59642959a407"
      },
      "execution_count": 45,
      "outputs": [
        {
          "output_type": "execute_result",
          "data": {
            "text/plain": [
              "Business Entity Type 3    57357\n",
              "XNA                       46768\n",
              "Self-employed             32311\n",
              "Other                     14041\n",
              "Medicine                   9453\n",
              "Business Entity Type 2     8889\n",
              "Government                 8773\n",
              "School                     7539\n",
              "Trade: type 7              6603\n",
              "Kindergarten               5804\n",
              "Construction               5608\n",
              "Business Entity Type 1     5002\n",
              "Transport: type 4          4503\n",
              "Trade: type 3              2912\n",
              "Industry: type 9           2825\n",
              "Security                   2755\n",
              "Industry: type 3           2744\n",
              "Housing                    2505\n",
              "Industry: type 11          2292\n",
              "Military                   2237\n",
              "Bank                       2111\n",
              "Agriculture                2100\n",
              "Police                     1971\n",
              "Transport: type 2          1895\n",
              "Postal                     1858\n",
              "Security Ministries        1686\n",
              "Trade: type 2              1606\n",
              "Restaurant                 1545\n",
              "Services                   1342\n",
              "University                 1127\n",
              "Industry: type 7           1101\n",
              "Transport: type 3          1027\n",
              "Industry: type 1            870\n",
              "Hotel                       814\n",
              "Electricity                 784\n",
              "Industry: type 4            753\n",
              "Trade: type 6               524\n",
              "Industry: type 5            503\n",
              "Insurance                   496\n",
              "Telecom                     496\n",
              "Emergency                   478\n",
              "Industry: type 2            380\n",
              "Advertising                 360\n",
              "Realtor                     331\n",
              "Culture                     312\n",
              "Industry: type 12           307\n",
              "Trade: type 1               294\n",
              "Mobile                      265\n",
              "Legal Services              263\n",
              "Cleaning                    225\n",
              "Transport: type 1           171\n",
              "Industry: type 6             95\n",
              "Industry: type 10            82\n",
              "Religion                     72\n",
              "Industry: type 13            58\n",
              "Trade: type 4                50\n",
              "Trade: type 5                41\n",
              "Industry: type 8             22\n",
              "Name: ORGANIZATION_TYPE, dtype: int64"
            ]
          },
          "metadata": {},
          "execution_count": 45
        }
      ]
    },
    {
      "cell_type": "markdown",
      "source": [
        "Occupation Type cannot be XNA.\n",
        "Replacing XNA with Unknown"
      ],
      "metadata": {
        "id": "Q2mhtLpbzCPf"
      }
    },
    {
      "cell_type": "code",
      "source": [
        "inp0['ORGANIZATION_TYPE'] = inp0['ORGANIZATION_TYPE'].apply(lambda x: 'Unknown' if x=='XNA' else x)  "
      ],
      "metadata": {
        "id": "jC4usgpdzHwd"
      },
      "execution_count": 46,
      "outputs": []
    },
    {
      "cell_type": "markdown",
      "source": [
        "Checking for any incorrect values"
      ],
      "metadata": {
        "id": "yw9GqAVVz_6z"
      }
    },
    {
      "cell_type": "code",
      "source": [
        "inp0['ORGANIZATION_TYPE'].value_counts()"
      ],
      "metadata": {
        "colab": {
          "base_uri": "https://localhost:8080/"
        },
        "id": "-wn5yW660LFJ",
        "outputId": "d0d27eb6-642d-4aaa-9b35-69e3a04bec55"
      },
      "execution_count": 47,
      "outputs": [
        {
          "output_type": "execute_result",
          "data": {
            "text/plain": [
              "Business Entity Type 3    57357\n",
              "Unknown                   46768\n",
              "Self-employed             32311\n",
              "Other                     14041\n",
              "Medicine                   9453\n",
              "Business Entity Type 2     8889\n",
              "Government                 8773\n",
              "School                     7539\n",
              "Trade: type 7              6603\n",
              "Kindergarten               5804\n",
              "Construction               5608\n",
              "Business Entity Type 1     5002\n",
              "Transport: type 4          4503\n",
              "Trade: type 3              2912\n",
              "Industry: type 9           2825\n",
              "Security                   2755\n",
              "Industry: type 3           2744\n",
              "Housing                    2505\n",
              "Industry: type 11          2292\n",
              "Military                   2237\n",
              "Bank                       2111\n",
              "Agriculture                2100\n",
              "Police                     1971\n",
              "Transport: type 2          1895\n",
              "Postal                     1858\n",
              "Security Ministries        1686\n",
              "Trade: type 2              1606\n",
              "Restaurant                 1545\n",
              "Services                   1342\n",
              "University                 1127\n",
              "Industry: type 7           1101\n",
              "Transport: type 3          1027\n",
              "Industry: type 1            870\n",
              "Hotel                       814\n",
              "Electricity                 784\n",
              "Industry: type 4            753\n",
              "Trade: type 6               524\n",
              "Industry: type 5            503\n",
              "Insurance                   496\n",
              "Telecom                     496\n",
              "Emergency                   478\n",
              "Industry: type 2            380\n",
              "Advertising                 360\n",
              "Realtor                     331\n",
              "Culture                     312\n",
              "Industry: type 12           307\n",
              "Trade: type 1               294\n",
              "Mobile                      265\n",
              "Legal Services              263\n",
              "Cleaning                    225\n",
              "Transport: type 1           171\n",
              "Industry: type 6             95\n",
              "Industry: type 10            82\n",
              "Religion                     72\n",
              "Industry: type 13            58\n",
              "Trade: type 4                50\n",
              "Trade: type 5                41\n",
              "Industry: type 8             22\n",
              "Name: ORGANIZATION_TYPE, dtype: int64"
            ]
          },
          "metadata": {},
          "execution_count": 47
        }
      ]
    },
    {
      "cell_type": "markdown",
      "source": [
        "## Handling Outlier for numerical data "
      ],
      "metadata": {
        "id": "co1mMbx80X_W"
      }
    },
    {
      "cell_type": "markdown",
      "source": [
        "### CNT_CHILDREN column analysis"
      ],
      "metadata": {
        "id": "3zjpE4Bp_Ovu"
      }
    },
    {
      "cell_type": "code",
      "source": [
        "inp0['CNT_CHILDREN'].value_counts(normalize = True).sort_values(ascending = False) * 100"
      ],
      "metadata": {
        "id": "0JSuY9cQ3jaB",
        "colab": {
          "base_uri": "https://localhost:8080/"
        },
        "outputId": "9ad34a8e-01af-4129-bcb4-49fa9a313909"
      },
      "execution_count": 48,
      "outputs": [
        {
          "output_type": "execute_result",
          "data": {
            "text/plain": [
              "0    70.06\n",
              "1    19.86\n",
              "2     8.69\n",
              "3     1.22\n",
              "4     0.14\n",
              "5     0.03\n",
              "6     0.01\n",
              "7     0.00\n",
              "8     0.00\n",
              "12    0.00\n",
              "10    0.00\n",
              "14    0.00\n",
              "9     0.00\n",
              "11    0.00\n",
              "19    0.00\n",
              "Name: CNT_CHILDREN, dtype: float64"
            ]
          },
          "metadata": {},
          "execution_count": 48
        }
      ]
    },
    {
      "cell_type": "code",
      "source": [
        "plt.subplots(1,2 ,figsize = (20,8))\n",
        "\n",
        "plt.subplot(1,2,1)\n",
        "sns.boxplot(inp0.CNT_CHILDREN)\n",
        "pltname = 'Boxplot of ' + 'CNT_CHILDREN'\n",
        "plt.title(pltname)\n",
        "\n",
        "plt.subplot(1,2,2)\n",
        "sns.distplot(inp0['CNT_CHILDREN'], color = 'blue')\n",
        "pltname = 'Distplot of ' + 'CNT_CHILDREN'\n",
        "plt.ticklabel_format(style='plain', axis='x')\n",
        "plt.title(pltname)\n",
        "\n",
        "plt.tight_layout(pad = 4)\n",
        "plt.show()\n"
      ],
      "metadata": {
        "colab": {
          "base_uri": "https://localhost:8080/",
          "height": 0
        },
        "id": "nxQP2HZ1_jUR",
        "outputId": "5f150559-07a1-444b-cb02-9a220e5d5f86"
      },
      "execution_count": 49,
      "outputs": [
        {
          "output_type": "display_data",
          "data": {
            "text/plain": [
              "<Figure size 1440x576 with 2 Axes>"
            ],
            "image/png": "[encoded data removed]"
          },
          "metadata": {
            "needs_background": "light"
          }
        }
      ]
    },
    {
      "cell_type": "code",
      "source": [
        ""
      ],
      "metadata": {
        "id": "0qKULRhSISIe"
      },
      "execution_count": 49,
      "outputs": []
    },
    {
      "cell_type": "markdown",
      "source": [
        "**Observations**\n",
        "\n",
        "1. From the above, Applicants with children above 2.5 are outliers and are very minimal\n",
        "\n",
        "**Conslusion**\n",
        "\n",
        "1. Applicants with more than 3 children are outlier cases"
      ],
      "metadata": {
        "id": "cpNONWB5IT94"
      }
    },
    {
      "cell_type": "markdown",
      "source": [
        "### Analysis of AMT_INCOME_TOTAL column"
      ],
      "metadata": {
        "id": "cKP62maCJK8Q"
      }
    },
    {
      "cell_type": "code",
      "source": [
        "(inp0['AMT_INCOME_TOTAL'].value_counts(normalize = True).sort_values(ascending=False) * 100).head()"
      ],
      "metadata": {
        "colab": {
          "base_uri": "https://localhost:8080/"
        },
        "id": "Vc6ge8P1_i13",
        "outputId": "1ab106e4-2462-4f8d-f744-de85d49a4857"
      },
      "execution_count": 50,
      "outputs": [
        {
          "output_type": "execute_result",
          "data": {
            "text/plain": [
              "135000.00   11.61\n",
              "112500.00   10.07\n",
              "157500.00    8.66\n",
              "180000.00    8.04\n",
              "90000.00     7.32\n",
              "Name: AMT_INCOME_TOTAL, dtype: float64"
            ]
          },
          "metadata": {},
          "execution_count": 50
        }
      ]
    },
    {
      "cell_type": "code",
      "source": [
        "inp0['AMT_INCOME_TOTAL'].describe([0.75,0.99,0.999, 0.9999])"
      ],
      "metadata": {
        "colab": {
          "base_uri": "https://localhost:8080/"
        },
        "id": "utO2WrBDJoTd",
        "outputId": "eca2d965-b9b6-405e-f0ff-d5af5bdc3530"
      },
      "execution_count": 51,
      "outputs": [
        {
          "output_type": "execute_result",
          "data": {
            "text/plain": [
              "count       259337.00\n",
              "mean        168842.33\n",
              "std         254607.73\n",
              "min          25650.00\n",
              "50%         146771.91\n",
              "75%         202500.00\n",
              "99%         472500.00\n",
              "99.9%       900000.00\n",
              "99.99%     2250000.00\n",
              "max      117000000.00\n",
              "Name: AMT_INCOME_TOTAL, dtype: float64"
            ]
          },
          "metadata": {},
          "execution_count": 51
        }
      ]
    },
    {
      "cell_type": "markdown",
      "source": [
        "Plotting for 99.99 percentile"
      ],
      "metadata": {
        "id": "Vk4hrPgtKO0M"
      }
    },
    {
      "cell_type": "code",
      "source": [
        "plt.subplots(1,2 ,figsize = (22,8))\n",
        "\n",
        "plt.subplot(1,2,1)\n",
        "sns.boxplot(inp0[inp0['AMT_INCOME_TOTAL'] < 2250000].AMT_INCOME_TOTAL)\n",
        "pltname = 'Boxplot of ' + 'AMT_INCOME_TOTAL'\n",
        "plt.title(pltname)\n",
        "\n",
        "plt.subplot(1,2,2)\n",
        "sns.distplot(inp0[inp0['AMT_INCOME_TOTAL'] < 2250000].AMT_INCOME_TOTAL)\n",
        "pltname = 'Distplot of ' + 'AMT_INCOME_TOTAL'\n",
        "plt.title(pltname)\n",
        "\n",
        "plt.show()"
      ],
      "metadata": {
        "id": "KjA4hwpEJ-KZ"
      },
      "execution_count": null,
      "outputs": []
    },
    {
      "cell_type": "markdown",
      "source": [
        "**Observations**\n",
        "\n",
        "1. Applicants with income of 2250000 are clearly outliers and are at 99.99 percentile \n"
      ],
      "metadata": {
        "id": "DYhj78roKqyA"
      }
    },
    {
      "cell_type": "markdown",
      "source": [
        "### Analysis of CNT_FAM_MEMBERS column"
      ],
      "metadata": {
        "id": "iMjKaxbrLXrc"
      }
    },
    {
      "cell_type": "code",
      "source": [
        "(inp0['CNT_FAM_MEMBERS'].value_counts(normalize = True).sort_values(ascending = False) * 100).head()"
      ],
      "metadata": {
        "id": "azEK7uLALiWm"
      },
      "execution_count": null,
      "outputs": []
    },
    {
      "cell_type": "code",
      "source": [
        "inp0['CNT_FAM_MEMBERS'].describe(percentiles = [0.75,0.99,0.999,0.9999])"
      ],
      "metadata": {
        "id": "2ITzN059Lkl3"
      },
      "execution_count": null,
      "outputs": []
    },
    {
      "cell_type": "code",
      "source": [
        "plt.subplots(1,2 ,figsize = (22,8))\n",
        "\n",
        "plt.subplot(1,2,2)\n",
        "sns.boxplot(inp0[inp0['CNT_FAM_MEMBERS'] <= 8].CNT_FAM_MEMBERS)\n",
        "pltname = 'Boxplot of ' + 'CNT_FAM_MEMBERS'\n",
        "plt.title(pltname)\n",
        "\n",
        "plt.subplot(1,2,1)\n",
        "sns.distplot(inp0[inp0['CNT_FAM_MEMBERS'] <= 8].CNT_FAM_MEMBERS)\n",
        "pltname = 'Distplot of ' + 'CNT_FAM_MEMBERS'\n",
        "plt.title(pltname)\n",
        "\n",
        "plt.show()"
      ],
      "metadata": {
        "id": "SbY9ZExDLo5U"
      },
      "execution_count": null,
      "outputs": []
    },
    {
      "cell_type": "markdown",
      "source": [
        "**Observations**\n",
        "\n",
        "Applicants with more than 5 family members are outliers"
      ],
      "metadata": {
        "id": "_VM4w3hvMCAW"
      }
    },
    {
      "cell_type": "markdown",
      "source": [
        "### Analysis of AMT_ANNUITY column"
      ],
      "metadata": {
        "id": "DywGxJ83MLMi"
      }
    },
    {
      "cell_type": "code",
      "source": [
        "inp0['AMT_ANNUITY'].describe(percentiles = [0.75,0.99,0.999,0.9999])"
      ],
      "metadata": {
        "id": "6DjXaz0iMS4y"
      },
      "execution_count": null,
      "outputs": []
    },
    {
      "cell_type": "code",
      "source": [
        "Q1 = inp0['AMT_ANNUITY'].quantile(0.25)\n",
        "Q3 = inp0['AMT_ANNUITY'].quantile(0.75)\n",
        "IQR = Q3 - Q1\n",
        "print(IQR)\n",
        "\n",
        "Max_value = (Q3 + 1.5 * IQR)\n",
        "print(\"Max value after which the outlier exist: {}\".format(Max_value))"
      ],
      "metadata": {
        "id": "EIJn5jF2MXCq"
      },
      "execution_count": null,
      "outputs": []
    },
    {
      "cell_type": "code",
      "source": [
        "plt.subplots(1,2 ,figsize = (22,8))\n",
        "\n",
        "plt.subplot(1,2,1)\n",
        "sns.boxplot(inp0.AMT_ANNUITY)\n",
        "pltname = 'Boxplot of ' + 'AMT_ANNUITY'\n",
        "plt.title(pltname)\n",
        "\n",
        "plt.subplot(1,2,2)\n",
        "sns.distplot(inp0.AMT_ANNUITY)\n",
        "pltname = 'Distplot of ' + 'AMT_ANNUITY'\n",
        "plt.title(pltname)\n",
        "\n",
        "plt.show()"
      ],
      "metadata": {
        "id": "EUxSxV6_NMne"
      },
      "execution_count": null,
      "outputs": []
    },
    {
      "cell_type": "code",
      "source": [
        "plt.subplots(1,2 ,figsize = (22,8))\n",
        "\n",
        "plt.subplot(1,2,1)\n",
        "sns.boxplot(inp0[inp0['AMT_ANNUITY'] <= 61715.25].AMT_ANNUITY)\n",
        "pltname = 'Boxplot of ' + 'AMT_ANNUITY'\n",
        "plt.title(pltname)\n",
        "\n",
        "plt.subplot(1,2,2)\n",
        "sns.distplot(inp0[inp0['AMT_ANNUITY'] <= 61715.25].AMT_ANNUITY)\n",
        "pltname = 'Distplot of ' + 'AMT_ANNUITY'\n",
        "plt.title(pltname)\n",
        "\n",
        "plt.show()"
      ],
      "metadata": {
        "id": "88V2SwczMzuR"
      },
      "execution_count": null,
      "outputs": []
    },
    {
      "cell_type": "markdown",
      "source": [
        "**Observations**\n",
        "- The outliers exist after 61715.25 (Outlier value is derived using `Max_value` using IQR formula)\n",
        "\n",
        "**Conclusion**\n",
        "-  Applicants with `AMT_ANNUITY` above 61715.25 (calculated using IQR) are outliers"
      ],
      "metadata": {
        "id": "qD7PTGMCNHgf"
      }
    },
    {
      "cell_type": "markdown",
      "source": [
        "### Analysis of AMT_CREDIT column"
      ],
      "metadata": {
        "id": "ZoUBwcKfN5jt"
      }
    },
    {
      "cell_type": "code",
      "source": [
        "inp0['AMT_CREDIT'].describe(percentiles = [0.75,0.99,0.999,0.9999])"
      ],
      "metadata": {
        "id": "9sJeTs7DN4Mr"
      },
      "execution_count": null,
      "outputs": []
    },
    {
      "cell_type": "code",
      "source": [
        "Q1 = inp0['AMT_CREDIT'].quantile(0.25)\n",
        "Q3 = inp0['AMT_CREDIT'].quantile(0.75)\n",
        "IQR = Q3 - Q1\n",
        "print(IQR)\n",
        "\n",
        "Max_value = (Q3 + 1.5 * IQR)\n",
        "print(\"Max value after which the outlier exist: {}\".format(Max_value))"
      ],
      "metadata": {
        "id": "1RN1e5gwN-X9"
      },
      "execution_count": null,
      "outputs": []
    },
    {
      "cell_type": "code",
      "source": [
        "plt.subplots(1,2 ,figsize = (22,8))\n",
        "\n",
        "plt.subplot(1,2,1)\n",
        "sns.boxplot(inp0.AMT_CREDIT)\n",
        "pltname = 'Boxplot of ' + 'AMT_CREDIT'\n",
        "plt.title(pltname)\n",
        "\n",
        "plt.subplot(1,2,2)\n",
        "sns.distplot(inp0.AMT_CREDIT)\n",
        "pltname = 'Distplot of ' + 'AMT_CREDIT'\n",
        "plt.title(pltname)\n",
        "\n",
        "plt.show()"
      ],
      "metadata": {
        "id": "CK1N4aXVODol"
      },
      "execution_count": null,
      "outputs": []
    },
    {
      "cell_type": "code",
      "source": [
        "plt.subplots(1,2 ,figsize = (22,8))\n",
        "\n",
        "plt.subplot(1,2,1)\n",
        "sns.boxplot(inp0[inp0['AMT_CREDIT'] <= 1616625.0].AMT_CREDIT)\n",
        "pltname = 'Boxplot of ' + 'AMT_CREDIT'\n",
        "plt.title(pltname)\n",
        "\n",
        "plt.subplot(1,2,2)\n",
        "sns.distplot(inp0[inp0['AMT_CREDIT'] <= 1616625.0].AMT_CREDIT)\n",
        "pltname = 'Distplot of ' + 'AMT_CREDIT'\n",
        "plt.title(pltname)\n",
        "\n",
        "plt.show()"
      ],
      "metadata": {
        "id": "QkXLsfxuODvM"
      },
      "execution_count": null,
      "outputs": []
    },
    {
      "cell_type": "markdown",
      "source": [
        "**Observations**\n",
        "\n",
        "- From the above it is clear that credit amount above 1616625.0(derieved using the `MAX_VALUE` in IQR is a outlier"
      ],
      "metadata": {
        "id": "a633DoBuOvwW"
      }
    },
    {
      "cell_type": "markdown",
      "source": [
        "### Analysis of AMT_ANNUITY column"
      ],
      "metadata": {
        "id": "cekSofhRPMnd"
      }
    },
    {
      "cell_type": "code",
      "source": [
        "inp0['AMT_ANNUITY'].describe(percentiles = [0.75,0.99,0.999,0.9999])"
      ],
      "metadata": {
        "id": "6Td4AIAaPa5X"
      },
      "execution_count": null,
      "outputs": []
    },
    {
      "cell_type": "code",
      "source": [
        "Q1 = inp0['AMT_ANNUITY'].quantile(0.25)\n",
        "Q3 = inp0['AMT_ANNUITY'].quantile(0.75)\n",
        "IQR = Q3 - Q1\n",
        "print(IQR)\n",
        "\n",
        "Max_value = (Q3 + 1.5 * IQR)\n",
        "print(\"Max value after which the outlier exist: {}\".format(Max_value))"
      ],
      "metadata": {
        "id": "ZbI-zA1kPdDU"
      },
      "execution_count": null,
      "outputs": []
    },
    {
      "cell_type": "code",
      "source": [
        "plt.subplots(1,2 ,figsize = (22,8))\n",
        "\n",
        "plt.subplot(1,2,1)\n",
        "sns.boxplot(inp0.AMT_ANNUITY)\n",
        "pltname = 'Boxplot of ' + 'AMT_ANNUITY'\n",
        "plt.title(pltname)\n",
        "\n",
        "plt.subplot(1,2,2)\n",
        "sns.distplot(inp0.AMT_ANNUITY)\n",
        "pltname = 'Distplot of ' + 'AMT_ANNUITY'\n",
        "plt.title(pltname)\n",
        "\n",
        "plt.show()"
      ],
      "metadata": {
        "id": "n4EhIJNbPg8J"
      },
      "execution_count": null,
      "outputs": []
    },
    {
      "cell_type": "code",
      "source": [
        "plt.subplots(1,2 ,figsize = (22,8))\n",
        "\n",
        "plt.subplot(1,2,1)\n",
        "sns.boxplot(inp0[inp0['AMT_ANNUITY'] <= 61715.25].AMT_ANNUITY)\n",
        "pltname = 'Boxplot of ' + 'AMT_ANNUITY'\n",
        "plt.title(pltname)\n",
        "\n",
        "plt.subplot(1,2,2)\n",
        "sns.distplot(inp0[inp0['AMT_ANNUITY'] <= 61715.25].AMT_ANNUITY)\n",
        "pltname = 'Distplot of ' + 'AMT_ANNUITY'\n",
        "plt.title(pltname)\n",
        "\n",
        "plt.show()"
      ],
      "metadata": {
        "id": "Ep9GoWqFPjhh"
      },
      "execution_count": null,
      "outputs": []
    },
    {
      "cell_type": "markdown",
      "source": [
        "**Observations**\n",
        "\n",
        "- From the above plots it is clear that the outlier exists after 61715.25 which is also derieved from `MAX_VALUE` in IQR"
      ],
      "metadata": {
        "id": "TwJVM2bXP57b"
      }
    },
    {
      "cell_type": "markdown",
      "source": [
        "### Analysis of AMT_GOODS_PRICE column"
      ],
      "metadata": {
        "id": "Qbn6ctCRPOVz"
      }
    },
    {
      "cell_type": "code",
      "source": [
        "inp0['AMT_GOODS_PRICE'].describe(percentiles = [0.75,0.99,0.999,0.9999])"
      ],
      "metadata": {
        "id": "ai-3Wx6YOu9_"
      },
      "execution_count": null,
      "outputs": []
    },
    {
      "cell_type": "code",
      "source": [
        "Q1 = inp0['AMT_GOODS_PRICE'].quantile(0.25)\n",
        "Q3 = inp0['AMT_GOODS_PRICE'].quantile(0.75)\n",
        "IQR = Q3 - Q1\n",
        "print(IQR)\n",
        "\n",
        "Max_value = (Q3 + 1.5 * IQR)\n",
        "print(\"Max value after which the outlier exist: {}\".format(Max_value))"
      ],
      "metadata": {
        "id": "fgmhGo16PsIw"
      },
      "execution_count": null,
      "outputs": []
    },
    {
      "cell_type": "code",
      "source": [
        "plt.subplots(1,2 ,figsize = (22,8))\n",
        "\n",
        "plt.subplot(1,2,1)\n",
        "sns.boxplot(inp0.AMT_GOODS_PRICE)\n",
        "pltname = 'Boxplot of ' + 'AMT_GOODS_PRICE'\n",
        "plt.title(pltname)\n",
        "\n",
        "plt.subplot(1,2,2)\n",
        "sns.distplot(inp0.AMT_GOODS_PRICE)\n",
        "pltname = 'Distplot of ' + 'AMT_GOODS_PRICE'\n",
        "plt.title(pltname)\n",
        "\n",
        "plt.show()"
      ],
      "metadata": {
        "id": "hi5bvPp2PsSc"
      },
      "execution_count": null,
      "outputs": []
    },
    {
      "cell_type": "code",
      "source": [
        "plt.subplots(1,2 ,figsize = (22,8))\n",
        "\n",
        "plt.subplot(1,2,1)\n",
        "sns.boxplot(inp0[inp0['AMT_GOODS_PRICE'] <= 1341000.0].AMT_GOODS_PRICE)\n",
        "pltname = 'Boxplot of ' + 'AMT_GOODS_PRICE'\n",
        "plt.title(pltname)\n",
        "\n",
        "plt.subplot(1,2,2)\n",
        "sns.distplot(inp0[inp0['AMT_GOODS_PRICE'] <= 1341000.0].AMT_GOODS_PRICE)\n",
        "pltname = 'Distplot of ' + 'AMT_GOODS_PRICE'\n",
        "plt.title(pltname)\n",
        "\n",
        "plt.show()"
      ],
      "metadata": {
        "id": "WVRPtaYdPscw"
      },
      "execution_count": null,
      "outputs": []
    },
    {
      "cell_type": "markdown",
      "source": [
        "**Observations**\n",
        "\n",
        "- From the above plots it is clear that the outlier exists after 1341000.0 which is also derieved from `MAX_VALUE` in IQR"
      ],
      "metadata": {
        "id": "gS88F-6AQcgm"
      }
    },
    {
      "cell_type": "markdown",
      "source": [
        "## Analysing imbalance of `TARGET` Column"
      ],
      "metadata": {
        "id": "QUAgZUsUW9IC"
      }
    },
    {
      "cell_type": "code",
      "source": [
        "inp0['TARGET'].value_counts(normalize = True).sort_values() * 100"
      ],
      "metadata": {
        "id": "eYsBJ33X1b30"
      },
      "execution_count": null,
      "outputs": []
    },
    {
      "cell_type": "code",
      "source": [
        "inp0.TARGET.value_counts(normalize=True).plot.pie(autopct='%1.1f%%', startangle=0, shadow=True) \n",
        "plt.show()"
      ],
      "metadata": {
        "id": "_HQ6JUVEXtMB"
      },
      "execution_count": null,
      "outputs": []
    },
    {
      "cell_type": "markdown",
      "source": [
        "**Observations**\n",
        "\n",
        "-  There is imbalance in `TARGET` variable based on the % of observations\n",
        " - `TARGET` value 1 represents client with payment difficulties (he/she had late payment more than X days on at least one of the first Y installments of the loan) which is 8.1% of the data\n",
        " - `TARGET` value 0 represents all other cases than 1. This is 91.9% of the data"
      ],
      "metadata": {
        "id": "zMY-pCR7b_s1"
      }
    },
    {
      "cell_type": "markdown",
      "source": [
        "# Univariate analysis of categorical variables"
      ],
      "metadata": {
        "id": "JG0mjTvicefd"
      }
    },
    {
      "cell_type": "markdown",
      "source": [
        "### Data Split based on TARGET for further analysis"
      ],
      "metadata": {
        "id": "U3nvABdlgJV9"
      }
    },
    {
      "cell_type": "markdown",
      "source": [
        "`TARGET` value 1 represents client with payment difficulties where the applicant had late payment more than X days on at least one of the first Y installments of the loan. This is  8.1% of the data.\n",
        "\n",
        "`TARGET` value 0 represents ontime payments"
      ],
      "metadata": {
        "id": "xBakt6tgg2R-"
      }
    },
    {
      "cell_type": "code",
      "source": [
        "inp01 = inp0[inp0['TARGET'] == 1]\n",
        "\n",
        "inp00 = inp0[inp0['TARGET'] == 0]"
      ],
      "metadata": {
        "id": "ar3Hx_MygOas"
      },
      "execution_count": null,
      "outputs": []
    },
    {
      "cell_type": "markdown",
      "source": [
        "the data of TARGET column has been categorised as 1 in inp01 and 0 in inp00"
      ],
      "metadata": {
        "id": "Epdk6RU9geEk"
      }
    },
    {
      "cell_type": "code",
      "source": [
        "inp01.TARGET.value_counts()"
      ],
      "metadata": {
        "id": "Xg6XPnN7gmQv"
      },
      "execution_count": null,
      "outputs": []
    },
    {
      "cell_type": "code",
      "source": [
        "inp00.TARGET.value_counts()"
      ],
      "metadata": {
        "id": "C8H9Dw2DgtDb"
      },
      "execution_count": null,
      "outputs": []
    },
    {
      "cell_type": "markdown",
      "source": [
        "### Analysis of `NAME_CONTRACT_TYPE`"
      ],
      "metadata": {
        "id": "5EyXG5L5cgF-"
      }
    },
    {
      "cell_type": "code",
      "source": [
        "# NAME_CONTRACT_TYPE with payment difficulties\n",
        "\n",
        "inp01['NAME_CONTRACT_TYPE'].value_counts().sort_values()"
      ],
      "metadata": {
        "id": "0RxhaduWcgMN"
      },
      "execution_count": null,
      "outputs": []
    },
    {
      "cell_type": "code",
      "source": [
        "# NAME_CONTRACT_TYPE with ontime payments\n",
        "\n",
        "inp00['NAME_CONTRACT_TYPE'].value_counts().sort_values()"
      ],
      "metadata": {
        "id": "Y7FN3oVAf-53"
      },
      "execution_count": null,
      "outputs": []
    },
    {
      "cell_type": "markdown",
      "source": [
        "###COUNTPLOT"
      ],
      "metadata": {
        "id": "GmDCMu3iiSYw"
      }
    },
    {
      "cell_type": "code",
      "source": [
        "plt.figure(figsize = [20,8])\n",
        "\n",
        "plt.subplot(1,2,1)\n",
        "pltname = 'NAME_CONTRACT_TYPE' + ' of applicants with payment difficulties'\n",
        "plt.title(pltname)\n",
        "sns.countplot(x = 'NAME_CONTRACT_TYPE', data = inp01)\n",
        "\n",
        "plt.subplot(1,2,2)\n",
        "pltname = 'NAME_CONTRACT_TYPE' + ' of applicants with on-time payments'\n",
        "plt.title(pltname)\n",
        "sns.countplot(x = 'NAME_CONTRACT_TYPE', data = inp00)\n",
        "\n",
        "plt.show()"
      ],
      "metadata": {
        "id": "IwYzEIV0iSiW"
      },
      "execution_count": null,
      "outputs": []
    },
    {
      "cell_type": "markdown",
      "source": [
        "###PIECHART"
      ],
      "metadata": {
        "id": "2zQ7ICmqiNtj"
      }
    },
    {
      "cell_type": "code",
      "source": [
        "plt.figure(figsize = [15,15])\n",
        "\n",
        "plt.subplot(1,2,1)\n",
        "pltname = 'NAME_CONTRACT_TYPE' + ' of applicants with payment difficulties'\n",
        "plt.title(pltname)\n",
        "inp01['NAME_CONTRACT_TYPE'].value_counts().plot.pie(autopct='%1.1f%%', labeldistance=None)\n",
        "plt.legend()\n",
        "\n",
        "plt.subplot(1,2,2)\n",
        "pltname = 'NAME_CONTRACT_TYPE' + ' of applicants with on-time payments'\n",
        "plt.title(pltname)\n",
        "inp00['NAME_CONTRACT_TYPE'].value_counts().plot.pie(autopct='%1.1f%%',labeldistance=None)\n",
        "\n",
        "plt.legend()\n",
        "plt.show()"
      ],
      "metadata": {
        "id": "RfppxAwmhQc6"
      },
      "execution_count": null,
      "outputs": []
    },
    {
      "cell_type": "markdown",
      "source": [
        "**Observations**\n",
        "\n",
        "- There is no significant differences in `NAME_CONTRACT_TYPE` b/w applicants with payment difficulties and on-time payments for both the CountPlot and Piechart\n",
        "\n",
        "**Conclusion**\n",
        "- `NAME_CONTRACT_TYPE` column does not provide any conclusive evidence in favor of applicants with payment difficulties or on-time payments"
      ],
      "metadata": {
        "id": "adRDUEtzcgSu"
      }
    },
    {
      "cell_type": "markdown",
      "source": [
        "### Analysis of `CODE_GENDER`"
      ],
      "metadata": {
        "id": "cI8zkjPYjrAd"
      }
    },
    {
      "cell_type": "code",
      "source": [
        "plt.figure(figsize = [20,8])\n",
        "\n",
        "plt.subplot(1,2,1)\n",
        "pltname = 'CODE_GENDER' + ' of applicants with payment difficulties'\n",
        "plt.title(pltname)\n",
        "sns.countplot(x = 'CODE_GENDER', data = inp01)\n",
        "\n",
        "plt.subplot(1,2,2)\n",
        "pltname = 'CODE_GENDER' + ' of applicants with on-time payments'\n",
        "plt.title(pltname)\n",
        "sns.countplot(x = 'CODE_GENDER', data = inp00)\n",
        "\n",
        "plt.show()"
      ],
      "metadata": {
        "id": "EgyAEqfHcgZA"
      },
      "execution_count": null,
      "outputs": []
    },
    {
      "cell_type": "code",
      "source": [
        "plt.figure(figsize = [15,15])\n",
        "\n",
        "plt.subplot(1,2,1)\n",
        "pltname = 'CODE_GENDER' + ' of applicants with payment difficulties'\n",
        "plt.title(pltname)\n",
        "inp01['CODE_GENDER'].value_counts().plot.pie(autopct='%1.1f%%', labeldistance=None)\n",
        "plt.legend()\n",
        "\n",
        "plt.subplot(1,2,2)\n",
        "pltname = 'CODE_GENDER' + ' of applicants with on-time payments'\n",
        "plt.title(pltname)\n",
        "inp00['CODE_GENDER'].value_counts().plot.pie(autopct='%1.1f%%',labeldistance=None)\n",
        "\n",
        "plt.legend()\n",
        "plt.show()"
      ],
      "metadata": {
        "id": "ssddBrpfj1Fe"
      },
      "execution_count": null,
      "outputs": []
    },
    {
      "cell_type": "markdown",
      "source": [
        "**Observations**\n",
        "\n",
        "- It can be observed from the pie chart that, the percentage of on time payments of male increases by around 9% from on-time payments to applicants with payment difficulties for male.   \n",
        "\n",
        "**Conclusion**\n",
        "- There is a weak inference from the `CODE_GENDER` column that males have higher payment difficulty than Female"
      ],
      "metadata": {
        "id": "L6Zit_Jsj4oI"
      }
    },
    {
      "cell_type": "markdown",
      "source": [
        "### Analysis of `FLAG_OWN_REALTY`"
      ],
      "metadata": {
        "id": "8vjPyQ4Lv5tX"
      }
    },
    {
      "cell_type": "code",
      "source": [
        "plt.figure(figsize = [20,8])\n",
        "\n",
        "plt.subplot(1,2,1)\n",
        "pltname = 'FLAG_OWN_REALTY' + ' of applicants with payment difficulties'\n",
        "plt.title(pltname)\n",
        "sns.countplot(x = 'FLAG_OWN_REALTY', data = inp01)\n",
        "\n",
        "plt.subplot(1,2,2)\n",
        "pltname = 'FLAG_OWN_REALTY' + ' of applicants with on-time payments'\n",
        "plt.title(pltname)\n",
        "sns.countplot(x = 'FLAG_OWN_REALTY', data = inp00)\n",
        "\n",
        "plt.show()"
      ],
      "metadata": {
        "id": "O6QDIHpecgnt"
      },
      "execution_count": null,
      "outputs": []
    },
    {
      "cell_type": "code",
      "source": [
        "plt.figure(figsize = [15,15])\n",
        "\n",
        "plt.subplot(1,2,1)\n",
        "pltname = 'FLAG_OWN_REALTY' + ' of applicants with payment difficulties'\n",
        "plt.title(pltname)\n",
        "inp01['FLAG_OWN_REALTY'].value_counts().plot.pie(autopct='%1.1f%%', labeldistance=None)\n",
        "plt.legend()\n",
        "\n",
        "plt.subplot(1,2,2)\n",
        "pltname = 'FLAG_OWN_REALTY' + ' of applicants with on-time payments'\n",
        "plt.title(pltname)\n",
        "inp00['FLAG_OWN_REALTY'].value_counts().plot.pie(autopct='%1.1f%%',labeldistance=None)\n",
        "\n",
        "plt.legend()\n",
        "plt.show()"
      ],
      "metadata": {
        "id": "JCokMm8McgvZ"
      },
      "execution_count": null,
      "outputs": []
    },
    {
      "cell_type": "markdown",
      "source": [
        "**Observations**\n",
        "\n",
        "- There is no significant differences in `FLAG_OWN_REALTY` b/w applicants with payment difficulties and on-time payments for both the CountPlot and Piechart\n",
        "\n",
        "**Conclusion**\n",
        "- `FLAG_OWN_REALTY` column does not provide any conclusive evidence in favor of applicants with payment difficulties or on-time payments"
      ],
      "metadata": {
        "id": "3GjIFHC2w4Nc"
      }
    },
    {
      "cell_type": "markdown",
      "source": [
        "### Analysis of `NAME_INCOME_TYPE`\n",
        "\n",
        "\n",
        "\n"
      ],
      "metadata": {
        "id": "Am1KGaj3xM8D"
      }
    },
    {
      "cell_type": "code",
      "source": [
        "plt.figure(figsize = [20,8])\n",
        "\n",
        "plt.subplot(1,2,1)\n",
        "pltname = 'NAME_INCOME_TYPE' + ' of applicants with payment difficulties'\n",
        "plt.title(pltname)\n",
        "sns.countplot(x = 'NAME_INCOME_TYPE', data = inp01)\n",
        "plt.xticks(rotation = 90)\n",
        "\n",
        "plt.subplot(1,2,2)\n",
        "pltname = 'NAME_INCOME_TYPE' + ' of applicants with on-time payments'\n",
        "plt.title(pltname)\n",
        "sns.countplot(x = 'NAME_INCOME_TYPE', data = inp00)\n",
        "plt.xticks(rotation = 90)\n",
        "plt.show()"
      ],
      "metadata": {
        "id": "gBUpmaobxpvT"
      },
      "execution_count": null,
      "outputs": []
    },
    {
      "cell_type": "code",
      "source": [
        "plt.figure(figsize = [15,15])\n",
        "\n",
        "plt.subplot(1,2,1)\n",
        "pltname = 'NAME_INCOME_TYPE' + ' of applicants with payment difficulties'\n",
        "plt.title(pltname)\n",
        "inp01['NAME_INCOME_TYPE'].value_counts().plot.pie(autopct='%1.1f%%', labeldistance=None)\n",
        "plt.legend()\n",
        "\n",
        "plt.subplot(1,2,2)\n",
        "pltname = 'NAME_INCOME_TYPE' + ' of applicants with on-time payments'\n",
        "plt.title(pltname)\n",
        "inp00['NAME_INCOME_TYPE'].value_counts().plot.pie(autopct='%1.1f%%',labeldistance=None)\n",
        "\n",
        "plt.legend()\n",
        "plt.show()"
      ],
      "metadata": {
        "id": "VIcbBnUgxroz"
      },
      "execution_count": null,
      "outputs": []
    },
    {
      "cell_type": "markdown",
      "source": [
        "**Observations**\n",
        "\n",
        "- From the Piechart for `NAME_INCOME_TYPE`, we can observe that, working applicants have higher payment difficulties in comparision to commercial associate, pensioner and state servant. \n",
        "- The working applicants were 50.8% of the total who had mande ontime payments whereas the same increased to 61.1% for the payment with difficulties.\n",
        "\n",
        "\n",
        "**Conclusion**\n",
        "- we can conclude that the working applicants have payment with difficulties."
      ],
      "metadata": {
        "id": "BXYf8VnVytjv"
      }
    },
    {
      "cell_type": "markdown",
      "source": [
        "### Analysis of `NAME_EDUCATION_TYPE`"
      ],
      "metadata": {
        "id": "iBRsMyvRxQP7"
      }
    },
    {
      "cell_type": "code",
      "source": [
        "plt.figure(figsize = [20,8])\n",
        "\n",
        "plt.subplot(1,2,1)\n",
        "pltname = 'NAME_EDUCATION_TYPE' + ' of applicants with payment difficulties'\n",
        "plt.title(pltname)\n",
        "sns.countplot(x = 'NAME_EDUCATION_TYPE', data = inp01, order = sorted(inp01['NAME_EDUCATION_TYPE'].unique(), reverse = True))\n",
        "plt.xticks(rotation = 90)\n",
        "\n",
        "plt.subplot(1,2,2)\n",
        "pltname = 'NAME_EDUCATION_TYPE' + ' of applicants with on-time payments'\n",
        "plt.title(pltname)\n",
        "sns.countplot(x = 'NAME_EDUCATION_TYPE', data = inp00, order = sorted(inp00['NAME_EDUCATION_TYPE'].unique(), reverse = True))\n",
        "plt.xticks(rotation = 90)\n",
        "plt.show()"
      ],
      "metadata": {
        "id": "neswGcupz0pd"
      },
      "execution_count": null,
      "outputs": []
    },
    {
      "cell_type": "code",
      "source": [
        "plt.figure(figsize = [15,15])\n",
        "\n",
        "plt.subplot(1,2,1)\n",
        "pltname = 'NAME_EDUCATION_TYPE' + ' of applicants with payment difficulties'\n",
        "plt.title(pltname)\n",
        "inp01['NAME_EDUCATION_TYPE'].value_counts().plot.pie(autopct='%1.1f%%', labeldistance=None)\n",
        "plt.legend()\n",
        "\n",
        "plt.subplot(1,2,2)\n",
        "pltname = 'NAME_EDUCATION_TYPE' + ' of applicants with on-time payments'\n",
        "plt.title(pltname)\n",
        "inp00['NAME_EDUCATION_TYPE'].value_counts().plot.pie(autopct='%1.1f%%',labeldistance=None)\n",
        "\n",
        "plt.legend()\n",
        "plt.show()"
      ],
      "metadata": {
        "id": "RMPgEduxz2eT"
      },
      "execution_count": null,
      "outputs": []
    },
    {
      "cell_type": "markdown",
      "source": [
        "**Observations**\n",
        "\n",
        "- For `NAME_EDUCATION_TYPE` column, the applicants with Seconday Education level have a slightly higher chances of having payment with difficulties as indicated in the pie chart with increase in contribution to the pool of total applicants of Seconday Education from 70.4% in on-time payments to 78.6% to payment with difficulties. \n",
        "\n",
        "**Conclusion**\n",
        "- For `NAME_EDUCATION_TYPE` column, the applicants with Seconday Education level have weak inference for payment with diffilculties."
      ],
      "metadata": {
        "id": "mHnR_eUHyxAw"
      }
    },
    {
      "cell_type": "markdown",
      "source": [
        "### Analysis of `NAME_FAMILY_STATUS`"
      ],
      "metadata": {
        "id": "UisG177hxQv9"
      }
    },
    {
      "cell_type": "code",
      "source": [
        "plt.figure(figsize = [20,8])\n",
        "\n",
        "plt.subplot(1,2,1)\n",
        "pltname = 'NAME_FAMILY_STATUS' + ' of applicants with payment difficulties'\n",
        "plt.title(pltname)\n",
        "sns.countplot(x = 'NAME_FAMILY_STATUS', data = inp01, order = sorted(inp01['NAME_FAMILY_STATUS'].unique(), reverse = True))\n",
        "plt.xticks(rotation = 90)\n",
        "\n",
        "plt.subplot(1,2,2)\n",
        "pltname = 'NAME_FAMILY_STATUS' + ' of applicants with on-time payments'\n",
        "plt.title(pltname)\n",
        "sns.countplot(x = 'NAME_FAMILY_STATUS', data = inp00, order = sorted(inp00['NAME_FAMILY_STATUS'].unique(), reverse = True))\n",
        "plt.xticks(rotation = 90)\n",
        "plt.show()"
      ],
      "metadata": {
        "id": "wdsQdVJY1Vzu"
      },
      "execution_count": null,
      "outputs": []
    },
    {
      "cell_type": "code",
      "source": [
        "plt.figure(figsize = [15,15])\n",
        "\n",
        "plt.subplot(1,2,1)\n",
        "pltname = 'NAME_FAMILY_STATUS' + ' of applicants with payment difficulties'\n",
        "plt.title(pltname)\n",
        "inp01['NAME_FAMILY_STATUS'].value_counts().plot.pie(autopct='%1.1f%%', labeldistance=None)\n",
        "plt.legend()\n",
        "\n",
        "plt.subplot(1,2,2)\n",
        "pltname = 'NAME_FAMILY_STATUS' + ' of applicants with on-time payments'\n",
        "plt.title(pltname)\n",
        "inp00['NAME_FAMILY_STATUS'].value_counts().plot.pie(autopct='%1.1f%%',labeldistance=None)\n",
        "\n",
        "plt.legend()\n",
        "plt.show()"
      ],
      "metadata": {
        "id": "O6T46Jlo1XnR"
      },
      "execution_count": null,
      "outputs": []
    },
    {
      "cell_type": "markdown",
      "source": [
        "**Observations**\n",
        "\n",
        "- Applicants who are 'Married' are 64.3% with on-timepayments and 60.0% with payment difficulties \n",
        "- Applicants who are 'Single/Not Married' are 14.5% with on-timepayments and 17.8% with payment difficulties\n",
        "\n",
        "\n",
        "**Conclusion**\n",
        "\n",
        "- Applicants who are 'Married' or 'Widow' make on-time payments better comparatively. However, this is a weak correlation.\n",
        "- Applicants who are 'Single/not married' have more difficulties with on-time payments comparatively. However, this is a weak correlation.\n"
      ],
      "metadata": {
        "id": "QGf4HsKMyyFu"
      }
    },
    {
      "cell_type": "markdown",
      "source": [
        "## Co-relation for numerical columns for both the cases 0 and 1 of TARGET variable"
      ],
      "metadata": {
        "id": "-kMsHQU5DyF3"
      }
    },
    {
      "cell_type": "code",
      "source": [
        "# Coorelation for applicants with on time payments\n",
        "\n",
        "\n",
        "col_int=list(inp00.select_dtypes('int64').columns)\n",
        "col_float=list(inp00.select_dtypes('float').columns)\n",
        "\n",
        "cols=col_int+col_float\n",
        "\n",
        "Col_Corr = inp00[cols].corr()\n",
        "\n",
        "print(Col_Corr.unstack().sort_values(ascending=False).drop_duplicates())"
      ],
      "metadata": {
        "id": "YqJC_3mScg4K"
      },
      "execution_count": null,
      "outputs": []
    },
    {
      "cell_type": "code",
      "source": [
        "# Coorelation for applicants with payment difficulties\n",
        "\n",
        "col_int=list(inp01.select_dtypes('int64').columns)\n",
        "col_float=list(inp01.select_dtypes('float').columns)\n",
        "\n",
        "cols=col_int+col_float\n",
        "\n",
        "Col_Corr = inp00[cols].corr()\n",
        "\n",
        "print(Col_Corr.unstack().sort_values(ascending=False).drop_duplicates())"
      ],
      "metadata": {
        "id": "Cp-tYuDZcg8E"
      },
      "execution_count": null,
      "outputs": []
    },
    {
      "cell_type": "markdown",
      "source": [
        "**Observations**\n",
        "\n",
        "The Coorelation top 5 +ve and top 5 -ve are same for applicants with ontime payments and applicants with payment difficulties "
      ],
      "metadata": {
        "id": "DzkvzO1nI2cn"
      }
    },
    {
      "cell_type": "markdown",
      "source": [
        "## Univariate analysis of numerical variables"
      ],
      "metadata": {
        "id": "344Aw80aIatW"
      }
    },
    {
      "cell_type": "code",
      "source": [
        "# function to calculate Min_Value and Max_value\n",
        "\n",
        "def fn_IQR_min_max(dataset1,dataset0, column):\n",
        "    Q1 = dataset1[column].quantile(0.25)\n",
        "    Q3 = dataset1[column].quantile(0.75)\n",
        "    IQR = Q3 - Q1\n",
        "    Min_value1 = (Q1 - 1.5 * IQR)\n",
        "    Max_value1 = (Q3 + 1.5 * IQR)\n",
        "\n",
        "    Q1 = dataset0[column].quantile(0.25)\n",
        "    Q3 = dataset0[column].quantile(0.75)\n",
        "    IQR = Q3 - Q1\n",
        "    Min_value0 = (Q1 - 1.5 * IQR)\n",
        "    Max_value0 = (Q3 + 1.5 * IQR)\n",
        "\n",
        "    fn_IQR_list = [Min_value1, Max_value1, Min_value0, Max_value0]\n",
        "    return fn_IQR_list"
      ],
      "metadata": {
        "id": "mi8ZOPV3OJVc"
      },
      "execution_count": null,
      "outputs": []
    },
    {
      "cell_type": "markdown",
      "source": [
        "###  Analysis of AMT_INCOME_TOTAL"
      ],
      "metadata": {
        "id": "5jJmqbHSKW-F"
      }
    },
    {
      "cell_type": "markdown",
      "source": [
        "#### Identifying outlier in both the cases of TARGET variable for AMT_INCOME_TOTAL"
      ],
      "metadata": {
        "id": "8DrRCVazKgo4"
      }
    },
    {
      "cell_type": "code",
      "source": [
        "# checking for outliers in AMT_INCOME_TOTAL\n",
        "outlier_AMT_INCOME_TOTAL = fn_IQR_min_max(inp01, inp00, 'AMT_INCOME_TOTAL')"
      ],
      "metadata": {
        "id": "xUTnJ7kvQE-u"
      },
      "execution_count": null,
      "outputs": []
    },
    {
      "cell_type": "code",
      "source": [
        "# removing outliers and plotting\n",
        "\n",
        "plt.figure(figsize = [22,8])\n",
        "sns.distplot(inp01[inp01['AMT_INCOME_TOTAL'] <= outlier_AMT_INCOME_TOTAL[1]].AMT_INCOME_TOTAL,label = 'Payment difficulties', hist=False)\n",
        "sns.distplot(inp00[inp00['AMT_INCOME_TOTAL'] <= outlier_AMT_INCOME_TOTAL[3]].AMT_INCOME_TOTAL,label = 'On-Time Payments', hist=False)\n",
        "plt.legend()\n",
        "plt.show()"
      ],
      "metadata": {
        "id": "HhzQiMObMY_q"
      },
      "execution_count": null,
      "outputs": []
    },
    {
      "cell_type": "markdown",
      "source": [
        "**Observations**\n",
        "\n",
        "- The TARGET column with payment difficulties has a normal distribution wheareas the On-time payments display erratic spikes which has to be analysed further. "
      ],
      "metadata": {
        "id": "lMJgml4oRJJo"
      }
    },
    {
      "cell_type": "markdown",
      "source": [
        "###  Analysis of AMT_CREDIT"
      ],
      "metadata": {
        "id": "D_eRPz3VJS-8"
      }
    },
    {
      "cell_type": "markdown",
      "source": [
        "#### Identifying outlier in both the cases of TARGET variable for AMT_CREDIT"
      ],
      "metadata": {
        "id": "vF0Myw5rZpoG"
      }
    },
    {
      "cell_type": "code",
      "source": [
        "# checking for outliers in AMT_CREDIT\n",
        "outlier_AMT_CREDIT = fn_IQR_min_max(inp01, inp00, 'AMT_CREDIT')"
      ],
      "metadata": {
        "id": "C8sk2jh6ZrYT"
      },
      "execution_count": null,
      "outputs": []
    },
    {
      "cell_type": "code",
      "source": [
        "# removing outliers and plotting\n",
        "\n",
        "plt.figure(figsize = [22,8])\n",
        "sns.distplot(inp01[inp01['AMT_CREDIT'] <= outlier_AMT_CREDIT[1]].AMT_CREDIT,label = 'Payment difficulties', hist=False)\n",
        "sns.distplot(inp00[inp00['AMT_CREDIT'] <= outlier_AMT_CREDIT[3]].AMT_CREDIT,label = 'On-Time Payments', hist=False)\n",
        "plt.legend()\n",
        "plt.show()"
      ],
      "metadata": {
        "id": "rL72hDtvZrmS"
      },
      "execution_count": null,
      "outputs": []
    },
    {
      "cell_type": "markdown",
      "source": [
        "**Observations**\n",
        "\n",
        "- For `AMT_CREDIT` between 250000 and approximately 650000, there are more applicants with Payment difficulties\n",
        "- For `AMT_CREDIT` > 750000 and `AMT_CREDIT` < 250000 , there are more applicants with On-Time Payments"
      ],
      "metadata": {
        "id": "5Gf5c7A_byrR"
      }
    },
    {
      "cell_type": "markdown",
      "source": [
        "###  Analysis of DAYS_BIRTH"
      ],
      "metadata": {
        "id": "C25f2iD8Ia3M"
      }
    },
    {
      "cell_type": "markdown",
      "source": [
        "#### Identifying outlier in both the cases of TARGET variable for DAYS_BIRTH"
      ],
      "metadata": {
        "id": "pzrqHKg6KPNp"
      }
    },
    {
      "cell_type": "code",
      "source": [
        "# checking for outliers in DAYS_BIRTH\n",
        "outlier_DAYS_BIRTH = fn_IQR_min_max(inp01, inp00, 'DAYS_BIRTH')"
      ],
      "metadata": {
        "id": "Svp5xPrzIbGQ"
      },
      "execution_count": null,
      "outputs": []
    },
    {
      "cell_type": "code",
      "source": [
        "# removing outliers and plotting\n",
        "\n",
        "plt.figure(figsize = [22,8])\n",
        "sns.distplot(inp01[inp01['DAYS_BIRTH'] <= outlier_DAYS_BIRTH[1]].DAYS_BIRTH,label = 'Payment difficulties', hist=False)\n",
        "sns.distplot(inp00[inp00['DAYS_BIRTH'] <= outlier_DAYS_BIRTH[3]].DAYS_BIRTH,label = 'On-Time Payments', hist=False)\n",
        "plt.legend()\n",
        "plt.show()"
      ],
      "metadata": {
        "id": "WutcvVp_IbjG"
      },
      "execution_count": null,
      "outputs": []
    },
    {
      "cell_type": "code",
      "source": [
        "print(15000/365)\n",
        "print(6500/365)"
      ],
      "metadata": {
        "id": "GbuEJNJhesaA"
      },
      "execution_count": null,
      "outputs": []
    },
    {
      "cell_type": "markdown",
      "source": [
        "**Observations**\n",
        "\n",
        "- For `DAYS_BIRTH` between 6500 days and 15000 days which is equivalent to 17 years to 41 years, there are more applicants with Payment difficulties\n",
        "- On the other way, for `DAYS_BIRTH` > 15000 days which is around 41.1 years, there are more applicants with On-Time Payments"
      ],
      "metadata": {
        "id": "v9x1Ie-ieFSi"
      }
    },
    {
      "cell_type": "markdown",
      "source": [
        "###  Analysis of AMT_GOODS_PRICE"
      ],
      "metadata": {
        "id": "wJkRy6WBfk8u"
      }
    },
    {
      "cell_type": "markdown",
      "source": [
        "#### Identifying outlier in both the cases of TARGET variable for AMT_GOODS_PRICE"
      ],
      "metadata": {
        "id": "x7rWWjpbfpXh"
      }
    },
    {
      "cell_type": "code",
      "source": [
        "# checking for outliers in AMT_GOODS_PRICE\n",
        "outlier_AMT_GOODS_PRICE = fn_IQR_min_max(inp01, inp00, 'AMT_GOODS_PRICE')"
      ],
      "metadata": {
        "id": "FpM0iKnAfuCS"
      },
      "execution_count": null,
      "outputs": []
    },
    {
      "cell_type": "code",
      "source": [
        "# removing outliers and plotting\n",
        "\n",
        "plt.figure(figsize = [22,8])\n",
        "sns.distplot(inp01[inp01['AMT_GOODS_PRICE'] <= outlier_AMT_GOODS_PRICE[1]].AMT_GOODS_PRICE,label = 'Payment difficulties', hist=False)\n",
        "sns.distplot(inp00[inp00['AMT_GOODS_PRICE'] <= outlier_AMT_GOODS_PRICE[3]].AMT_GOODS_PRICE,label = 'On-Time Payments', hist=False)\n",
        "plt.legend()\n",
        "plt.show()"
      ],
      "metadata": {
        "id": "jkOyEoYjfzq9"
      },
      "execution_count": null,
      "outputs": []
    },
    {
      "cell_type": "markdown",
      "source": [
        "**Observations**\n",
        "\n",
        "- For `AMT_GOODS_PRICE` between 200000 and 550000 there are more applicants with Payment difficulties\n",
        "- On the other way, for `AMT_GOODS_PRICE` > 550000, there are more applicants with On-Time Payments"
      ],
      "metadata": {
        "id": "n4H198IXhHq_"
      }
    },
    {
      "cell_type": "markdown",
      "source": [
        "###  Analysis of DAYS_EMPLOYED"
      ],
      "metadata": {
        "id": "FMuPikx0fmxp"
      }
    },
    {
      "cell_type": "markdown",
      "source": [
        "#### Identifying outlier in both the cases of TARGET variable for DAYS_EMPLOYED"
      ],
      "metadata": {
        "id": "_Z9laxoBfqwH"
      }
    },
    {
      "cell_type": "code",
      "source": [
        "# checking for outliers in DAYS_EMPLOYED\n",
        "outlier_DAYS_EMPLOYED = fn_IQR_min_max(inp01, inp00, 'DAYS_EMPLOYED')"
      ],
      "metadata": {
        "id": "9llKr_MHfvU3"
      },
      "execution_count": null,
      "outputs": []
    },
    {
      "cell_type": "code",
      "source": [
        "# removing outliers and plotting\n",
        "\n",
        "plt.figure(figsize = [22,8])\n",
        "sns.distplot(inp01[inp01['DAYS_EMPLOYED'] <= outlier_DAYS_EMPLOYED[1]].DAYS_EMPLOYED,label = 'Payment difficulties', hist=False)\n",
        "sns.distplot(inp00[inp00['DAYS_EMPLOYED'] <= outlier_DAYS_EMPLOYED[3]].DAYS_EMPLOYED,label = 'On-Time Payments', hist=False)\n",
        "plt.legend()\n",
        "plt.show()"
      ],
      "metadata": {
        "id": "0WQrZmgOfydV"
      },
      "execution_count": null,
      "outputs": []
    },
    {
      "cell_type": "code",
      "source": [
        "print(2000/365)"
      ],
      "metadata": {
        "id": "xJnSYw3librn"
      },
      "execution_count": null,
      "outputs": []
    },
    {
      "cell_type": "markdown",
      "source": [
        "**Observations**\n",
        "\n",
        "- For `DAYS_EMPLOYED` less than 2000 days which is equivalent to around 5.5 years, there are more applicants with Payment difficulties\n",
        "- On the other way, for `DAYS_EMPLOYED` > 2000 days which is around 5.5 years, there are more applicants with On-Time Payments"
      ],
      "metadata": {
        "id": "WRd9dQY-ia1F"
      }
    },
    {
      "cell_type": "markdown",
      "source": [
        "# Bivariate analysis"
      ],
      "metadata": {
        "id": "Tj2M46HYGAbJ"
      }
    },
    {
      "cell_type": "code",
      "source": [
        "def outlier_range(dataset,column):\n",
        "    Q1 = dataset[column].quantile(0.25)\n",
        "    Q3 = dataset[column].quantile(0.75)\n",
        "    IQR = Q3 - Q1\n",
        "    Max_value = (Q3 + 1.5 * IQR)\n",
        "    return Max_value"
      ],
      "metadata": {
        "id": "G84PtipxbShs"
      },
      "execution_count": null,
      "outputs": []
    },
    {
      "cell_type": "markdown",
      "source": [
        "### Analysis of AMT_INCOME_TOTAL V/S AMT_CREDIT"
      ],
      "metadata": {
        "id": "CPtN7ekrLI_a"
      }
    },
    {
      "cell_type": "markdown",
      "source": [
        "Outlier identification of `AMT_INCOME_TOTAL` with Payment difficulties"
      ],
      "metadata": {
        "id": "8uUVzwuELM9v"
      }
    },
    {
      "cell_type": "code",
      "source": [
        "max_value1_AMT_INCOME_TOTAL = outlier_range(inp01,'AMT_INCOME_TOTAL')\n",
        "max_value1_AMT_INCOME_TOTAL"
      ],
      "metadata": {
        "id": "xKdcroRIcM4m"
      },
      "execution_count": null,
      "outputs": []
    },
    {
      "cell_type": "markdown",
      "source": [
        "Outlier identification of `AMT_CREDIT` with Payment difficulties"
      ],
      "metadata": {
        "id": "2EjsemHkcNRB"
      }
    },
    {
      "cell_type": "code",
      "source": [
        "max_value1_AMT_CREDIT = outlier_range(inp01,'AMT_CREDIT')\n",
        "max_value1_AMT_CREDIT"
      ],
      "metadata": {
        "id": "dqLn9ANWcNfE"
      },
      "execution_count": null,
      "outputs": []
    },
    {
      "cell_type": "markdown",
      "source": [
        "Outlier identification of `AMT_INCOME_TOTAL` with ontime payments"
      ],
      "metadata": {
        "id": "NJUhbLAZcNtE"
      }
    },
    {
      "cell_type": "code",
      "source": [
        "max_value0_AMT_INCOME_TOTAL = outlier_range(inp00,'AMT_INCOME_TOTAL')\n",
        "max_value0_AMT_INCOME_TOTAL"
      ],
      "metadata": {
        "id": "SyyvH38ycN69"
      },
      "execution_count": null,
      "outputs": []
    },
    {
      "cell_type": "markdown",
      "source": [
        "Outlier identification of `AMT_CREDIT` with ontime payments"
      ],
      "metadata": {
        "id": "blyceyo4caOy"
      }
    },
    {
      "cell_type": "code",
      "source": [
        "max_value0_AMT_CREDIT = outlier_range(inp00,'AMT_CREDIT')\n",
        "max_value0_AMT_CREDIT"
      ],
      "metadata": {
        "id": "8ez5aWY3czzM"
      },
      "execution_count": null,
      "outputs": []
    },
    {
      "cell_type": "code",
      "source": [
        "# scatter plot with outliers removed\n",
        "\n",
        "plt.figure(figsize = [20,8])\n",
        "\n",
        "plt.subplot(1,2,1)\n",
        "plt.title('Payment difficulties')\n",
        "sns.scatterplot(x = inp01[inp01['AMT_INCOME_TOTAL'] < max_value1_AMT_INCOME_TOTAL].AMT_INCOME_TOTAL, y = inp01[inp01['AMT_CREDIT'] < max_value1_AMT_CREDIT].AMT_CREDIT, data = inp01)\n",
        "\n",
        "plt.subplot(1,2,2)\n",
        "plt.title('On-Time Payments')\n",
        "sns.scatterplot(x = inp00[inp00['AMT_INCOME_TOTAL'] < max_value0_AMT_INCOME_TOTAL].AMT_INCOME_TOTAL, y = inp00[inp00['AMT_CREDIT'] < max_value0_AMT_CREDIT].AMT_CREDIT, data = inp00)\n",
        "plt.show()"
      ],
      "metadata": {
        "id": "9YLxufcCc6tw"
      },
      "execution_count": null,
      "outputs": []
    },
    {
      "cell_type": "markdown",
      "source": [
        "Observations\n",
        "\n",
        "It is difficult to spot the trend for AMT_INCOME_TOTAL Vs. AMT_CREDIT"
      ],
      "metadata": {
        "id": "Y-1AXYyAd0OA"
      }
    },
    {
      "cell_type": "markdown",
      "source": [
        "## Continuous V/S Categorical variables"
      ],
      "metadata": {
        "id": "AUwYp9xWeOom"
      }
    },
    {
      "cell_type": "markdown",
      "source": [
        "### Analysis of NAME_INCOME_TYPE V/S AMT_GOODS_PRICE V/S CODE_GENDER"
      ],
      "metadata": {
        "id": "B_4EEh3BeUZX"
      }
    },
    {
      "cell_type": "markdown",
      "source": [
        "Outlier identification of `AMT_GOODS_PRICE` with Payment difficulties"
      ],
      "metadata": {
        "id": "WMI3XCHAeiRu"
      }
    },
    {
      "cell_type": "code",
      "source": [
        "max_value1_AMT_GOODS_PRICE = outlier_range(inp01,'AMT_GOODS_PRICE')\n",
        "max_value1_AMT_GOODS_PRICE"
      ],
      "metadata": {
        "id": "aFqNIFdxemdP"
      },
      "execution_count": null,
      "outputs": []
    },
    {
      "cell_type": "markdown",
      "source": [
        "Outlier identification of `AMT_GOODS_PRICE` with On-Time Payments"
      ],
      "metadata": {
        "id": "35BZPpnweom-"
      }
    },
    {
      "cell_type": "code",
      "source": [
        "max_value0_AMT_GOODS_PRICE = outlier_range(inp00,'AMT_GOODS_PRICE')\n",
        "max_value0_AMT_GOODS_PRICE"
      ],
      "metadata": {
        "id": "L9XoZR1weqZ0"
      },
      "execution_count": null,
      "outputs": []
    },
    {
      "cell_type": "markdown",
      "source": [
        "Applicants with Payment difficulties"
      ],
      "metadata": {
        "id": "0kz2Wf7Sew-o"
      }
    },
    {
      "cell_type": "code",
      "source": [
        "inp01.groupby(by = ['NAME_INCOME_TYPE','CODE_GENDER']).AMT_GOODS_PRICE.describe().head()"
      ],
      "metadata": {
        "id": "g8L_PRb1e0Xb"
      },
      "execution_count": null,
      "outputs": []
    },
    {
      "cell_type": "code",
      "source": [
        "# ontime payments\n",
        "\n",
        "inp00.groupby(by = ['NAME_INCOME_TYPE','CODE_GENDER']).AMT_GOODS_PRICE.describe().head()"
      ],
      "metadata": {
        "id": "PgGL1H3Be4JX"
      },
      "execution_count": null,
      "outputs": []
    },
    {
      "cell_type": "code",
      "source": [
        "plt.figure(figsize = [20,12])\n",
        "\n",
        "plt.subplot(1,2,1)\n",
        "plt.title('Payment Difficulties')\n",
        "sns.boxplot(x = 'NAME_INCOME_TYPE', \n",
        "            y = inp01[inp01['AMT_GOODS_PRICE'] < max_value1_AMT_GOODS_PRICE]['AMT_GOODS_PRICE'], \n",
        "            data = inp01)\n",
        "plt.xticks(rotation=90)\n",
        "\n",
        "plt.subplot(1,2,2)\n",
        "plt.title('On-Time Payments')\n",
        "sns.boxplot(x = 'NAME_INCOME_TYPE', \n",
        "            y = inp00[inp00['AMT_GOODS_PRICE'] < max_value0_AMT_GOODS_PRICE]['AMT_GOODS_PRICE'], \n",
        "            data = inp00)\n",
        "plt.xticks(rotation=90)\n",
        "\n",
        "plt.show()"
      ],
      "metadata": {
        "id": "xLfteusLe7cO"
      },
      "execution_count": null,
      "outputs": []
    },
    {
      "cell_type": "markdown",
      "source": [
        "#Analysis of Previous_Application database"
      ],
      "metadata": {
        "id": "UE2JTuTZhY4B"
      }
    },
    {
      "cell_type": "code",
      "source": [
        "inp1 = pd.read_csv(\"previous_application.csv\")"
      ],
      "metadata": {
        "id": "3YHi0O7EhqAJ"
      },
      "execution_count": null,
      "outputs": []
    },
    {
      "cell_type": "code",
      "source": [
        "inp1.head()"
      ],
      "metadata": {
        "id": "z9VbYyWiiOZO"
      },
      "execution_count": null,
      "outputs": []
    },
    {
      "cell_type": "code",
      "source": [
        "inp1.info()"
      ],
      "metadata": {
        "id": "utRzbwXXiQEw"
      },
      "execution_count": null,
      "outputs": []
    },
    {
      "cell_type": "code",
      "source": [
        "inp1.shape()"
      ],
      "metadata": {
        "id": "o_-ZrSsbi8jL"
      },
      "execution_count": null,
      "outputs": []
    },
    {
      "cell_type": "markdown",
      "source": [
        "##Merging datasets"
      ],
      "metadata": {
        "id": "R9VeLGzFicJY"
      }
    },
    {
      "cell_type": "code",
      "source": [
        "df_merge = inp0.merge(inp1, left_on='SK_ID_CURR', right_on='SK_ID_CURR', how='inner')"
      ],
      "metadata": {
        "id": "nPSytsVEiZBN"
      },
      "execution_count": null,
      "outputs": []
    },
    {
      "cell_type": "code",
      "source": [
        "df_merge.head()"
      ],
      "metadata": {
        "id": "3CKEbV_Li3_g"
      },
      "execution_count": null,
      "outputs": []
    },
    {
      "cell_type": "code",
      "source": [
        "df_merge.info()"
      ],
      "metadata": {
        "id": "Q8_5F5Xpi7A-"
      },
      "execution_count": null,
      "outputs": []
    }
  ]
}